{
  "nbformat": 4,
  "nbformat_minor": 0,
  "metadata": {
    "colab": {
      "provenance": [],
      "gpuType": "T4",
      "mount_file_id": "1FnbRvUiwDNkpCPltVxVZOFr5FZ2uHb_5",
      "authorship_tag": "ABX9TyMy9+3XB/NoObsiKkBx0Q4F",
      "include_colab_link": true
    },
    "kernelspec": {
      "name": "python3",
      "display_name": "Python 3"
    },
    "language_info": {
      "name": "python"
    },
    "gpuClass": "standard"
  },
  "cells": [
    {
      "cell_type": "markdown",
      "metadata": {
        "id": "view-in-github",
        "colab_type": "text"
      },
      "source": [
        "<a href=\"https://colab.research.google.com/github/NataliaCondori/IMT344-Project/blob/main/resizeFPS.ipynb\" target=\"_parent\"><img src=\"https://colab.research.google.com/assets/colab-badge.svg\" alt=\"Open In Colab\"/></a>"
      ]
    },
    {
      "cell_type": "code",
      "source": [
        "!pip install moviepy"
      ],
      "metadata": {
        "colab": {
          "base_uri": "https://localhost:8080/"
        },
        "id": "dpRucYl1NJdI",
        "outputId": "ead0fbf5-422a-4f78-c536-c9950f9152a7"
      },
      "execution_count": null,
      "outputs": [
        {
          "output_type": "stream",
          "name": "stdout",
          "text": [
            "Looking in indexes: https://pypi.org/simple, https://us-python.pkg.dev/colab-wheels/public/simple/\n",
            "Requirement already satisfied: moviepy in /usr/local/lib/python3.10/dist-packages (1.0.3)\n",
            "Requirement already satisfied: decorator<5.0,>=4.0.2 in /usr/local/lib/python3.10/dist-packages (from moviepy) (4.4.2)\n",
            "Requirement already satisfied: tqdm<5.0,>=4.11.2 in /usr/local/lib/python3.10/dist-packages (from moviepy) (4.65.0)\n",
            "Requirement already satisfied: requests<3.0,>=2.8.1 in /usr/local/lib/python3.10/dist-packages (from moviepy) (2.27.1)\n",
            "Requirement already satisfied: proglog<=1.0.0 in /usr/local/lib/python3.10/dist-packages (from moviepy) (0.1.10)\n",
            "Requirement already satisfied: numpy>=1.17.3 in /usr/local/lib/python3.10/dist-packages (from moviepy) (1.22.4)\n",
            "Requirement already satisfied: imageio<3.0,>=2.5 in /usr/local/lib/python3.10/dist-packages (from moviepy) (2.25.1)\n",
            "Requirement already satisfied: imageio-ffmpeg>=0.2.0 in /usr/local/lib/python3.10/dist-packages (from moviepy) (0.4.8)\n",
            "Requirement already satisfied: pillow>=8.3.2 in /usr/local/lib/python3.10/dist-packages (from imageio<3.0,>=2.5->moviepy) (8.4.0)\n",
            "Requirement already satisfied: urllib3<1.27,>=1.21.1 in /usr/local/lib/python3.10/dist-packages (from requests<3.0,>=2.8.1->moviepy) (1.26.15)\n",
            "Requirement already satisfied: certifi>=2017.4.17 in /usr/local/lib/python3.10/dist-packages (from requests<3.0,>=2.8.1->moviepy) (2022.12.7)\n",
            "Requirement already satisfied: charset-normalizer~=2.0.0 in /usr/local/lib/python3.10/dist-packages (from requests<3.0,>=2.8.1->moviepy) (2.0.12)\n",
            "Requirement already satisfied: idna<4,>=2.5 in /usr/local/lib/python3.10/dist-packages (from requests<3.0,>=2.8.1->moviepy) (3.4)\n"
          ]
        }
      ]
    },
    {
      "cell_type": "code",
      "execution_count": null,
      "metadata": {
        "colab": {
          "base_uri": "https://localhost:8080/"
        },
        "id": "6_6gyNHfK-FJ",
        "outputId": "e52286af-78a7-43d5-ac57-e85fe6420fe2"
      },
      "outputs": [
        {
          "output_type": "stream",
          "name": "stdout",
          "text": [
            "Mounted at /content/gdrive\n",
            "Processing video /content/gdrive/MyDrive/VISION ARTIFICIAL/Dataset Proyecto /14 Primo/primo (1).mp4...\n",
            "Moviepy - Building video /content/gdrive/MyDrive/VISION ARTIFICIAL/Dataset Proyecto /14 Primo/normalized_primo (1).mp4.\n",
            "MoviePy - Writing audio in normalized_primo (1)TEMP_MPY_wvf_snd.mp3\n"
          ]
        },
        {
          "output_type": "stream",
          "name": "stderr",
          "text": []
        },
        {
          "output_type": "stream",
          "name": "stdout",
          "text": [
            "MoviePy - Done.\n",
            "Moviepy - Writing video /content/gdrive/MyDrive/VISION ARTIFICIAL/Dataset Proyecto /14 Primo/normalized_primo (1).mp4\n",
            "\n"
          ]
        },
        {
          "output_type": "stream",
          "name": "stderr",
          "text": [
            "t:  99%|█████████▉| 192/193 [00:17<00:00,  7.22it/s, now=None]WARNING:py.warnings:/usr/local/lib/python3.10/dist-packages/moviepy/video/io/ffmpeg_reader.py:123: UserWarning: Warning: in file /content/gdrive/MyDrive/VISION ARTIFICIAL/Dataset Proyecto /14 Primo/primo (1).mp4, 6220800 bytes wanted but 0 bytes read,at frame 72/73, at time 2.40/2.41 sec. Using the last valid frame instead.\n",
            "  warnings.warn(\"Warning: in file %s, \"%(self.filename)+\n",
            "\n"
          ]
        },
        {
          "output_type": "stream",
          "name": "stdout",
          "text": [
            "Moviepy - Done !\n",
            "Moviepy - video ready /content/gdrive/MyDrive/VISION ARTIFICIAL/Dataset Proyecto /14 Primo/normalized_primo (1).mp4\n",
            "Normalized video saved as /content/gdrive/MyDrive/VISION ARTIFICIAL/Dataset Proyecto /14 Primo/normalized_primo (1).mp4\n",
            "\n",
            "Processing video /content/gdrive/MyDrive/VISION ARTIFICIAL/Dataset Proyecto /14 Primo/primo (2).mp4...\n",
            "Moviepy - Building video /content/gdrive/MyDrive/VISION ARTIFICIAL/Dataset Proyecto /14 Primo/normalized_primo (2).mp4.\n",
            "MoviePy - Writing audio in normalized_primo (2)TEMP_MPY_wvf_snd.mp3\n"
          ]
        },
        {
          "output_type": "stream",
          "name": "stderr",
          "text": []
        },
        {
          "output_type": "stream",
          "name": "stdout",
          "text": [
            "MoviePy - Done.\n",
            "Moviepy - Writing video /content/gdrive/MyDrive/VISION ARTIFICIAL/Dataset Proyecto /14 Primo/normalized_primo (2).mp4\n",
            "\n"
          ]
        },
        {
          "output_type": "stream",
          "name": "stderr",
          "text": [
            "t: 100%|██████████| 201/201 [00:15<00:00,  9.12it/s, now=None]WARNING:py.warnings:/usr/local/lib/python3.10/dist-packages/moviepy/video/io/ffmpeg_reader.py:123: UserWarning: Warning: in file /content/gdrive/MyDrive/VISION ARTIFICIAL/Dataset Proyecto /14 Primo/primo (2).mp4, 6220800 bytes wanted but 0 bytes read,at frame 75/76, at time 2.50/2.51 sec. Using the last valid frame instead.\n",
            "  warnings.warn(\"Warning: in file %s, \"%(self.filename)+\n",
            "\n"
          ]
        },
        {
          "output_type": "stream",
          "name": "stdout",
          "text": [
            "Moviepy - Done !\n",
            "Moviepy - video ready /content/gdrive/MyDrive/VISION ARTIFICIAL/Dataset Proyecto /14 Primo/normalized_primo (2).mp4\n",
            "Normalized video saved as /content/gdrive/MyDrive/VISION ARTIFICIAL/Dataset Proyecto /14 Primo/normalized_primo (2).mp4\n",
            "\n",
            "Processing video /content/gdrive/MyDrive/VISION ARTIFICIAL/Dataset Proyecto /14 Primo/primo (3).mp4...\n",
            "Moviepy - Building video /content/gdrive/MyDrive/VISION ARTIFICIAL/Dataset Proyecto /14 Primo/normalized_primo (3).mp4.\n",
            "MoviePy - Writing audio in normalized_primo (3)TEMP_MPY_wvf_snd.mp3\n"
          ]
        },
        {
          "output_type": "stream",
          "name": "stderr",
          "text": []
        },
        {
          "output_type": "stream",
          "name": "stdout",
          "text": [
            "MoviePy - Done.\n",
            "Moviepy - Writing video /content/gdrive/MyDrive/VISION ARTIFICIAL/Dataset Proyecto /14 Primo/normalized_primo (3).mp4\n",
            "\n"
          ]
        },
        {
          "output_type": "stream",
          "name": "stderr",
          "text": [
            "t:  99%|█████████▉| 182/183 [00:14<00:00,  8.46it/s, now=None]WARNING:py.warnings:/usr/local/lib/python3.10/dist-packages/moviepy/video/io/ffmpeg_reader.py:123: UserWarning: Warning: in file /content/gdrive/MyDrive/VISION ARTIFICIAL/Dataset Proyecto /14 Primo/primo (3).mp4, 6220800 bytes wanted but 0 bytes read,at frame 68/69, at time 2.27/2.28 sec. Using the last valid frame instead.\n",
            "  warnings.warn(\"Warning: in file %s, \"%(self.filename)+\n",
            "\n"
          ]
        },
        {
          "output_type": "stream",
          "name": "stdout",
          "text": [
            "Moviepy - Done !\n",
            "Moviepy - video ready /content/gdrive/MyDrive/VISION ARTIFICIAL/Dataset Proyecto /14 Primo/normalized_primo (3).mp4\n",
            "Normalized video saved as /content/gdrive/MyDrive/VISION ARTIFICIAL/Dataset Proyecto /14 Primo/normalized_primo (3).mp4\n",
            "\n",
            "Processing video /content/gdrive/MyDrive/VISION ARTIFICIAL/Dataset Proyecto /14 Primo/primo (4).mp4...\n",
            "Moviepy - Building video /content/gdrive/MyDrive/VISION ARTIFICIAL/Dataset Proyecto /14 Primo/normalized_primo (4).mp4.\n",
            "MoviePy - Writing audio in normalized_primo (4)TEMP_MPY_wvf_snd.mp3\n"
          ]
        },
        {
          "output_type": "stream",
          "name": "stderr",
          "text": []
        },
        {
          "output_type": "stream",
          "name": "stdout",
          "text": [
            "MoviePy - Done.\n",
            "Moviepy - Writing video /content/gdrive/MyDrive/VISION ARTIFICIAL/Dataset Proyecto /14 Primo/normalized_primo (4).mp4\n",
            "\n"
          ]
        },
        {
          "output_type": "stream",
          "name": "stderr",
          "text": [
            "t:  99%|█████████▉| 197/199 [00:15<00:00, 13.14it/s, now=None]WARNING:py.warnings:/usr/local/lib/python3.10/dist-packages/moviepy/video/io/ffmpeg_reader.py:123: UserWarning: Warning: in file /content/gdrive/MyDrive/VISION ARTIFICIAL/Dataset Proyecto /14 Primo/primo (4).mp4, 6220800 bytes wanted but 0 bytes read,at frame 74/75, at time 2.47/2.48 sec. Using the last valid frame instead.\n",
            "  warnings.warn(\"Warning: in file %s, \"%(self.filename)+\n",
            "\n"
          ]
        },
        {
          "output_type": "stream",
          "name": "stdout",
          "text": [
            "Moviepy - Done !\n",
            "Moviepy - video ready /content/gdrive/MyDrive/VISION ARTIFICIAL/Dataset Proyecto /14 Primo/normalized_primo (4).mp4\n",
            "Normalized video saved as /content/gdrive/MyDrive/VISION ARTIFICIAL/Dataset Proyecto /14 Primo/normalized_primo (4).mp4\n",
            "\n",
            "Processing video /content/gdrive/MyDrive/VISION ARTIFICIAL/Dataset Proyecto /14 Primo/primo (5).mp4...\n",
            "Moviepy - Building video /content/gdrive/MyDrive/VISION ARTIFICIAL/Dataset Proyecto /14 Primo/normalized_primo (5).mp4.\n",
            "MoviePy - Writing audio in normalized_primo (5)TEMP_MPY_wvf_snd.mp3\n"
          ]
        },
        {
          "output_type": "stream",
          "name": "stderr",
          "text": []
        },
        {
          "output_type": "stream",
          "name": "stdout",
          "text": [
            "MoviePy - Done.\n",
            "Moviepy - Writing video /content/gdrive/MyDrive/VISION ARTIFICIAL/Dataset Proyecto /14 Primo/normalized_primo (5).mp4\n",
            "\n"
          ]
        },
        {
          "output_type": "stream",
          "name": "stderr",
          "text": [
            "t:  99%|█████████▉| 195/196 [00:18<00:00, 16.05it/s, now=None]WARNING:py.warnings:/usr/local/lib/python3.10/dist-packages/moviepy/video/io/ffmpeg_reader.py:123: UserWarning: Warning: in file /content/gdrive/MyDrive/VISION ARTIFICIAL/Dataset Proyecto /14 Primo/primo (5).mp4, 6220800 bytes wanted but 0 bytes read,at frame 73/74, at time 2.43/2.44 sec. Using the last valid frame instead.\n",
            "  warnings.warn(\"Warning: in file %s, \"%(self.filename)+\n",
            "\n"
          ]
        },
        {
          "output_type": "stream",
          "name": "stdout",
          "text": [
            "Moviepy - Done !\n",
            "Moviepy - video ready /content/gdrive/MyDrive/VISION ARTIFICIAL/Dataset Proyecto /14 Primo/normalized_primo (5).mp4\n",
            "Normalized video saved as /content/gdrive/MyDrive/VISION ARTIFICIAL/Dataset Proyecto /14 Primo/normalized_primo (5).mp4\n",
            "\n",
            "Processing video /content/gdrive/MyDrive/VISION ARTIFICIAL/Dataset Proyecto /14 Primo/primo (6).mp4...\n",
            "Moviepy - Building video /content/gdrive/MyDrive/VISION ARTIFICIAL/Dataset Proyecto /14 Primo/normalized_primo (6).mp4.\n",
            "MoviePy - Writing audio in normalized_primo (6)TEMP_MPY_wvf_snd.mp3\n"
          ]
        },
        {
          "output_type": "stream",
          "name": "stderr",
          "text": []
        },
        {
          "output_type": "stream",
          "name": "stdout",
          "text": [
            "MoviePy - Done.\n",
            "Moviepy - Writing video /content/gdrive/MyDrive/VISION ARTIFICIAL/Dataset Proyecto /14 Primo/normalized_primo (6).mp4\n",
            "\n"
          ]
        },
        {
          "output_type": "stream",
          "name": "stderr",
          "text": [
            "t: 100%|██████████| 196/196 [00:16<00:00, 16.73it/s, now=None]WARNING:py.warnings:/usr/local/lib/python3.10/dist-packages/moviepy/video/io/ffmpeg_reader.py:123: UserWarning: Warning: in file /content/gdrive/MyDrive/VISION ARTIFICIAL/Dataset Proyecto /14 Primo/primo (6).mp4, 6220800 bytes wanted but 0 bytes read,at frame 73/74, at time 2.43/2.44 sec. Using the last valid frame instead.\n",
            "  warnings.warn(\"Warning: in file %s, \"%(self.filename)+\n",
            "\n"
          ]
        },
        {
          "output_type": "stream",
          "name": "stdout",
          "text": [
            "Moviepy - Done !\n",
            "Moviepy - video ready /content/gdrive/MyDrive/VISION ARTIFICIAL/Dataset Proyecto /14 Primo/normalized_primo (6).mp4\n",
            "Normalized video saved as /content/gdrive/MyDrive/VISION ARTIFICIAL/Dataset Proyecto /14 Primo/normalized_primo (6).mp4\n",
            "\n",
            "Processing video /content/gdrive/MyDrive/VISION ARTIFICIAL/Dataset Proyecto /14 Primo/primo (7).mp4...\n",
            "Moviepy - Building video /content/gdrive/MyDrive/VISION ARTIFICIAL/Dataset Proyecto /14 Primo/normalized_primo (7).mp4.\n",
            "MoviePy - Writing audio in normalized_primo (7)TEMP_MPY_wvf_snd.mp3\n"
          ]
        },
        {
          "output_type": "stream",
          "name": "stderr",
          "text": []
        },
        {
          "output_type": "stream",
          "name": "stdout",
          "text": [
            "MoviePy - Done.\n",
            "Moviepy - Writing video /content/gdrive/MyDrive/VISION ARTIFICIAL/Dataset Proyecto /14 Primo/normalized_primo (7).mp4\n",
            "\n"
          ]
        },
        {
          "output_type": "stream",
          "name": "stderr",
          "text": []
        },
        {
          "output_type": "stream",
          "name": "stdout",
          "text": [
            "Moviepy - Done !\n",
            "Moviepy - video ready /content/gdrive/MyDrive/VISION ARTIFICIAL/Dataset Proyecto /14 Primo/normalized_primo (7).mp4\n",
            "Normalized video saved as /content/gdrive/MyDrive/VISION ARTIFICIAL/Dataset Proyecto /14 Primo/normalized_primo (7).mp4\n",
            "\n",
            "Processing video /content/gdrive/MyDrive/VISION ARTIFICIAL/Dataset Proyecto /14 Primo/primo (8).mp4...\n",
            "Moviepy - Building video /content/gdrive/MyDrive/VISION ARTIFICIAL/Dataset Proyecto /14 Primo/normalized_primo (8).mp4.\n",
            "MoviePy - Writing audio in normalized_primo (8)TEMP_MPY_wvf_snd.mp3\n"
          ]
        },
        {
          "output_type": "stream",
          "name": "stderr",
          "text": []
        },
        {
          "output_type": "stream",
          "name": "stdout",
          "text": [
            "MoviePy - Done.\n",
            "Moviepy - Writing video /content/gdrive/MyDrive/VISION ARTIFICIAL/Dataset Proyecto /14 Primo/normalized_primo (8).mp4\n",
            "\n"
          ]
        },
        {
          "output_type": "stream",
          "name": "stderr",
          "text": [
            "t:  99%|█████████▉| 178/180 [00:14<00:00, 13.19it/s, now=None]WARNING:py.warnings:/usr/local/lib/python3.10/dist-packages/moviepy/video/io/ffmpeg_reader.py:123: UserWarning: Warning: in file /content/gdrive/MyDrive/VISION ARTIFICIAL/Dataset Proyecto /14 Primo/primo (8).mp4, 6220800 bytes wanted but 0 bytes read,at frame 67/68, at time 2.23/2.25 sec. Using the last valid frame instead.\n",
            "  warnings.warn(\"Warning: in file %s, \"%(self.filename)+\n",
            "\n"
          ]
        },
        {
          "output_type": "stream",
          "name": "stdout",
          "text": [
            "Moviepy - Done !\n",
            "Moviepy - video ready /content/gdrive/MyDrive/VISION ARTIFICIAL/Dataset Proyecto /14 Primo/normalized_primo (8).mp4\n",
            "Normalized video saved as /content/gdrive/MyDrive/VISION ARTIFICIAL/Dataset Proyecto /14 Primo/normalized_primo (8).mp4\n",
            "\n",
            "Processing video /content/gdrive/MyDrive/VISION ARTIFICIAL/Dataset Proyecto /14 Primo/primo (9).mp4...\n",
            "Moviepy - Building video /content/gdrive/MyDrive/VISION ARTIFICIAL/Dataset Proyecto /14 Primo/normalized_primo (9).mp4.\n",
            "MoviePy - Writing audio in normalized_primo (9)TEMP_MPY_wvf_snd.mp3\n"
          ]
        },
        {
          "output_type": "stream",
          "name": "stderr",
          "text": []
        },
        {
          "output_type": "stream",
          "name": "stdout",
          "text": [
            "MoviePy - Done.\n",
            "Moviepy - Writing video /content/gdrive/MyDrive/VISION ARTIFICIAL/Dataset Proyecto /14 Primo/normalized_primo (9).mp4\n",
            "\n"
          ]
        },
        {
          "output_type": "stream",
          "name": "stderr",
          "text": [
            "t:  99%|█████████▉| 179/180 [00:14<00:00, 14.73it/s, now=None]WARNING:py.warnings:/usr/local/lib/python3.10/dist-packages/moviepy/video/io/ffmpeg_reader.py:123: UserWarning: Warning: in file /content/gdrive/MyDrive/VISION ARTIFICIAL/Dataset Proyecto /14 Primo/primo (9).mp4, 6220800 bytes wanted but 0 bytes read,at frame 67/68, at time 2.23/2.25 sec. Using the last valid frame instead.\n",
            "  warnings.warn(\"Warning: in file %s, \"%(self.filename)+\n",
            "\n"
          ]
        },
        {
          "output_type": "stream",
          "name": "stdout",
          "text": [
            "Moviepy - Done !\n",
            "Moviepy - video ready /content/gdrive/MyDrive/VISION ARTIFICIAL/Dataset Proyecto /14 Primo/normalized_primo (9).mp4\n",
            "Normalized video saved as /content/gdrive/MyDrive/VISION ARTIFICIAL/Dataset Proyecto /14 Primo/normalized_primo (9).mp4\n",
            "\n",
            "Processing video /content/gdrive/MyDrive/VISION ARTIFICIAL/Dataset Proyecto /14 Primo/primo (10).mp4...\n",
            "Moviepy - Building video /content/gdrive/MyDrive/VISION ARTIFICIAL/Dataset Proyecto /14 Primo/normalized_primo (10).mp4.\n",
            "MoviePy - Writing audio in normalized_primo (10)TEMP_MPY_wvf_snd.mp3\n"
          ]
        },
        {
          "output_type": "stream",
          "name": "stderr",
          "text": []
        },
        {
          "output_type": "stream",
          "name": "stdout",
          "text": [
            "MoviePy - Done.\n",
            "Moviepy - Writing video /content/gdrive/MyDrive/VISION ARTIFICIAL/Dataset Proyecto /14 Primo/normalized_primo (10).mp4\n",
            "\n"
          ]
        },
        {
          "output_type": "stream",
          "name": "stderr",
          "text": [
            "t: 100%|██████████| 207/207 [00:16<00:00, 16.42it/s, now=None]WARNING:py.warnings:/usr/local/lib/python3.10/dist-packages/moviepy/video/io/ffmpeg_reader.py:123: UserWarning: Warning: in file /content/gdrive/MyDrive/VISION ARTIFICIAL/Dataset Proyecto /14 Primo/primo (10).mp4, 6220800 bytes wanted but 0 bytes read,at frame 77/78, at time 2.57/2.58 sec. Using the last valid frame instead.\n",
            "  warnings.warn(\"Warning: in file %s, \"%(self.filename)+\n",
            "\n"
          ]
        },
        {
          "output_type": "stream",
          "name": "stdout",
          "text": [
            "Moviepy - Done !\n",
            "Moviepy - video ready /content/gdrive/MyDrive/VISION ARTIFICIAL/Dataset Proyecto /14 Primo/normalized_primo (10).mp4\n",
            "Normalized video saved as /content/gdrive/MyDrive/VISION ARTIFICIAL/Dataset Proyecto /14 Primo/normalized_primo (10).mp4\n",
            "\n",
            "Processing video /content/gdrive/MyDrive/VISION ARTIFICIAL/Dataset Proyecto /14 Primo/primo (11).mp4...\n",
            "Moviepy - Building video /content/gdrive/MyDrive/VISION ARTIFICIAL/Dataset Proyecto /14 Primo/normalized_primo (11).mp4.\n",
            "MoviePy - Writing audio in normalized_primo (11)TEMP_MPY_wvf_snd.mp3\n"
          ]
        },
        {
          "output_type": "stream",
          "name": "stderr",
          "text": []
        },
        {
          "output_type": "stream",
          "name": "stdout",
          "text": [
            "MoviePy - Done.\n",
            "Moviepy - Writing video /content/gdrive/MyDrive/VISION ARTIFICIAL/Dataset Proyecto /14 Primo/normalized_primo (11).mp4\n",
            "\n"
          ]
        },
        {
          "output_type": "stream",
          "name": "stderr",
          "text": [
            "t:  99%|█████████▉| 198/199 [00:15<00:00, 12.00it/s, now=None]WARNING:py.warnings:/usr/local/lib/python3.10/dist-packages/moviepy/video/io/ffmpeg_reader.py:123: UserWarning: Warning: in file /content/gdrive/MyDrive/VISION ARTIFICIAL/Dataset Proyecto /14 Primo/primo (11).mp4, 6220800 bytes wanted but 0 bytes read,at frame 74/75, at time 2.47/2.48 sec. Using the last valid frame instead.\n",
            "  warnings.warn(\"Warning: in file %s, \"%(self.filename)+\n",
            "\n"
          ]
        },
        {
          "output_type": "stream",
          "name": "stdout",
          "text": [
            "Moviepy - Done !\n",
            "Moviepy - video ready /content/gdrive/MyDrive/VISION ARTIFICIAL/Dataset Proyecto /14 Primo/normalized_primo (11).mp4\n",
            "Normalized video saved as /content/gdrive/MyDrive/VISION ARTIFICIAL/Dataset Proyecto /14 Primo/normalized_primo (11).mp4\n",
            "\n",
            "Processing video /content/gdrive/MyDrive/VISION ARTIFICIAL/Dataset Proyecto /14 Primo/primo (12).mp4...\n",
            "Moviepy - Building video /content/gdrive/MyDrive/VISION ARTIFICIAL/Dataset Proyecto /14 Primo/normalized_primo (12).mp4.\n",
            "MoviePy - Writing audio in normalized_primo (12)TEMP_MPY_wvf_snd.mp3\n"
          ]
        },
        {
          "output_type": "stream",
          "name": "stderr",
          "text": []
        },
        {
          "output_type": "stream",
          "name": "stdout",
          "text": [
            "MoviePy - Done.\n",
            "Moviepy - Writing video /content/gdrive/MyDrive/VISION ARTIFICIAL/Dataset Proyecto /14 Primo/normalized_primo (12).mp4\n",
            "\n"
          ]
        },
        {
          "output_type": "stream",
          "name": "stderr",
          "text": []
        },
        {
          "output_type": "stream",
          "name": "stdout",
          "text": [
            "Moviepy - Done !\n",
            "Moviepy - video ready /content/gdrive/MyDrive/VISION ARTIFICIAL/Dataset Proyecto /14 Primo/normalized_primo (12).mp4\n",
            "Normalized video saved as /content/gdrive/MyDrive/VISION ARTIFICIAL/Dataset Proyecto /14 Primo/normalized_primo (12).mp4\n",
            "\n",
            "Processing video /content/gdrive/MyDrive/VISION ARTIFICIAL/Dataset Proyecto /14 Primo/primo (13).mp4...\n",
            "Moviepy - Building video /content/gdrive/MyDrive/VISION ARTIFICIAL/Dataset Proyecto /14 Primo/normalized_primo (13).mp4.\n",
            "MoviePy - Writing audio in normalized_primo (13)TEMP_MPY_wvf_snd.mp3\n"
          ]
        },
        {
          "output_type": "stream",
          "name": "stderr",
          "text": []
        },
        {
          "output_type": "stream",
          "name": "stdout",
          "text": [
            "MoviePy - Done.\n",
            "Moviepy - Writing video /content/gdrive/MyDrive/VISION ARTIFICIAL/Dataset Proyecto /14 Primo/normalized_primo (13).mp4\n",
            "\n"
          ]
        },
        {
          "output_type": "stream",
          "name": "stderr",
          "text": [
            "t:  99%|█████████▉| 176/177 [00:14<00:00,  8.54it/s, now=None]WARNING:py.warnings:/usr/local/lib/python3.10/dist-packages/moviepy/video/io/ffmpeg_reader.py:123: UserWarning: Warning: in file /content/gdrive/MyDrive/VISION ARTIFICIAL/Dataset Proyecto /14 Primo/primo (13).mp4, 6220800 bytes wanted but 0 bytes read,at frame 66/67, at time 2.20/2.21 sec. Using the last valid frame instead.\n",
            "  warnings.warn(\"Warning: in file %s, \"%(self.filename)+\n",
            "\n"
          ]
        },
        {
          "output_type": "stream",
          "name": "stdout",
          "text": [
            "Moviepy - Done !\n",
            "Moviepy - video ready /content/gdrive/MyDrive/VISION ARTIFICIAL/Dataset Proyecto /14 Primo/normalized_primo (13).mp4\n",
            "Normalized video saved as /content/gdrive/MyDrive/VISION ARTIFICIAL/Dataset Proyecto /14 Primo/normalized_primo (13).mp4\n",
            "\n",
            "Processing video /content/gdrive/MyDrive/VISION ARTIFICIAL/Dataset Proyecto /14 Primo/primo (14).mp4...\n",
            "Moviepy - Building video /content/gdrive/MyDrive/VISION ARTIFICIAL/Dataset Proyecto /14 Primo/normalized_primo (14).mp4.\n",
            "MoviePy - Writing audio in normalized_primo (14)TEMP_MPY_wvf_snd.mp3\n"
          ]
        },
        {
          "output_type": "stream",
          "name": "stderr",
          "text": []
        },
        {
          "output_type": "stream",
          "name": "stdout",
          "text": [
            "MoviePy - Done.\n",
            "Moviepy - Writing video /content/gdrive/MyDrive/VISION ARTIFICIAL/Dataset Proyecto /14 Primo/normalized_primo (14).mp4\n",
            "\n"
          ]
        },
        {
          "output_type": "stream",
          "name": "stderr",
          "text": [
            "t: 100%|██████████| 188/188 [00:18<00:00, 12.48it/s, now=None]WARNING:py.warnings:/usr/local/lib/python3.10/dist-packages/moviepy/video/io/ffmpeg_reader.py:123: UserWarning: Warning: in file /content/gdrive/MyDrive/VISION ARTIFICIAL/Dataset Proyecto /14 Primo/primo (14).mp4, 6220800 bytes wanted but 0 bytes read,at frame 70/71, at time 2.33/2.35 sec. Using the last valid frame instead.\n",
            "  warnings.warn(\"Warning: in file %s, \"%(self.filename)+\n",
            "\n"
          ]
        },
        {
          "output_type": "stream",
          "name": "stdout",
          "text": [
            "Moviepy - Done !\n",
            "Moviepy - video ready /content/gdrive/MyDrive/VISION ARTIFICIAL/Dataset Proyecto /14 Primo/normalized_primo (14).mp4\n",
            "Normalized video saved as /content/gdrive/MyDrive/VISION ARTIFICIAL/Dataset Proyecto /14 Primo/normalized_primo (14).mp4\n",
            "\n",
            "Processing video /content/gdrive/MyDrive/VISION ARTIFICIAL/Dataset Proyecto /14 Primo/primo (15).mp4...\n",
            "Moviepy - Building video /content/gdrive/MyDrive/VISION ARTIFICIAL/Dataset Proyecto /14 Primo/normalized_primo (15).mp4.\n",
            "MoviePy - Writing audio in normalized_primo (15)TEMP_MPY_wvf_snd.mp3\n"
          ]
        },
        {
          "output_type": "stream",
          "name": "stderr",
          "text": []
        },
        {
          "output_type": "stream",
          "name": "stdout",
          "text": [
            "MoviePy - Done.\n",
            "Moviepy - Writing video /content/gdrive/MyDrive/VISION ARTIFICIAL/Dataset Proyecto /14 Primo/normalized_primo (15).mp4\n",
            "\n"
          ]
        },
        {
          "output_type": "stream",
          "name": "stderr",
          "text": [
            "t: 100%|█████████▉| 200/201 [00:15<00:00, 16.29it/s, now=None]WARNING:py.warnings:/usr/local/lib/python3.10/dist-packages/moviepy/video/io/ffmpeg_reader.py:123: UserWarning: Warning: in file /content/gdrive/MyDrive/VISION ARTIFICIAL/Dataset Proyecto /14 Primo/primo (15).mp4, 6220800 bytes wanted but 0 bytes read,at frame 75/76, at time 2.50/2.51 sec. Using the last valid frame instead.\n",
            "  warnings.warn(\"Warning: in file %s, \"%(self.filename)+\n",
            "\n"
          ]
        },
        {
          "output_type": "stream",
          "name": "stdout",
          "text": [
            "Moviepy - Done !\n",
            "Moviepy - video ready /content/gdrive/MyDrive/VISION ARTIFICIAL/Dataset Proyecto /14 Primo/normalized_primo (15).mp4\n",
            "Normalized video saved as /content/gdrive/MyDrive/VISION ARTIFICIAL/Dataset Proyecto /14 Primo/normalized_primo (15).mp4\n",
            "\n",
            "Processing video /content/gdrive/MyDrive/VISION ARTIFICIAL/Dataset Proyecto /14 Primo/primo (16).mp4...\n",
            "Moviepy - Building video /content/gdrive/MyDrive/VISION ARTIFICIAL/Dataset Proyecto /14 Primo/normalized_primo (16).mp4.\n",
            "MoviePy - Writing audio in normalized_primo (16)TEMP_MPY_wvf_snd.mp3\n"
          ]
        },
        {
          "output_type": "stream",
          "name": "stderr",
          "text": []
        },
        {
          "output_type": "stream",
          "name": "stdout",
          "text": [
            "MoviePy - Done.\n",
            "Moviepy - Writing video /content/gdrive/MyDrive/VISION ARTIFICIAL/Dataset Proyecto /14 Primo/normalized_primo (16).mp4\n",
            "\n"
          ]
        },
        {
          "output_type": "stream",
          "name": "stderr",
          "text": []
        },
        {
          "output_type": "stream",
          "name": "stdout",
          "text": [
            "Moviepy - Done !\n",
            "Moviepy - video ready /content/gdrive/MyDrive/VISION ARTIFICIAL/Dataset Proyecto /14 Primo/normalized_primo (16).mp4\n",
            "Normalized video saved as /content/gdrive/MyDrive/VISION ARTIFICIAL/Dataset Proyecto /14 Primo/normalized_primo (16).mp4\n",
            "\n",
            "Processing video /content/gdrive/MyDrive/VISION ARTIFICIAL/Dataset Proyecto /14 Primo/primo (17).mp4...\n",
            "Moviepy - Building video /content/gdrive/MyDrive/VISION ARTIFICIAL/Dataset Proyecto /14 Primo/normalized_primo (17).mp4.\n",
            "MoviePy - Writing audio in normalized_primo (17)TEMP_MPY_wvf_snd.mp3\n"
          ]
        },
        {
          "output_type": "stream",
          "name": "stderr",
          "text": []
        },
        {
          "output_type": "stream",
          "name": "stdout",
          "text": [
            "MoviePy - Done.\n",
            "Moviepy - Writing video /content/gdrive/MyDrive/VISION ARTIFICIAL/Dataset Proyecto /14 Primo/normalized_primo (17).mp4\n",
            "\n"
          ]
        },
        {
          "output_type": "stream",
          "name": "stderr",
          "text": [
            "t:  99%|█████████▉| 184/186 [00:14<00:00, 15.73it/s, now=None]WARNING:py.warnings:/usr/local/lib/python3.10/dist-packages/moviepy/video/io/ffmpeg_reader.py:123: UserWarning: Warning: in file /content/gdrive/MyDrive/VISION ARTIFICIAL/Dataset Proyecto /14 Primo/primo (17).mp4, 6220800 bytes wanted but 0 bytes read,at frame 69/70, at time 2.30/2.32 sec. Using the last valid frame instead.\n",
            "  warnings.warn(\"Warning: in file %s, \"%(self.filename)+\n",
            "\n"
          ]
        },
        {
          "output_type": "stream",
          "name": "stdout",
          "text": [
            "Moviepy - Done !\n",
            "Moviepy - video ready /content/gdrive/MyDrive/VISION ARTIFICIAL/Dataset Proyecto /14 Primo/normalized_primo (17).mp4\n",
            "Normalized video saved as /content/gdrive/MyDrive/VISION ARTIFICIAL/Dataset Proyecto /14 Primo/normalized_primo (17).mp4\n",
            "\n",
            "Processing video /content/gdrive/MyDrive/VISION ARTIFICIAL/Dataset Proyecto /14 Primo/primo (18).mp4...\n",
            "Moviepy - Building video /content/gdrive/MyDrive/VISION ARTIFICIAL/Dataset Proyecto /14 Primo/normalized_primo (18).mp4.\n",
            "MoviePy - Writing audio in normalized_primo (18)TEMP_MPY_wvf_snd.mp3\n"
          ]
        },
        {
          "output_type": "stream",
          "name": "stderr",
          "text": []
        },
        {
          "output_type": "stream",
          "name": "stdout",
          "text": [
            "MoviePy - Done.\n",
            "Moviepy - Writing video /content/gdrive/MyDrive/VISION ARTIFICIAL/Dataset Proyecto /14 Primo/normalized_primo (18).mp4\n",
            "\n"
          ]
        },
        {
          "output_type": "stream",
          "name": "stderr",
          "text": [
            "t:  99%|█████████▉| 173/175 [00:14<00:00, 12.61it/s, now=None]WARNING:py.warnings:/usr/local/lib/python3.10/dist-packages/moviepy/video/io/ffmpeg_reader.py:123: UserWarning: Warning: in file /content/gdrive/MyDrive/VISION ARTIFICIAL/Dataset Proyecto /14 Primo/primo (18).mp4, 6220800 bytes wanted but 0 bytes read,at frame 65/66, at time 2.17/2.18 sec. Using the last valid frame instead.\n",
            "  warnings.warn(\"Warning: in file %s, \"%(self.filename)+\n",
            "\n"
          ]
        },
        {
          "output_type": "stream",
          "name": "stdout",
          "text": [
            "Moviepy - Done !\n",
            "Moviepy - video ready /content/gdrive/MyDrive/VISION ARTIFICIAL/Dataset Proyecto /14 Primo/normalized_primo (18).mp4\n",
            "Normalized video saved as /content/gdrive/MyDrive/VISION ARTIFICIAL/Dataset Proyecto /14 Primo/normalized_primo (18).mp4\n",
            "\n",
            "Processing video /content/gdrive/MyDrive/VISION ARTIFICIAL/Dataset Proyecto /14 Primo/primo (19).mp4...\n",
            "Moviepy - Building video /content/gdrive/MyDrive/VISION ARTIFICIAL/Dataset Proyecto /14 Primo/normalized_primo (19).mp4.\n",
            "MoviePy - Writing audio in normalized_primo (19)TEMP_MPY_wvf_snd.mp3\n"
          ]
        },
        {
          "output_type": "stream",
          "name": "stderr",
          "text": []
        },
        {
          "output_type": "stream",
          "name": "stdout",
          "text": [
            "MoviePy - Done.\n",
            "Moviepy - Writing video /content/gdrive/MyDrive/VISION ARTIFICIAL/Dataset Proyecto /14 Primo/normalized_primo (19).mp4\n",
            "\n"
          ]
        },
        {
          "output_type": "stream",
          "name": "stderr",
          "text": [
            "t: 100%|██████████| 169/169 [00:13<00:00, 11.69it/s, now=None]WARNING:py.warnings:/usr/local/lib/python3.10/dist-packages/moviepy/video/io/ffmpeg_reader.py:123: UserWarning: Warning: in file /content/gdrive/MyDrive/VISION ARTIFICIAL/Dataset Proyecto /14 Primo/primo (19).mp4, 6220800 bytes wanted but 0 bytes read,at frame 63/64, at time 2.10/2.11 sec. Using the last valid frame instead.\n",
            "  warnings.warn(\"Warning: in file %s, \"%(self.filename)+\n",
            "\n"
          ]
        },
        {
          "output_type": "stream",
          "name": "stdout",
          "text": [
            "Moviepy - Done !\n",
            "Moviepy - video ready /content/gdrive/MyDrive/VISION ARTIFICIAL/Dataset Proyecto /14 Primo/normalized_primo (19).mp4\n",
            "Normalized video saved as /content/gdrive/MyDrive/VISION ARTIFICIAL/Dataset Proyecto /14 Primo/normalized_primo (19).mp4\n",
            "\n",
            "Processing video /content/gdrive/MyDrive/VISION ARTIFICIAL/Dataset Proyecto /14 Primo/primo (20).mp4...\n",
            "Moviepy - Building video /content/gdrive/MyDrive/VISION ARTIFICIAL/Dataset Proyecto /14 Primo/normalized_primo (20).mp4.\n",
            "MoviePy - Writing audio in normalized_primo (20)TEMP_MPY_wvf_snd.mp3\n"
          ]
        },
        {
          "output_type": "stream",
          "name": "stderr",
          "text": []
        },
        {
          "output_type": "stream",
          "name": "stdout",
          "text": [
            "MoviePy - Done.\n",
            "Moviepy - Writing video /content/gdrive/MyDrive/VISION ARTIFICIAL/Dataset Proyecto /14 Primo/normalized_primo (20).mp4\n",
            "\n"
          ]
        },
        {
          "output_type": "stream",
          "name": "stderr",
          "text": [
            "t: 100%|█████████▉| 235/236 [00:18<00:00, 17.10it/s, now=None]WARNING:py.warnings:/usr/local/lib/python3.10/dist-packages/moviepy/video/io/ffmpeg_reader.py:123: UserWarning: Warning: in file /content/gdrive/MyDrive/VISION ARTIFICIAL/Dataset Proyecto /14 Primo/primo (20).mp4, 6220800 bytes wanted but 0 bytes read,at frame 88/89, at time 2.93/2.95 sec. Using the last valid frame instead.\n",
            "  warnings.warn(\"Warning: in file %s, \"%(self.filename)+\n",
            "\n"
          ]
        },
        {
          "output_type": "stream",
          "name": "stdout",
          "text": [
            "Moviepy - Done !\n",
            "Moviepy - video ready /content/gdrive/MyDrive/VISION ARTIFICIAL/Dataset Proyecto /14 Primo/normalized_primo (20).mp4\n",
            "Normalized video saved as /content/gdrive/MyDrive/VISION ARTIFICIAL/Dataset Proyecto /14 Primo/normalized_primo (20).mp4\n",
            "\n",
            "Processing video /content/gdrive/MyDrive/VISION ARTIFICIAL/Dataset Proyecto /14 Primo/primo (21).mp4...\n",
            "Moviepy - Building video /content/gdrive/MyDrive/VISION ARTIFICIAL/Dataset Proyecto /14 Primo/normalized_primo (21).mp4.\n",
            "MoviePy - Writing audio in normalized_primo (21)TEMP_MPY_wvf_snd.mp3\n"
          ]
        },
        {
          "output_type": "stream",
          "name": "stderr",
          "text": []
        },
        {
          "output_type": "stream",
          "name": "stdout",
          "text": [
            "MoviePy - Done.\n",
            "Moviepy - Writing video /content/gdrive/MyDrive/VISION ARTIFICIAL/Dataset Proyecto /14 Primo/normalized_primo (21).mp4\n",
            "\n"
          ]
        },
        {
          "output_type": "stream",
          "name": "stderr",
          "text": [
            "t: 100%|██████████| 196/196 [00:16<00:00,  5.48it/s, now=None]WARNING:py.warnings:/usr/local/lib/python3.10/dist-packages/moviepy/video/io/ffmpeg_reader.py:123: UserWarning: Warning: in file /content/gdrive/MyDrive/VISION ARTIFICIAL/Dataset Proyecto /14 Primo/primo (21).mp4, 6220800 bytes wanted but 0 bytes read,at frame 73/74, at time 2.43/2.44 sec. Using the last valid frame instead.\n",
            "  warnings.warn(\"Warning: in file %s, \"%(self.filename)+\n",
            "\n"
          ]
        },
        {
          "output_type": "stream",
          "name": "stdout",
          "text": [
            "Moviepy - Done !\n",
            "Moviepy - video ready /content/gdrive/MyDrive/VISION ARTIFICIAL/Dataset Proyecto /14 Primo/normalized_primo (21).mp4\n",
            "Normalized video saved as /content/gdrive/MyDrive/VISION ARTIFICIAL/Dataset Proyecto /14 Primo/normalized_primo (21).mp4\n",
            "\n",
            "Processing video /content/gdrive/MyDrive/VISION ARTIFICIAL/Dataset Proyecto /14 Primo/primo (22).mp4...\n",
            "Moviepy - Building video /content/gdrive/MyDrive/VISION ARTIFICIAL/Dataset Proyecto /14 Primo/normalized_primo (22).mp4.\n",
            "MoviePy - Writing audio in normalized_primo (22)TEMP_MPY_wvf_snd.mp3\n"
          ]
        },
        {
          "output_type": "stream",
          "name": "stderr",
          "text": []
        },
        {
          "output_type": "stream",
          "name": "stdout",
          "text": [
            "MoviePy - Done.\n",
            "Moviepy - Writing video /content/gdrive/MyDrive/VISION ARTIFICIAL/Dataset Proyecto /14 Primo/normalized_primo (22).mp4\n",
            "\n"
          ]
        },
        {
          "output_type": "stream",
          "name": "stderr",
          "text": [
            "t:  99%|█████████▉| 205/207 [00:16<00:00, 15.82it/s, now=None]WARNING:py.warnings:/usr/local/lib/python3.10/dist-packages/moviepy/video/io/ffmpeg_reader.py:123: UserWarning: Warning: in file /content/gdrive/MyDrive/VISION ARTIFICIAL/Dataset Proyecto /14 Primo/primo (22).mp4, 6220800 bytes wanted but 0 bytes read,at frame 77/78, at time 2.57/2.58 sec. Using the last valid frame instead.\n",
            "  warnings.warn(\"Warning: in file %s, \"%(self.filename)+\n",
            "\n"
          ]
        },
        {
          "output_type": "stream",
          "name": "stdout",
          "text": [
            "Moviepy - Done !\n",
            "Moviepy - video ready /content/gdrive/MyDrive/VISION ARTIFICIAL/Dataset Proyecto /14 Primo/normalized_primo (22).mp4\n",
            "Normalized video saved as /content/gdrive/MyDrive/VISION ARTIFICIAL/Dataset Proyecto /14 Primo/normalized_primo (22).mp4\n",
            "\n",
            "Processing video /content/gdrive/MyDrive/VISION ARTIFICIAL/Dataset Proyecto /14 Primo/primo (23).mp4...\n",
            "Moviepy - Building video /content/gdrive/MyDrive/VISION ARTIFICIAL/Dataset Proyecto /14 Primo/normalized_primo (23).mp4.\n",
            "MoviePy - Writing audio in normalized_primo (23)TEMP_MPY_wvf_snd.mp3\n"
          ]
        },
        {
          "output_type": "stream",
          "name": "stderr",
          "text": []
        },
        {
          "output_type": "stream",
          "name": "stdout",
          "text": [
            "MoviePy - Done.\n",
            "Moviepy - Writing video /content/gdrive/MyDrive/VISION ARTIFICIAL/Dataset Proyecto /14 Primo/normalized_primo (23).mp4\n",
            "\n"
          ]
        },
        {
          "output_type": "stream",
          "name": "stderr",
          "text": [
            "t: 100%|██████████| 212/212 [00:16<00:00, 17.33it/s, now=None]WARNING:py.warnings:/usr/local/lib/python3.10/dist-packages/moviepy/video/io/ffmpeg_reader.py:123: UserWarning: Warning: in file /content/gdrive/MyDrive/VISION ARTIFICIAL/Dataset Proyecto /14 Primo/primo (23).mp4, 6220800 bytes wanted but 0 bytes read,at frame 79/80, at time 2.63/2.65 sec. Using the last valid frame instead.\n",
            "  warnings.warn(\"Warning: in file %s, \"%(self.filename)+\n",
            "\n"
          ]
        },
        {
          "output_type": "stream",
          "name": "stdout",
          "text": [
            "Moviepy - Done !\n",
            "Moviepy - video ready /content/gdrive/MyDrive/VISION ARTIFICIAL/Dataset Proyecto /14 Primo/normalized_primo (23).mp4\n",
            "Normalized video saved as /content/gdrive/MyDrive/VISION ARTIFICIAL/Dataset Proyecto /14 Primo/normalized_primo (23).mp4\n",
            "\n",
            "Processing video /content/gdrive/MyDrive/VISION ARTIFICIAL/Dataset Proyecto /14 Primo/primo (24).mp4...\n",
            "Moviepy - Building video /content/gdrive/MyDrive/VISION ARTIFICIAL/Dataset Proyecto /14 Primo/normalized_primo (24).mp4.\n",
            "MoviePy - Writing audio in normalized_primo (24)TEMP_MPY_wvf_snd.mp3\n"
          ]
        },
        {
          "output_type": "stream",
          "name": "stderr",
          "text": []
        },
        {
          "output_type": "stream",
          "name": "stdout",
          "text": [
            "MoviePy - Done.\n",
            "Moviepy - Writing video /content/gdrive/MyDrive/VISION ARTIFICIAL/Dataset Proyecto /14 Primo/normalized_primo (24).mp4\n",
            "\n"
          ]
        },
        {
          "output_type": "stream",
          "name": "stderr",
          "text": [
            "t:  99%|█████████▉| 166/168 [00:13<00:00, 12.52it/s, now=None]WARNING:py.warnings:/usr/local/lib/python3.10/dist-packages/moviepy/video/io/ffmpeg_reader.py:123: UserWarning: Warning: in file /content/gdrive/MyDrive/VISION ARTIFICIAL/Dataset Proyecto /14 Primo/primo (24).mp4, 6220800 bytes wanted but 0 bytes read,at frame 62/63, at time 2.07/2.09 sec. Using the last valid frame instead.\n",
            "  warnings.warn(\"Warning: in file %s, \"%(self.filename)+\n",
            "\n"
          ]
        },
        {
          "output_type": "stream",
          "name": "stdout",
          "text": [
            "Moviepy - Done !\n",
            "Moviepy - video ready /content/gdrive/MyDrive/VISION ARTIFICIAL/Dataset Proyecto /14 Primo/normalized_primo (24).mp4\n",
            "Normalized video saved as /content/gdrive/MyDrive/VISION ARTIFICIAL/Dataset Proyecto /14 Primo/normalized_primo (24).mp4\n",
            "\n",
            "Processing video /content/gdrive/MyDrive/VISION ARTIFICIAL/Dataset Proyecto /14 Primo/primo (25).mp4...\n",
            "Moviepy - Building video /content/gdrive/MyDrive/VISION ARTIFICIAL/Dataset Proyecto /14 Primo/normalized_primo (25).mp4.\n",
            "MoviePy - Writing audio in normalized_primo (25)TEMP_MPY_wvf_snd.mp3\n"
          ]
        },
        {
          "output_type": "stream",
          "name": "stderr",
          "text": []
        },
        {
          "output_type": "stream",
          "name": "stdout",
          "text": [
            "MoviePy - Done.\n",
            "Moviepy - Writing video /content/gdrive/MyDrive/VISION ARTIFICIAL/Dataset Proyecto /14 Primo/normalized_primo (25).mp4\n",
            "\n"
          ]
        },
        {
          "output_type": "stream",
          "name": "stderr",
          "text": [
            "t: 100%|██████████| 199/199 [00:16<00:00, 15.82it/s, now=None]WARNING:py.warnings:/usr/local/lib/python3.10/dist-packages/moviepy/video/io/ffmpeg_reader.py:123: UserWarning: Warning: in file /content/gdrive/MyDrive/VISION ARTIFICIAL/Dataset Proyecto /14 Primo/primo (25).mp4, 6220800 bytes wanted but 0 bytes read,at frame 74/75, at time 2.47/2.48 sec. Using the last valid frame instead.\n",
            "  warnings.warn(\"Warning: in file %s, \"%(self.filename)+\n",
            "\n"
          ]
        },
        {
          "output_type": "stream",
          "name": "stdout",
          "text": [
            "Moviepy - Done !\n",
            "Moviepy - video ready /content/gdrive/MyDrive/VISION ARTIFICIAL/Dataset Proyecto /14 Primo/normalized_primo (25).mp4\n",
            "Normalized video saved as /content/gdrive/MyDrive/VISION ARTIFICIAL/Dataset Proyecto /14 Primo/normalized_primo (25).mp4\n",
            "\n",
            "Processing video /content/gdrive/MyDrive/VISION ARTIFICIAL/Dataset Proyecto /14 Primo/primo (26).mp4...\n",
            "Moviepy - Building video /content/gdrive/MyDrive/VISION ARTIFICIAL/Dataset Proyecto /14 Primo/normalized_primo (26).mp4.\n",
            "MoviePy - Writing audio in normalized_primo (26)TEMP_MPY_wvf_snd.mp3\n"
          ]
        },
        {
          "output_type": "stream",
          "name": "stderr",
          "text": []
        },
        {
          "output_type": "stream",
          "name": "stdout",
          "text": [
            "MoviePy - Done.\n",
            "Moviepy - Writing video /content/gdrive/MyDrive/VISION ARTIFICIAL/Dataset Proyecto /14 Primo/normalized_primo (26).mp4\n",
            "\n"
          ]
        },
        {
          "output_type": "stream",
          "name": "stderr",
          "text": [
            "t:  99%|█████████▉| 167/168 [00:12<00:00, 11.02it/s, now=None]WARNING:py.warnings:/usr/local/lib/python3.10/dist-packages/moviepy/video/io/ffmpeg_reader.py:123: UserWarning: Warning: in file /content/gdrive/MyDrive/VISION ARTIFICIAL/Dataset Proyecto /14 Primo/primo (26).mp4, 6220800 bytes wanted but 0 bytes read,at frame 62/63, at time 2.07/2.09 sec. Using the last valid frame instead.\n",
            "  warnings.warn(\"Warning: in file %s, \"%(self.filename)+\n",
            "\n"
          ]
        },
        {
          "output_type": "stream",
          "name": "stdout",
          "text": [
            "Moviepy - Done !\n",
            "Moviepy - video ready /content/gdrive/MyDrive/VISION ARTIFICIAL/Dataset Proyecto /14 Primo/normalized_primo (26).mp4\n",
            "Normalized video saved as /content/gdrive/MyDrive/VISION ARTIFICIAL/Dataset Proyecto /14 Primo/normalized_primo (26).mp4\n",
            "\n",
            "Processing video /content/gdrive/MyDrive/VISION ARTIFICIAL/Dataset Proyecto /14 Primo/primo (27).mp4...\n",
            "Moviepy - Building video /content/gdrive/MyDrive/VISION ARTIFICIAL/Dataset Proyecto /14 Primo/normalized_primo (27).mp4.\n",
            "MoviePy - Writing audio in normalized_primo (27)TEMP_MPY_wvf_snd.mp3\n"
          ]
        },
        {
          "output_type": "stream",
          "name": "stderr",
          "text": []
        },
        {
          "output_type": "stream",
          "name": "stdout",
          "text": [
            "MoviePy - Done.\n",
            "Moviepy - Writing video /content/gdrive/MyDrive/VISION ARTIFICIAL/Dataset Proyecto /14 Primo/normalized_primo (27).mp4\n",
            "\n"
          ]
        },
        {
          "output_type": "stream",
          "name": "stderr",
          "text": [
            "t: 100%|██████████| 172/172 [00:14<00:00,  6.61it/s, now=None]WARNING:py.warnings:/usr/local/lib/python3.10/dist-packages/moviepy/video/io/ffmpeg_reader.py:123: UserWarning: Warning: in file /content/gdrive/MyDrive/VISION ARTIFICIAL/Dataset Proyecto /14 Primo/primo (27).mp4, 6220800 bytes wanted but 0 bytes read,at frame 64/65, at time 2.13/2.14 sec. Using the last valid frame instead.\n",
            "  warnings.warn(\"Warning: in file %s, \"%(self.filename)+\n",
            "\n"
          ]
        },
        {
          "output_type": "stream",
          "name": "stdout",
          "text": [
            "Moviepy - Done !\n",
            "Moviepy - video ready /content/gdrive/MyDrive/VISION ARTIFICIAL/Dataset Proyecto /14 Primo/normalized_primo (27).mp4\n",
            "Normalized video saved as /content/gdrive/MyDrive/VISION ARTIFICIAL/Dataset Proyecto /14 Primo/normalized_primo (27).mp4\n",
            "\n",
            "Processing video /content/gdrive/MyDrive/VISION ARTIFICIAL/Dataset Proyecto /14 Primo/primo (28).mp4...\n",
            "Moviepy - Building video /content/gdrive/MyDrive/VISION ARTIFICIAL/Dataset Proyecto /14 Primo/normalized_primo (28).mp4.\n",
            "MoviePy - Writing audio in normalized_primo (28)TEMP_MPY_wvf_snd.mp3\n"
          ]
        },
        {
          "output_type": "stream",
          "name": "stderr",
          "text": []
        },
        {
          "output_type": "stream",
          "name": "stdout",
          "text": [
            "MoviePy - Done.\n",
            "Moviepy - Writing video /content/gdrive/MyDrive/VISION ARTIFICIAL/Dataset Proyecto /14 Primo/normalized_primo (28).mp4\n",
            "\n"
          ]
        },
        {
          "output_type": "stream",
          "name": "stderr",
          "text": [
            "t:  99%|█████████▉| 185/186 [00:14<00:00,  8.87it/s, now=None]WARNING:py.warnings:/usr/local/lib/python3.10/dist-packages/moviepy/video/io/ffmpeg_reader.py:123: UserWarning: Warning: in file /content/gdrive/MyDrive/VISION ARTIFICIAL/Dataset Proyecto /14 Primo/primo (28).mp4, 6220800 bytes wanted but 0 bytes read,at frame 69/70, at time 2.30/2.32 sec. Using the last valid frame instead.\n",
            "  warnings.warn(\"Warning: in file %s, \"%(self.filename)+\n",
            "\n"
          ]
        },
        {
          "output_type": "stream",
          "name": "stdout",
          "text": [
            "Moviepy - Done !\n",
            "Moviepy - video ready /content/gdrive/MyDrive/VISION ARTIFICIAL/Dataset Proyecto /14 Primo/normalized_primo (28).mp4\n",
            "Normalized video saved as /content/gdrive/MyDrive/VISION ARTIFICIAL/Dataset Proyecto /14 Primo/normalized_primo (28).mp4\n",
            "\n",
            "Processing video /content/gdrive/MyDrive/VISION ARTIFICIAL/Dataset Proyecto /14 Primo/primo (29).mp4...\n",
            "Moviepy - Building video /content/gdrive/MyDrive/VISION ARTIFICIAL/Dataset Proyecto /14 Primo/normalized_primo (29).mp4.\n",
            "MoviePy - Writing audio in normalized_primo (29)TEMP_MPY_wvf_snd.mp3\n"
          ]
        },
        {
          "output_type": "stream",
          "name": "stderr",
          "text": []
        },
        {
          "output_type": "stream",
          "name": "stdout",
          "text": [
            "MoviePy - Done.\n",
            "Moviepy - Writing video /content/gdrive/MyDrive/VISION ARTIFICIAL/Dataset Proyecto /14 Primo/normalized_primo (29).mp4\n",
            "\n"
          ]
        },
        {
          "output_type": "stream",
          "name": "stderr",
          "text": [
            "t:  99%|█████████▉| 143/144 [00:08<00:00, 12.13it/s, now=None]WARNING:py.warnings:/usr/local/lib/python3.10/dist-packages/moviepy/video/io/ffmpeg_reader.py:123: UserWarning: Warning: in file /content/gdrive/MyDrive/VISION ARTIFICIAL/Dataset Proyecto /14 Primo/primo (29).mp4, 6220800 bytes wanted but 0 bytes read,at frame 53/54, at time 1.77/1.79 sec. Using the last valid frame instead.\n",
            "  warnings.warn(\"Warning: in file %s, \"%(self.filename)+\n",
            "\n"
          ]
        },
        {
          "output_type": "stream",
          "name": "stdout",
          "text": [
            "Moviepy - Done !\n",
            "Moviepy - video ready /content/gdrive/MyDrive/VISION ARTIFICIAL/Dataset Proyecto /14 Primo/normalized_primo (29).mp4\n",
            "Normalized video saved as /content/gdrive/MyDrive/VISION ARTIFICIAL/Dataset Proyecto /14 Primo/normalized_primo (29).mp4\n",
            "\n",
            "Processing video /content/gdrive/MyDrive/VISION ARTIFICIAL/Dataset Proyecto /14 Primo/primo (30).mp4...\n",
            "Moviepy - Building video /content/gdrive/MyDrive/VISION ARTIFICIAL/Dataset Proyecto /14 Primo/normalized_primo (30).mp4.\n",
            "MoviePy - Writing audio in normalized_primo (30)TEMP_MPY_wvf_snd.mp3\n"
          ]
        },
        {
          "output_type": "stream",
          "name": "stderr",
          "text": []
        },
        {
          "output_type": "stream",
          "name": "stdout",
          "text": [
            "MoviePy - Done.\n",
            "Moviepy - Writing video /content/gdrive/MyDrive/VISION ARTIFICIAL/Dataset Proyecto /14 Primo/normalized_primo (30).mp4\n",
            "\n"
          ]
        },
        {
          "output_type": "stream",
          "name": "stderr",
          "text": [
            "t: 100%|██████████| 180/180 [00:14<00:00,  6.09it/s, now=None]WARNING:py.warnings:/usr/local/lib/python3.10/dist-packages/moviepy/video/io/ffmpeg_reader.py:123: UserWarning: Warning: in file /content/gdrive/MyDrive/VISION ARTIFICIAL/Dataset Proyecto /14 Primo/primo (30).mp4, 6220800 bytes wanted but 0 bytes read,at frame 67/68, at time 2.23/2.25 sec. Using the last valid frame instead.\n",
            "  warnings.warn(\"Warning: in file %s, \"%(self.filename)+\n",
            "\n"
          ]
        },
        {
          "output_type": "stream",
          "name": "stdout",
          "text": [
            "Moviepy - Done !\n",
            "Moviepy - video ready /content/gdrive/MyDrive/VISION ARTIFICIAL/Dataset Proyecto /14 Primo/normalized_primo (30).mp4\n",
            "Normalized video saved as /content/gdrive/MyDrive/VISION ARTIFICIAL/Dataset Proyecto /14 Primo/normalized_primo (30).mp4\n",
            "\n",
            "Processing video /content/gdrive/MyDrive/VISION ARTIFICIAL/Dataset Proyecto /14 Primo/primo (31).mp4...\n",
            "Moviepy - Building video /content/gdrive/MyDrive/VISION ARTIFICIAL/Dataset Proyecto /14 Primo/normalized_primo (31).mp4.\n",
            "MoviePy - Writing audio in normalized_primo (31)TEMP_MPY_wvf_snd.mp3\n"
          ]
        },
        {
          "output_type": "stream",
          "name": "stderr",
          "text": []
        },
        {
          "output_type": "stream",
          "name": "stdout",
          "text": [
            "MoviePy - Done.\n",
            "Moviepy - Writing video /content/gdrive/MyDrive/VISION ARTIFICIAL/Dataset Proyecto /14 Primo/normalized_primo (31).mp4\n",
            "\n"
          ]
        },
        {
          "output_type": "stream",
          "name": "stderr",
          "text": []
        },
        {
          "output_type": "stream",
          "name": "stdout",
          "text": [
            "Moviepy - Done !\n",
            "Moviepy - video ready /content/gdrive/MyDrive/VISION ARTIFICIAL/Dataset Proyecto /14 Primo/normalized_primo (31).mp4\n",
            "Normalized video saved as /content/gdrive/MyDrive/VISION ARTIFICIAL/Dataset Proyecto /14 Primo/normalized_primo (31).mp4\n",
            "\n",
            "Processing video /content/gdrive/MyDrive/VISION ARTIFICIAL/Dataset Proyecto /14 Primo/primo (32).mp4...\n",
            "Moviepy - Building video /content/gdrive/MyDrive/VISION ARTIFICIAL/Dataset Proyecto /14 Primo/normalized_primo (32).mp4.\n",
            "MoviePy - Writing audio in normalized_primo (32)TEMP_MPY_wvf_snd.mp3\n"
          ]
        },
        {
          "output_type": "stream",
          "name": "stderr",
          "text": []
        },
        {
          "output_type": "stream",
          "name": "stdout",
          "text": [
            "MoviePy - Done.\n",
            "Moviepy - Writing video /content/gdrive/MyDrive/VISION ARTIFICIAL/Dataset Proyecto /14 Primo/normalized_primo (32).mp4\n",
            "\n"
          ]
        },
        {
          "output_type": "stream",
          "name": "stderr",
          "text": [
            "t:  99%|█████████▉| 184/186 [00:15<00:00, 12.20it/s, now=None]WARNING:py.warnings:/usr/local/lib/python3.10/dist-packages/moviepy/video/io/ffmpeg_reader.py:123: UserWarning: Warning: in file /content/gdrive/MyDrive/VISION ARTIFICIAL/Dataset Proyecto /14 Primo/primo (32).mp4, 6220800 bytes wanted but 0 bytes read,at frame 69/70, at time 2.30/2.32 sec. Using the last valid frame instead.\n",
            "  warnings.warn(\"Warning: in file %s, \"%(self.filename)+\n",
            "\n"
          ]
        },
        {
          "output_type": "stream",
          "name": "stdout",
          "text": [
            "Moviepy - Done !\n",
            "Moviepy - video ready /content/gdrive/MyDrive/VISION ARTIFICIAL/Dataset Proyecto /14 Primo/normalized_primo (32).mp4\n",
            "Normalized video saved as /content/gdrive/MyDrive/VISION ARTIFICIAL/Dataset Proyecto /14 Primo/normalized_primo (32).mp4\n",
            "\n",
            "Processing video /content/gdrive/MyDrive/VISION ARTIFICIAL/Dataset Proyecto /14 Primo/primo (33).mp4...\n",
            "Moviepy - Building video /content/gdrive/MyDrive/VISION ARTIFICIAL/Dataset Proyecto /14 Primo/normalized_primo (33).mp4.\n",
            "MoviePy - Writing audio in normalized_primo (33)TEMP_MPY_wvf_snd.mp3\n"
          ]
        },
        {
          "output_type": "stream",
          "name": "stderr",
          "text": []
        },
        {
          "output_type": "stream",
          "name": "stdout",
          "text": [
            "MoviePy - Done.\n",
            "Moviepy - Writing video /content/gdrive/MyDrive/VISION ARTIFICIAL/Dataset Proyecto /14 Primo/normalized_primo (33).mp4\n",
            "\n"
          ]
        },
        {
          "output_type": "stream",
          "name": "stderr",
          "text": [
            "t:  99%|█████████▉| 137/138 [00:08<00:00,  8.61it/s, now=None]WARNING:py.warnings:/usr/local/lib/python3.10/dist-packages/moviepy/video/io/ffmpeg_reader.py:123: UserWarning: Warning: in file /content/gdrive/MyDrive/VISION ARTIFICIAL/Dataset Proyecto /14 Primo/primo (33).mp4, 6220800 bytes wanted but 0 bytes read,at frame 51/52, at time 1.70/1.72 sec. Using the last valid frame instead.\n",
            "  warnings.warn(\"Warning: in file %s, \"%(self.filename)+\n",
            "\n"
          ]
        },
        {
          "output_type": "stream",
          "name": "stdout",
          "text": [
            "Moviepy - Done !\n",
            "Moviepy - video ready /content/gdrive/MyDrive/VISION ARTIFICIAL/Dataset Proyecto /14 Primo/normalized_primo (33).mp4\n",
            "Normalized video saved as /content/gdrive/MyDrive/VISION ARTIFICIAL/Dataset Proyecto /14 Primo/normalized_primo (33).mp4\n",
            "\n",
            "Processing video /content/gdrive/MyDrive/VISION ARTIFICIAL/Dataset Proyecto /14 Primo/primo (34).mp4...\n",
            "Moviepy - Building video /content/gdrive/MyDrive/VISION ARTIFICIAL/Dataset Proyecto /14 Primo/normalized_primo (34).mp4.\n",
            "MoviePy - Writing audio in normalized_primo (34)TEMP_MPY_wvf_snd.mp3\n"
          ]
        },
        {
          "output_type": "stream",
          "name": "stderr",
          "text": []
        },
        {
          "output_type": "stream",
          "name": "stdout",
          "text": [
            "MoviePy - Done.\n",
            "Moviepy - Writing video /content/gdrive/MyDrive/VISION ARTIFICIAL/Dataset Proyecto /14 Primo/normalized_primo (34).mp4\n",
            "\n"
          ]
        },
        {
          "output_type": "stream",
          "name": "stderr",
          "text": [
            "t: 100%|██████████| 172/172 [00:13<00:00,  5.32it/s, now=None]WARNING:py.warnings:/usr/local/lib/python3.10/dist-packages/moviepy/video/io/ffmpeg_reader.py:123: UserWarning: Warning: in file /content/gdrive/MyDrive/VISION ARTIFICIAL/Dataset Proyecto /14 Primo/primo (34).mp4, 6220800 bytes wanted but 0 bytes read,at frame 64/65, at time 2.13/2.14 sec. Using the last valid frame instead.\n",
            "  warnings.warn(\"Warning: in file %s, \"%(self.filename)+\n",
            "\n"
          ]
        },
        {
          "output_type": "stream",
          "name": "stdout",
          "text": [
            "Moviepy - Done !\n",
            "Moviepy - video ready /content/gdrive/MyDrive/VISION ARTIFICIAL/Dataset Proyecto /14 Primo/normalized_primo (34).mp4\n",
            "Normalized video saved as /content/gdrive/MyDrive/VISION ARTIFICIAL/Dataset Proyecto /14 Primo/normalized_primo (34).mp4\n",
            "\n",
            "Processing video /content/gdrive/MyDrive/VISION ARTIFICIAL/Dataset Proyecto /14 Primo/primo (35).mp4...\n",
            "Moviepy - Building video /content/gdrive/MyDrive/VISION ARTIFICIAL/Dataset Proyecto /14 Primo/normalized_primo (35).mp4.\n",
            "MoviePy - Writing audio in normalized_primo (35)TEMP_MPY_wvf_snd.mp3\n"
          ]
        },
        {
          "output_type": "stream",
          "name": "stderr",
          "text": []
        },
        {
          "output_type": "stream",
          "name": "stdout",
          "text": [
            "MoviePy - Done.\n",
            "Moviepy - Writing video /content/gdrive/MyDrive/VISION ARTIFICIAL/Dataset Proyecto /14 Primo/normalized_primo (35).mp4\n",
            "\n"
          ]
        },
        {
          "output_type": "stream",
          "name": "stderr",
          "text": [
            "t: 100%|██████████| 180/180 [00:14<00:00,  6.27it/s, now=None]WARNING:py.warnings:/usr/local/lib/python3.10/dist-packages/moviepy/video/io/ffmpeg_reader.py:123: UserWarning: Warning: in file /content/gdrive/MyDrive/VISION ARTIFICIAL/Dataset Proyecto /14 Primo/primo (35).mp4, 6220800 bytes wanted but 0 bytes read,at frame 67/68, at time 2.23/2.25 sec. Using the last valid frame instead.\n",
            "  warnings.warn(\"Warning: in file %s, \"%(self.filename)+\n",
            "\n"
          ]
        },
        {
          "output_type": "stream",
          "name": "stdout",
          "text": [
            "Moviepy - Done !\n",
            "Moviepy - video ready /content/gdrive/MyDrive/VISION ARTIFICIAL/Dataset Proyecto /14 Primo/normalized_primo (35).mp4\n",
            "Normalized video saved as /content/gdrive/MyDrive/VISION ARTIFICIAL/Dataset Proyecto /14 Primo/normalized_primo (35).mp4\n",
            "\n",
            "Processing video /content/gdrive/MyDrive/VISION ARTIFICIAL/Dataset Proyecto /14 Primo/primo (36).mp4...\n",
            "Moviepy - Building video /content/gdrive/MyDrive/VISION ARTIFICIAL/Dataset Proyecto /14 Primo/normalized_primo (36).mp4.\n",
            "MoviePy - Writing audio in normalized_primo (36)TEMP_MPY_wvf_snd.mp3\n"
          ]
        },
        {
          "output_type": "stream",
          "name": "stderr",
          "text": []
        },
        {
          "output_type": "stream",
          "name": "stdout",
          "text": [
            "MoviePy - Done.\n",
            "Moviepy - Writing video /content/gdrive/MyDrive/VISION ARTIFICIAL/Dataset Proyecto /14 Primo/normalized_primo (36).mp4\n",
            "\n"
          ]
        },
        {
          "output_type": "stream",
          "name": "stderr",
          "text": [
            "t: 100%|██████████| 180/180 [00:14<00:00,  5.80it/s, now=None]WARNING:py.warnings:/usr/local/lib/python3.10/dist-packages/moviepy/video/io/ffmpeg_reader.py:123: UserWarning: Warning: in file /content/gdrive/MyDrive/VISION ARTIFICIAL/Dataset Proyecto /14 Primo/primo (36).mp4, 6220800 bytes wanted but 0 bytes read,at frame 67/68, at time 2.23/2.25 sec. Using the last valid frame instead.\n",
            "  warnings.warn(\"Warning: in file %s, \"%(self.filename)+\n",
            "\n"
          ]
        },
        {
          "output_type": "stream",
          "name": "stdout",
          "text": [
            "Moviepy - Done !\n",
            "Moviepy - video ready /content/gdrive/MyDrive/VISION ARTIFICIAL/Dataset Proyecto /14 Primo/normalized_primo (36).mp4\n",
            "Normalized video saved as /content/gdrive/MyDrive/VISION ARTIFICIAL/Dataset Proyecto /14 Primo/normalized_primo (36).mp4\n",
            "\n",
            "Processing video /content/gdrive/MyDrive/VISION ARTIFICIAL/Dataset Proyecto /14 Primo/primo (37).mp4...\n",
            "Moviepy - Building video /content/gdrive/MyDrive/VISION ARTIFICIAL/Dataset Proyecto /14 Primo/normalized_primo (37).mp4.\n",
            "MoviePy - Writing audio in normalized_primo (37)TEMP_MPY_wvf_snd.mp3\n"
          ]
        },
        {
          "output_type": "stream",
          "name": "stderr",
          "text": []
        },
        {
          "output_type": "stream",
          "name": "stdout",
          "text": [
            "MoviePy - Done.\n",
            "Moviepy - Writing video /content/gdrive/MyDrive/VISION ARTIFICIAL/Dataset Proyecto /14 Primo/normalized_primo (37).mp4\n",
            "\n"
          ]
        },
        {
          "output_type": "stream",
          "name": "stderr",
          "text": [
            "t:  99%|█████████▉| 161/162 [00:11<00:00,  6.47it/s, now=None]WARNING:py.warnings:/usr/local/lib/python3.10/dist-packages/moviepy/video/io/ffmpeg_reader.py:123: UserWarning: Warning: in file /content/gdrive/MyDrive/VISION ARTIFICIAL/Dataset Proyecto /14 Primo/primo (37).mp4, 6220800 bytes wanted but 0 bytes read,at frame 60/61, at time 2.00/2.02 sec. Using the last valid frame instead.\n",
            "  warnings.warn(\"Warning: in file %s, \"%(self.filename)+\n",
            "\n"
          ]
        },
        {
          "output_type": "stream",
          "name": "stdout",
          "text": [
            "Moviepy - Done !\n",
            "Moviepy - video ready /content/gdrive/MyDrive/VISION ARTIFICIAL/Dataset Proyecto /14 Primo/normalized_primo (37).mp4\n",
            "Normalized video saved as /content/gdrive/MyDrive/VISION ARTIFICIAL/Dataset Proyecto /14 Primo/normalized_primo (37).mp4\n",
            "\n",
            "Processing video /content/gdrive/MyDrive/VISION ARTIFICIAL/Dataset Proyecto /14 Primo/primo (38).mp4...\n",
            "Moviepy - Building video /content/gdrive/MyDrive/VISION ARTIFICIAL/Dataset Proyecto /14 Primo/normalized_primo (38).mp4.\n",
            "MoviePy - Writing audio in normalized_primo (38)TEMP_MPY_wvf_snd.mp3\n"
          ]
        },
        {
          "output_type": "stream",
          "name": "stderr",
          "text": []
        },
        {
          "output_type": "stream",
          "name": "stdout",
          "text": [
            "MoviePy - Done.\n",
            "Moviepy - Writing video /content/gdrive/MyDrive/VISION ARTIFICIAL/Dataset Proyecto /14 Primo/normalized_primo (38).mp4\n",
            "\n"
          ]
        },
        {
          "output_type": "stream",
          "name": "stderr",
          "text": [
            "t: 100%|██████████| 151/151 [00:10<00:00,  6.38it/s, now=None]WARNING:py.warnings:/usr/local/lib/python3.10/dist-packages/moviepy/video/io/ffmpeg_reader.py:123: UserWarning: Warning: in file /content/gdrive/MyDrive/VISION ARTIFICIAL/Dataset Proyecto /14 Primo/primo (38).mp4, 6220800 bytes wanted but 0 bytes read,at frame 56/57, at time 1.87/1.88 sec. Using the last valid frame instead.\n",
            "  warnings.warn(\"Warning: in file %s, \"%(self.filename)+\n",
            "\n"
          ]
        },
        {
          "output_type": "stream",
          "name": "stdout",
          "text": [
            "Moviepy - Done !\n",
            "Moviepy - video ready /content/gdrive/MyDrive/VISION ARTIFICIAL/Dataset Proyecto /14 Primo/normalized_primo (38).mp4\n",
            "Normalized video saved as /content/gdrive/MyDrive/VISION ARTIFICIAL/Dataset Proyecto /14 Primo/normalized_primo (38).mp4\n",
            "\n",
            "Processing video /content/gdrive/MyDrive/VISION ARTIFICIAL/Dataset Proyecto /14 Primo/primo (39).mp4...\n",
            "Moviepy - Building video /content/gdrive/MyDrive/VISION ARTIFICIAL/Dataset Proyecto /14 Primo/normalized_primo (39).mp4.\n",
            "MoviePy - Writing audio in normalized_primo (39)TEMP_MPY_wvf_snd.mp3\n"
          ]
        },
        {
          "output_type": "stream",
          "name": "stderr",
          "text": []
        },
        {
          "output_type": "stream",
          "name": "stdout",
          "text": [
            "MoviePy - Done.\n",
            "Moviepy - Writing video /content/gdrive/MyDrive/VISION ARTIFICIAL/Dataset Proyecto /14 Primo/normalized_primo (39).mp4\n",
            "\n"
          ]
        },
        {
          "output_type": "stream",
          "name": "stderr",
          "text": []
        },
        {
          "output_type": "stream",
          "name": "stdout",
          "text": [
            "Moviepy - Done !\n",
            "Moviepy - video ready /content/gdrive/MyDrive/VISION ARTIFICIAL/Dataset Proyecto /14 Primo/normalized_primo (39).mp4\n",
            "Normalized video saved as /content/gdrive/MyDrive/VISION ARTIFICIAL/Dataset Proyecto /14 Primo/normalized_primo (39).mp4\n",
            "\n",
            "Processing video /content/gdrive/MyDrive/VISION ARTIFICIAL/Dataset Proyecto /14 Primo/primo (40).mp4...\n",
            "Moviepy - Building video /content/gdrive/MyDrive/VISION ARTIFICIAL/Dataset Proyecto /14 Primo/normalized_primo (40).mp4.\n",
            "MoviePy - Writing audio in normalized_primo (40)TEMP_MPY_wvf_snd.mp3\n"
          ]
        },
        {
          "output_type": "stream",
          "name": "stderr",
          "text": []
        },
        {
          "output_type": "stream",
          "name": "stdout",
          "text": [
            "MoviePy - Done.\n",
            "Moviepy - Writing video /content/gdrive/MyDrive/VISION ARTIFICIAL/Dataset Proyecto /14 Primo/normalized_primo (40).mp4\n",
            "\n"
          ]
        },
        {
          "output_type": "stream",
          "name": "stderr",
          "text": [
            "t: 100%|██████████| 180/180 [00:14<00:00, 12.02it/s, now=None]WARNING:py.warnings:/usr/local/lib/python3.10/dist-packages/moviepy/video/io/ffmpeg_reader.py:123: UserWarning: Warning: in file /content/gdrive/MyDrive/VISION ARTIFICIAL/Dataset Proyecto /14 Primo/primo (40).mp4, 6220800 bytes wanted but 0 bytes read,at frame 67/68, at time 2.23/2.25 sec. Using the last valid frame instead.\n",
            "  warnings.warn(\"Warning: in file %s, \"%(self.filename)+\n",
            "\n"
          ]
        },
        {
          "output_type": "stream",
          "name": "stdout",
          "text": [
            "Moviepy - Done !\n",
            "Moviepy - video ready /content/gdrive/MyDrive/VISION ARTIFICIAL/Dataset Proyecto /14 Primo/normalized_primo (40).mp4\n",
            "Normalized video saved as /content/gdrive/MyDrive/VISION ARTIFICIAL/Dataset Proyecto /14 Primo/normalized_primo (40).mp4\n",
            "\n",
            "Processing video /content/gdrive/MyDrive/VISION ARTIFICIAL/Dataset Proyecto /14 Primo/primo (41).mp4...\n",
            "Moviepy - Building video /content/gdrive/MyDrive/VISION ARTIFICIAL/Dataset Proyecto /14 Primo/normalized_primo (41).mp4.\n",
            "MoviePy - Writing audio in normalized_primo (41)TEMP_MPY_wvf_snd.mp3\n"
          ]
        },
        {
          "output_type": "stream",
          "name": "stderr",
          "text": []
        },
        {
          "output_type": "stream",
          "name": "stdout",
          "text": [
            "MoviePy - Done.\n",
            "Moviepy - Writing video /content/gdrive/MyDrive/VISION ARTIFICIAL/Dataset Proyecto /14 Primo/normalized_primo (41).mp4\n",
            "\n"
          ]
        },
        {
          "output_type": "stream",
          "name": "stderr",
          "text": [
            "t:  98%|█████████▊| 123/125 [00:10<00:00,  6.02it/s, now=None]WARNING:py.warnings:/usr/local/lib/python3.10/dist-packages/moviepy/video/io/ffmpeg_reader.py:123: UserWarning: Warning: in file /content/gdrive/MyDrive/VISION ARTIFICIAL/Dataset Proyecto /14 Primo/primo (41).mp4, 6220800 bytes wanted but 0 bytes read,at frame 46/47, at time 1.53/1.56 sec. Using the last valid frame instead.\n",
            "  warnings.warn(\"Warning: in file %s, \"%(self.filename)+\n",
            "\n"
          ]
        },
        {
          "output_type": "stream",
          "name": "stdout",
          "text": [
            "Moviepy - Done !\n",
            "Moviepy - video ready /content/gdrive/MyDrive/VISION ARTIFICIAL/Dataset Proyecto /14 Primo/normalized_primo (41).mp4\n",
            "Normalized video saved as /content/gdrive/MyDrive/VISION ARTIFICIAL/Dataset Proyecto /14 Primo/normalized_primo (41).mp4\n",
            "\n",
            "Processing video /content/gdrive/MyDrive/VISION ARTIFICIAL/Dataset Proyecto /14 Primo/primo (42).mp4...\n",
            "Moviepy - Building video /content/gdrive/MyDrive/VISION ARTIFICIAL/Dataset Proyecto /14 Primo/normalized_primo (42).mp4.\n",
            "MoviePy - Writing audio in normalized_primo (42)TEMP_MPY_wvf_snd.mp3\n"
          ]
        },
        {
          "output_type": "stream",
          "name": "stderr",
          "text": []
        },
        {
          "output_type": "stream",
          "name": "stdout",
          "text": [
            "MoviePy - Done.\n",
            "Moviepy - Writing video /content/gdrive/MyDrive/VISION ARTIFICIAL/Dataset Proyecto /14 Primo/normalized_primo (42).mp4\n",
            "\n"
          ]
        },
        {
          "output_type": "stream",
          "name": "stderr",
          "text": [
            "t:  99%|█████████▉| 187/188 [00:15<00:00,  9.16it/s, now=None]WARNING:py.warnings:/usr/local/lib/python3.10/dist-packages/moviepy/video/io/ffmpeg_reader.py:123: UserWarning: Warning: in file /content/gdrive/MyDrive/VISION ARTIFICIAL/Dataset Proyecto /14 Primo/primo (42).mp4, 6220800 bytes wanted but 0 bytes read,at frame 70/71, at time 2.33/2.35 sec. Using the last valid frame instead.\n",
            "  warnings.warn(\"Warning: in file %s, \"%(self.filename)+\n",
            "\n"
          ]
        },
        {
          "output_type": "stream",
          "name": "stdout",
          "text": [
            "Moviepy - Done !\n",
            "Moviepy - video ready /content/gdrive/MyDrive/VISION ARTIFICIAL/Dataset Proyecto /14 Primo/normalized_primo (42).mp4\n",
            "Normalized video saved as /content/gdrive/MyDrive/VISION ARTIFICIAL/Dataset Proyecto /14 Primo/normalized_primo (42).mp4\n",
            "\n",
            "Processing video /content/gdrive/MyDrive/VISION ARTIFICIAL/Dataset Proyecto /14 Primo/primo (43).mp4...\n",
            "Moviepy - Building video /content/gdrive/MyDrive/VISION ARTIFICIAL/Dataset Proyecto /14 Primo/normalized_primo (43).mp4.\n",
            "MoviePy - Writing audio in normalized_primo (43)TEMP_MPY_wvf_snd.mp3\n"
          ]
        },
        {
          "output_type": "stream",
          "name": "stderr",
          "text": []
        },
        {
          "output_type": "stream",
          "name": "stdout",
          "text": [
            "MoviePy - Done.\n",
            "Moviepy - Writing video /content/gdrive/MyDrive/VISION ARTIFICIAL/Dataset Proyecto /14 Primo/normalized_primo (43).mp4\n",
            "\n"
          ]
        },
        {
          "output_type": "stream",
          "name": "stderr",
          "text": []
        },
        {
          "output_type": "stream",
          "name": "stdout",
          "text": [
            "Moviepy - Done !\n",
            "Moviepy - video ready /content/gdrive/MyDrive/VISION ARTIFICIAL/Dataset Proyecto /14 Primo/normalized_primo (43).mp4\n",
            "Normalized video saved as /content/gdrive/MyDrive/VISION ARTIFICIAL/Dataset Proyecto /14 Primo/normalized_primo (43).mp4\n",
            "\n",
            "Processing video /content/gdrive/MyDrive/VISION ARTIFICIAL/Dataset Proyecto /14 Primo/primo (44).mp4...\n",
            "Moviepy - Building video /content/gdrive/MyDrive/VISION ARTIFICIAL/Dataset Proyecto /14 Primo/normalized_primo (44).mp4.\n",
            "MoviePy - Writing audio in normalized_primo (44)TEMP_MPY_wvf_snd.mp3\n"
          ]
        },
        {
          "output_type": "stream",
          "name": "stderr",
          "text": []
        },
        {
          "output_type": "stream",
          "name": "stdout",
          "text": [
            "MoviePy - Done.\n",
            "Moviepy - Writing video /content/gdrive/MyDrive/VISION ARTIFICIAL/Dataset Proyecto /14 Primo/normalized_primo (44).mp4\n",
            "\n"
          ]
        },
        {
          "output_type": "stream",
          "name": "stderr",
          "text": [
            "t: 100%|██████████| 177/177 [00:15<00:00, 12.01it/s, now=None]WARNING:py.warnings:/usr/local/lib/python3.10/dist-packages/moviepy/video/io/ffmpeg_reader.py:123: UserWarning: Warning: in file /content/gdrive/MyDrive/VISION ARTIFICIAL/Dataset Proyecto /14 Primo/primo (44).mp4, 6220800 bytes wanted but 0 bytes read,at frame 66/67, at time 2.20/2.21 sec. Using the last valid frame instead.\n",
            "  warnings.warn(\"Warning: in file %s, \"%(self.filename)+\n",
            "\n"
          ]
        },
        {
          "output_type": "stream",
          "name": "stdout",
          "text": [
            "Moviepy - Done !\n",
            "Moviepy - video ready /content/gdrive/MyDrive/VISION ARTIFICIAL/Dataset Proyecto /14 Primo/normalized_primo (44).mp4\n",
            "Normalized video saved as /content/gdrive/MyDrive/VISION ARTIFICIAL/Dataset Proyecto /14 Primo/normalized_primo (44).mp4\n",
            "\n",
            "Processing video /content/gdrive/MyDrive/VISION ARTIFICIAL/Dataset Proyecto /14 Primo/primo (45).mp4...\n",
            "Moviepy - Building video /content/gdrive/MyDrive/VISION ARTIFICIAL/Dataset Proyecto /14 Primo/normalized_primo (45).mp4.\n",
            "MoviePy - Writing audio in normalized_primo (45)TEMP_MPY_wvf_snd.mp3\n"
          ]
        },
        {
          "output_type": "stream",
          "name": "stderr",
          "text": []
        },
        {
          "output_type": "stream",
          "name": "stdout",
          "text": [
            "MoviePy - Done.\n",
            "Moviepy - Writing video /content/gdrive/MyDrive/VISION ARTIFICIAL/Dataset Proyecto /14 Primo/normalized_primo (45).mp4\n",
            "\n"
          ]
        },
        {
          "output_type": "stream",
          "name": "stderr",
          "text": []
        },
        {
          "output_type": "stream",
          "name": "stdout",
          "text": [
            "Moviepy - Done !\n",
            "Moviepy - video ready /content/gdrive/MyDrive/VISION ARTIFICIAL/Dataset Proyecto /14 Primo/normalized_primo (45).mp4\n",
            "Normalized video saved as /content/gdrive/MyDrive/VISION ARTIFICIAL/Dataset Proyecto /14 Primo/normalized_primo (45).mp4\n",
            "\n",
            "Processing video /content/gdrive/MyDrive/VISION ARTIFICIAL/Dataset Proyecto /14 Primo/primo (46).mp4...\n",
            "Moviepy - Building video /content/gdrive/MyDrive/VISION ARTIFICIAL/Dataset Proyecto /14 Primo/normalized_primo (46).mp4.\n",
            "MoviePy - Writing audio in normalized_primo (46)TEMP_MPY_wvf_snd.mp3\n"
          ]
        },
        {
          "output_type": "stream",
          "name": "stderr",
          "text": []
        },
        {
          "output_type": "stream",
          "name": "stdout",
          "text": [
            "MoviePy - Done.\n",
            "Moviepy - Writing video /content/gdrive/MyDrive/VISION ARTIFICIAL/Dataset Proyecto /14 Primo/normalized_primo (46).mp4\n",
            "\n"
          ]
        },
        {
          "output_type": "stream",
          "name": "stderr",
          "text": [
            "t:  99%|█████████▉| 168/169 [00:14<00:00, 10.81it/s, now=None]WARNING:py.warnings:/usr/local/lib/python3.10/dist-packages/moviepy/video/io/ffmpeg_reader.py:123: UserWarning: Warning: in file /content/gdrive/MyDrive/VISION ARTIFICIAL/Dataset Proyecto /14 Primo/primo (46).mp4, 6220800 bytes wanted but 0 bytes read,at frame 63/64, at time 2.10/2.11 sec. Using the last valid frame instead.\n",
            "  warnings.warn(\"Warning: in file %s, \"%(self.filename)+\n",
            "\n"
          ]
        },
        {
          "output_type": "stream",
          "name": "stdout",
          "text": [
            "Moviepy - Done !\n",
            "Moviepy - video ready /content/gdrive/MyDrive/VISION ARTIFICIAL/Dataset Proyecto /14 Primo/normalized_primo (46).mp4\n",
            "Normalized video saved as /content/gdrive/MyDrive/VISION ARTIFICIAL/Dataset Proyecto /14 Primo/normalized_primo (46).mp4\n",
            "\n",
            "Processing video /content/gdrive/MyDrive/VISION ARTIFICIAL/Dataset Proyecto /14 Primo/primo (47).mp4...\n",
            "Moviepy - Building video /content/gdrive/MyDrive/VISION ARTIFICIAL/Dataset Proyecto /14 Primo/normalized_primo (47).mp4.\n",
            "MoviePy - Writing audio in normalized_primo (47)TEMP_MPY_wvf_snd.mp3\n"
          ]
        },
        {
          "output_type": "stream",
          "name": "stderr",
          "text": []
        },
        {
          "output_type": "stream",
          "name": "stdout",
          "text": [
            "MoviePy - Done.\n",
            "Moviepy - Writing video /content/gdrive/MyDrive/VISION ARTIFICIAL/Dataset Proyecto /14 Primo/normalized_primo (47).mp4\n",
            "\n"
          ]
        },
        {
          "output_type": "stream",
          "name": "stderr",
          "text": [
            "t:  98%|█████████▊| 165/168 [00:13<00:00, 11.30it/s, now=None]WARNING:py.warnings:/usr/local/lib/python3.10/dist-packages/moviepy/video/io/ffmpeg_reader.py:123: UserWarning: Warning: in file /content/gdrive/MyDrive/VISION ARTIFICIAL/Dataset Proyecto /14 Primo/primo (47).mp4, 6220800 bytes wanted but 0 bytes read,at frame 62/63, at time 2.07/2.09 sec. Using the last valid frame instead.\n",
            "  warnings.warn(\"Warning: in file %s, \"%(self.filename)+\n",
            "\n"
          ]
        },
        {
          "output_type": "stream",
          "name": "stdout",
          "text": [
            "Moviepy - Done !\n",
            "Moviepy - video ready /content/gdrive/MyDrive/VISION ARTIFICIAL/Dataset Proyecto /14 Primo/normalized_primo (47).mp4\n",
            "Normalized video saved as /content/gdrive/MyDrive/VISION ARTIFICIAL/Dataset Proyecto /14 Primo/normalized_primo (47).mp4\n",
            "\n",
            "Processing video /content/gdrive/MyDrive/VISION ARTIFICIAL/Dataset Proyecto /14 Primo/primo (48).mp4...\n",
            "Moviepy - Building video /content/gdrive/MyDrive/VISION ARTIFICIAL/Dataset Proyecto /14 Primo/normalized_primo (48).mp4.\n",
            "MoviePy - Writing audio in normalized_primo (48)TEMP_MPY_wvf_snd.mp3\n"
          ]
        },
        {
          "output_type": "stream",
          "name": "stderr",
          "text": []
        },
        {
          "output_type": "stream",
          "name": "stdout",
          "text": [
            "MoviePy - Done.\n",
            "Moviepy - Writing video /content/gdrive/MyDrive/VISION ARTIFICIAL/Dataset Proyecto /14 Primo/normalized_primo (48).mp4\n",
            "\n"
          ]
        },
        {
          "output_type": "stream",
          "name": "stderr",
          "text": [
            "t: 100%|██████████| 145/145 [00:12<00:00, 10.04it/s, now=None]WARNING:py.warnings:/usr/local/lib/python3.10/dist-packages/moviepy/video/io/ffmpeg_reader.py:123: UserWarning: Warning: in file /content/gdrive/MyDrive/VISION ARTIFICIAL/Dataset Proyecto /14 Primo/primo (48).mp4, 6220800 bytes wanted but 0 bytes read,at frame 54/55, at time 1.80/1.81 sec. Using the last valid frame instead.\n",
            "  warnings.warn(\"Warning: in file %s, \"%(self.filename)+\n",
            "\n"
          ]
        },
        {
          "output_type": "stream",
          "name": "stdout",
          "text": [
            "Moviepy - Done !\n",
            "Moviepy - video ready /content/gdrive/MyDrive/VISION ARTIFICIAL/Dataset Proyecto /14 Primo/normalized_primo (48).mp4\n",
            "Normalized video saved as /content/gdrive/MyDrive/VISION ARTIFICIAL/Dataset Proyecto /14 Primo/normalized_primo (48).mp4\n",
            "\n",
            "Processing video /content/gdrive/MyDrive/VISION ARTIFICIAL/Dataset Proyecto /14 Primo/primo (49).mp4...\n",
            "Moviepy - Building video /content/gdrive/MyDrive/VISION ARTIFICIAL/Dataset Proyecto /14 Primo/normalized_primo (49).mp4.\n",
            "MoviePy - Writing audio in normalized_primo (49)TEMP_MPY_wvf_snd.mp3\n"
          ]
        },
        {
          "output_type": "stream",
          "name": "stderr",
          "text": []
        },
        {
          "output_type": "stream",
          "name": "stdout",
          "text": [
            "MoviePy - Done.\n",
            "Moviepy - Writing video /content/gdrive/MyDrive/VISION ARTIFICIAL/Dataset Proyecto /14 Primo/normalized_primo (49).mp4\n",
            "\n"
          ]
        },
        {
          "output_type": "stream",
          "name": "stderr",
          "text": [
            "t:  99%|█████████▉| 184/186 [00:15<00:00, 10.59it/s, now=None]WARNING:py.warnings:/usr/local/lib/python3.10/dist-packages/moviepy/video/io/ffmpeg_reader.py:123: UserWarning: Warning: in file /content/gdrive/MyDrive/VISION ARTIFICIAL/Dataset Proyecto /14 Primo/primo (49).mp4, 6220800 bytes wanted but 0 bytes read,at frame 69/70, at time 2.30/2.32 sec. Using the last valid frame instead.\n",
            "  warnings.warn(\"Warning: in file %s, \"%(self.filename)+\n",
            "\n"
          ]
        },
        {
          "output_type": "stream",
          "name": "stdout",
          "text": [
            "Moviepy - Done !\n",
            "Moviepy - video ready /content/gdrive/MyDrive/VISION ARTIFICIAL/Dataset Proyecto /14 Primo/normalized_primo (49).mp4\n",
            "Normalized video saved as /content/gdrive/MyDrive/VISION ARTIFICIAL/Dataset Proyecto /14 Primo/normalized_primo (49).mp4\n",
            "\n",
            "Processing video /content/gdrive/MyDrive/VISION ARTIFICIAL/Dataset Proyecto /14 Primo/primo (50).mp4...\n",
            "Moviepy - Building video /content/gdrive/MyDrive/VISION ARTIFICIAL/Dataset Proyecto /14 Primo/normalized_primo (50).mp4.\n",
            "MoviePy - Writing audio in normalized_primo (50)TEMP_MPY_wvf_snd.mp3\n"
          ]
        },
        {
          "output_type": "stream",
          "name": "stderr",
          "text": []
        },
        {
          "output_type": "stream",
          "name": "stdout",
          "text": [
            "MoviePy - Done.\n",
            "Moviepy - Writing video /content/gdrive/MyDrive/VISION ARTIFICIAL/Dataset Proyecto /14 Primo/normalized_primo (50).mp4\n",
            "\n"
          ]
        },
        {
          "output_type": "stream",
          "name": "stderr",
          "text": [
            "t:  99%|█████████▉| 150/151 [00:12<00:00, 10.35it/s, now=None]WARNING:py.warnings:/usr/local/lib/python3.10/dist-packages/moviepy/video/io/ffmpeg_reader.py:123: UserWarning: Warning: in file /content/gdrive/MyDrive/VISION ARTIFICIAL/Dataset Proyecto /14 Primo/primo (50).mp4, 6220800 bytes wanted but 0 bytes read,at frame 56/57, at time 1.87/1.88 sec. Using the last valid frame instead.\n",
            "  warnings.warn(\"Warning: in file %s, \"%(self.filename)+\n",
            "\n"
          ]
        },
        {
          "output_type": "stream",
          "name": "stdout",
          "text": [
            "Moviepy - Done !\n",
            "Moviepy - video ready /content/gdrive/MyDrive/VISION ARTIFICIAL/Dataset Proyecto /14 Primo/normalized_primo (50).mp4\n",
            "Normalized video saved as /content/gdrive/MyDrive/VISION ARTIFICIAL/Dataset Proyecto /14 Primo/normalized_primo (50).mp4\n",
            "\n",
            "Processing video /content/gdrive/MyDrive/VISION ARTIFICIAL/Dataset Proyecto /14 Primo/primo (51).mp4...\n",
            "Moviepy - Building video /content/gdrive/MyDrive/VISION ARTIFICIAL/Dataset Proyecto /14 Primo/normalized_primo (51).mp4.\n",
            "MoviePy - Writing audio in normalized_primo (51)TEMP_MPY_wvf_snd.mp3\n"
          ]
        },
        {
          "output_type": "stream",
          "name": "stderr",
          "text": []
        },
        {
          "output_type": "stream",
          "name": "stdout",
          "text": [
            "MoviePy - Done.\n",
            "Moviepy - Writing video /content/gdrive/MyDrive/VISION ARTIFICIAL/Dataset Proyecto /14 Primo/normalized_primo (51).mp4\n",
            "\n"
          ]
        },
        {
          "output_type": "stream",
          "name": "stderr",
          "text": [
            "t:  99%|█████████▉| 174/175 [00:14<00:00, 11.53it/s, now=None]WARNING:py.warnings:/usr/local/lib/python3.10/dist-packages/moviepy/video/io/ffmpeg_reader.py:123: UserWarning: Warning: in file /content/gdrive/MyDrive/VISION ARTIFICIAL/Dataset Proyecto /14 Primo/primo (51).mp4, 6220800 bytes wanted but 0 bytes read,at frame 65/66, at time 2.17/2.18 sec. Using the last valid frame instead.\n",
            "  warnings.warn(\"Warning: in file %s, \"%(self.filename)+\n",
            "\n"
          ]
        },
        {
          "output_type": "stream",
          "name": "stdout",
          "text": [
            "Moviepy - Done !\n",
            "Moviepy - video ready /content/gdrive/MyDrive/VISION ARTIFICIAL/Dataset Proyecto /14 Primo/normalized_primo (51).mp4\n",
            "Normalized video saved as /content/gdrive/MyDrive/VISION ARTIFICIAL/Dataset Proyecto /14 Primo/normalized_primo (51).mp4\n",
            "\n",
            "Processing video /content/gdrive/MyDrive/VISION ARTIFICIAL/Dataset Proyecto /14 Primo/primo (52).mp4...\n",
            "Moviepy - Building video /content/gdrive/MyDrive/VISION ARTIFICIAL/Dataset Proyecto /14 Primo/normalized_primo (52).mp4.\n",
            "MoviePy - Writing audio in normalized_primo (52)TEMP_MPY_wvf_snd.mp3\n"
          ]
        },
        {
          "output_type": "stream",
          "name": "stderr",
          "text": []
        },
        {
          "output_type": "stream",
          "name": "stdout",
          "text": [
            "MoviePy - Done.\n",
            "Moviepy - Writing video /content/gdrive/MyDrive/VISION ARTIFICIAL/Dataset Proyecto /14 Primo/normalized_primo (52).mp4\n",
            "\n"
          ]
        },
        {
          "output_type": "stream",
          "name": "stderr",
          "text": [
            "t: 100%|██████████| 140/140 [00:11<00:00, 11.29it/s, now=None]WARNING:py.warnings:/usr/local/lib/python3.10/dist-packages/moviepy/video/io/ffmpeg_reader.py:123: UserWarning: Warning: in file /content/gdrive/MyDrive/VISION ARTIFICIAL/Dataset Proyecto /14 Primo/primo (52).mp4, 6220800 bytes wanted but 0 bytes read,at frame 52/53, at time 1.73/1.74 sec. Using the last valid frame instead.\n",
            "  warnings.warn(\"Warning: in file %s, \"%(self.filename)+\n",
            "\n"
          ]
        },
        {
          "output_type": "stream",
          "name": "stdout",
          "text": [
            "Moviepy - Done !\n",
            "Moviepy - video ready /content/gdrive/MyDrive/VISION ARTIFICIAL/Dataset Proyecto /14 Primo/normalized_primo (52).mp4\n",
            "Normalized video saved as /content/gdrive/MyDrive/VISION ARTIFICIAL/Dataset Proyecto /14 Primo/normalized_primo (52).mp4\n",
            "\n",
            "Processing video /content/gdrive/MyDrive/VISION ARTIFICIAL/Dataset Proyecto /14 Primo/primo (53).mp4...\n",
            "Moviepy - Building video /content/gdrive/MyDrive/VISION ARTIFICIAL/Dataset Proyecto /14 Primo/normalized_primo (53).mp4.\n",
            "MoviePy - Writing audio in normalized_primo (53)TEMP_MPY_wvf_snd.mp3\n"
          ]
        },
        {
          "output_type": "stream",
          "name": "stderr",
          "text": []
        },
        {
          "output_type": "stream",
          "name": "stdout",
          "text": [
            "MoviePy - Done.\n",
            "Moviepy - Writing video /content/gdrive/MyDrive/VISION ARTIFICIAL/Dataset Proyecto /14 Primo/normalized_primo (53).mp4\n",
            "\n"
          ]
        },
        {
          "output_type": "stream",
          "name": "stderr",
          "text": [
            "t:  99%|█████████▉| 167/168 [00:13<00:00, 12.46it/s, now=None]WARNING:py.warnings:/usr/local/lib/python3.10/dist-packages/moviepy/video/io/ffmpeg_reader.py:123: UserWarning: Warning: in file /content/gdrive/MyDrive/VISION ARTIFICIAL/Dataset Proyecto /14 Primo/primo (53).mp4, 6220800 bytes wanted but 0 bytes read,at frame 62/63, at time 2.07/2.09 sec. Using the last valid frame instead.\n",
            "  warnings.warn(\"Warning: in file %s, \"%(self.filename)+\n",
            "\n"
          ]
        },
        {
          "output_type": "stream",
          "name": "stdout",
          "text": [
            "Moviepy - Done !\n",
            "Moviepy - video ready /content/gdrive/MyDrive/VISION ARTIFICIAL/Dataset Proyecto /14 Primo/normalized_primo (53).mp4\n",
            "Normalized video saved as /content/gdrive/MyDrive/VISION ARTIFICIAL/Dataset Proyecto /14 Primo/normalized_primo (53).mp4\n",
            "\n",
            "Processing video /content/gdrive/MyDrive/VISION ARTIFICIAL/Dataset Proyecto /14 Primo/primo (54).mp4...\n",
            "Moviepy - Building video /content/gdrive/MyDrive/VISION ARTIFICIAL/Dataset Proyecto /14 Primo/normalized_primo (54).mp4.\n",
            "MoviePy - Writing audio in normalized_primo (54)TEMP_MPY_wvf_snd.mp3\n"
          ]
        },
        {
          "output_type": "stream",
          "name": "stderr",
          "text": []
        },
        {
          "output_type": "stream",
          "name": "stdout",
          "text": [
            "MoviePy - Done.\n",
            "Moviepy - Writing video /content/gdrive/MyDrive/VISION ARTIFICIAL/Dataset Proyecto /14 Primo/normalized_primo (54).mp4\n",
            "\n"
          ]
        },
        {
          "output_type": "stream",
          "name": "stderr",
          "text": [
            "t:  99%|█████████▉| 198/199 [00:15<00:00, 14.06it/s, now=None]WARNING:py.warnings:/usr/local/lib/python3.10/dist-packages/moviepy/video/io/ffmpeg_reader.py:123: UserWarning: Warning: in file /content/gdrive/MyDrive/VISION ARTIFICIAL/Dataset Proyecto /14 Primo/primo (54).mp4, 6220800 bytes wanted but 0 bytes read,at frame 74/75, at time 2.47/2.48 sec. Using the last valid frame instead.\n",
            "  warnings.warn(\"Warning: in file %s, \"%(self.filename)+\n",
            "\n"
          ]
        },
        {
          "output_type": "stream",
          "name": "stdout",
          "text": [
            "Moviepy - Done !\n",
            "Moviepy - video ready /content/gdrive/MyDrive/VISION ARTIFICIAL/Dataset Proyecto /14 Primo/normalized_primo (54).mp4\n",
            "Normalized video saved as /content/gdrive/MyDrive/VISION ARTIFICIAL/Dataset Proyecto /14 Primo/normalized_primo (54).mp4\n",
            "\n",
            "Processing video /content/gdrive/MyDrive/VISION ARTIFICIAL/Dataset Proyecto /14 Primo/primo (55).mp4...\n",
            "Moviepy - Building video /content/gdrive/MyDrive/VISION ARTIFICIAL/Dataset Proyecto /14 Primo/normalized_primo (55).mp4.\n",
            "MoviePy - Writing audio in normalized_primo (55)TEMP_MPY_wvf_snd.mp3\n"
          ]
        },
        {
          "output_type": "stream",
          "name": "stderr",
          "text": []
        },
        {
          "output_type": "stream",
          "name": "stdout",
          "text": [
            "MoviePy - Done.\n",
            "Moviepy - Writing video /content/gdrive/MyDrive/VISION ARTIFICIAL/Dataset Proyecto /14 Primo/normalized_primo (55).mp4\n",
            "\n"
          ]
        },
        {
          "output_type": "stream",
          "name": "stderr",
          "text": [
            "t: 100%|██████████| 151/151 [00:14<00:00,  7.16it/s, now=None]WARNING:py.warnings:/usr/local/lib/python3.10/dist-packages/moviepy/video/io/ffmpeg_reader.py:123: UserWarning: Warning: in file /content/gdrive/MyDrive/VISION ARTIFICIAL/Dataset Proyecto /14 Primo/primo (55).mp4, 6220800 bytes wanted but 0 bytes read,at frame 56/57, at time 1.87/1.88 sec. Using the last valid frame instead.\n",
            "  warnings.warn(\"Warning: in file %s, \"%(self.filename)+\n",
            "\n"
          ]
        },
        {
          "output_type": "stream",
          "name": "stdout",
          "text": [
            "Moviepy - Done !\n",
            "Moviepy - video ready /content/gdrive/MyDrive/VISION ARTIFICIAL/Dataset Proyecto /14 Primo/normalized_primo (55).mp4\n",
            "Normalized video saved as /content/gdrive/MyDrive/VISION ARTIFICIAL/Dataset Proyecto /14 Primo/normalized_primo (55).mp4\n",
            "\n",
            "Processing video /content/gdrive/MyDrive/VISION ARTIFICIAL/Dataset Proyecto /14 Primo/primo (56).mp4...\n",
            "Moviepy - Building video /content/gdrive/MyDrive/VISION ARTIFICIAL/Dataset Proyecto /14 Primo/normalized_primo (56).mp4.\n",
            "MoviePy - Writing audio in normalized_primo (56)TEMP_MPY_wvf_snd.mp3\n"
          ]
        },
        {
          "output_type": "stream",
          "name": "stderr",
          "text": []
        },
        {
          "output_type": "stream",
          "name": "stdout",
          "text": [
            "MoviePy - Done.\n",
            "Moviepy - Writing video /content/gdrive/MyDrive/VISION ARTIFICIAL/Dataset Proyecto /14 Primo/normalized_primo (56).mp4\n",
            "\n"
          ]
        },
        {
          "output_type": "stream",
          "name": "stderr",
          "text": []
        },
        {
          "output_type": "stream",
          "name": "stdout",
          "text": [
            "Moviepy - Done !\n",
            "Moviepy - video ready /content/gdrive/MyDrive/VISION ARTIFICIAL/Dataset Proyecto /14 Primo/normalized_primo (56).mp4\n",
            "Normalized video saved as /content/gdrive/MyDrive/VISION ARTIFICIAL/Dataset Proyecto /14 Primo/normalized_primo (56).mp4\n",
            "\n",
            "Processing video /content/gdrive/MyDrive/VISION ARTIFICIAL/Dataset Proyecto /14 Primo/primo (57).mp4...\n",
            "Moviepy - Building video /content/gdrive/MyDrive/VISION ARTIFICIAL/Dataset Proyecto /14 Primo/normalized_primo (57).mp4.\n",
            "MoviePy - Writing audio in normalized_primo (57)TEMP_MPY_wvf_snd.mp3\n"
          ]
        },
        {
          "output_type": "stream",
          "name": "stderr",
          "text": []
        },
        {
          "output_type": "stream",
          "name": "stdout",
          "text": [
            "MoviePy - Done.\n",
            "Moviepy - Writing video /content/gdrive/MyDrive/VISION ARTIFICIAL/Dataset Proyecto /14 Primo/normalized_primo (57).mp4\n",
            "\n"
          ]
        },
        {
          "output_type": "stream",
          "name": "stderr",
          "text": [
            "t: 100%|██████████| 151/151 [00:11<00:00,  6.73it/s, now=None]WARNING:py.warnings:/usr/local/lib/python3.10/dist-packages/moviepy/video/io/ffmpeg_reader.py:123: UserWarning: Warning: in file /content/gdrive/MyDrive/VISION ARTIFICIAL/Dataset Proyecto /14 Primo/primo (57).mp4, 6220800 bytes wanted but 0 bytes read,at frame 56/57, at time 1.87/1.88 sec. Using the last valid frame instead.\n",
            "  warnings.warn(\"Warning: in file %s, \"%(self.filename)+\n",
            "\n"
          ]
        },
        {
          "output_type": "stream",
          "name": "stdout",
          "text": [
            "Moviepy - Done !\n",
            "Moviepy - video ready /content/gdrive/MyDrive/VISION ARTIFICIAL/Dataset Proyecto /14 Primo/normalized_primo (57).mp4\n",
            "Normalized video saved as /content/gdrive/MyDrive/VISION ARTIFICIAL/Dataset Proyecto /14 Primo/normalized_primo (57).mp4\n",
            "\n",
            "Processing video /content/gdrive/MyDrive/VISION ARTIFICIAL/Dataset Proyecto /14 Primo/primo (58).mp4...\n",
            "Moviepy - Building video /content/gdrive/MyDrive/VISION ARTIFICIAL/Dataset Proyecto /14 Primo/normalized_primo (58).mp4.\n",
            "MoviePy - Writing audio in normalized_primo (58)TEMP_MPY_wvf_snd.mp3\n"
          ]
        },
        {
          "output_type": "stream",
          "name": "stderr",
          "text": []
        },
        {
          "output_type": "stream",
          "name": "stdout",
          "text": [
            "MoviePy - Done.\n",
            "Moviepy - Writing video /content/gdrive/MyDrive/VISION ARTIFICIAL/Dataset Proyecto /14 Primo/normalized_primo (58).mp4\n",
            "\n"
          ]
        },
        {
          "output_type": "stream",
          "name": "stderr",
          "text": [
            "t: 100%|██████████| 172/172 [00:13<00:00,  6.01it/s, now=None]WARNING:py.warnings:/usr/local/lib/python3.10/dist-packages/moviepy/video/io/ffmpeg_reader.py:123: UserWarning: Warning: in file /content/gdrive/MyDrive/VISION ARTIFICIAL/Dataset Proyecto /14 Primo/primo (58).mp4, 6220800 bytes wanted but 0 bytes read,at frame 64/65, at time 2.13/2.14 sec. Using the last valid frame instead.\n",
            "  warnings.warn(\"Warning: in file %s, \"%(self.filename)+\n",
            "\n"
          ]
        },
        {
          "output_type": "stream",
          "name": "stdout",
          "text": [
            "Moviepy - Done !\n",
            "Moviepy - video ready /content/gdrive/MyDrive/VISION ARTIFICIAL/Dataset Proyecto /14 Primo/normalized_primo (58).mp4\n",
            "Normalized video saved as /content/gdrive/MyDrive/VISION ARTIFICIAL/Dataset Proyecto /14 Primo/normalized_primo (58).mp4\n",
            "\n",
            "Processing video /content/gdrive/MyDrive/VISION ARTIFICIAL/Dataset Proyecto /14 Primo/primo (59).mp4...\n",
            "Moviepy - Building video /content/gdrive/MyDrive/VISION ARTIFICIAL/Dataset Proyecto /14 Primo/normalized_primo (59).mp4.\n",
            "MoviePy - Writing audio in normalized_primo (59)TEMP_MPY_wvf_snd.mp3\n"
          ]
        },
        {
          "output_type": "stream",
          "name": "stderr",
          "text": []
        },
        {
          "output_type": "stream",
          "name": "stdout",
          "text": [
            "MoviePy - Done.\n",
            "Moviepy - Writing video /content/gdrive/MyDrive/VISION ARTIFICIAL/Dataset Proyecto /14 Primo/normalized_primo (59).mp4\n",
            "\n"
          ]
        },
        {
          "output_type": "stream",
          "name": "stderr",
          "text": []
        },
        {
          "output_type": "stream",
          "name": "stdout",
          "text": [
            "Moviepy - Done !\n",
            "Moviepy - video ready /content/gdrive/MyDrive/VISION ARTIFICIAL/Dataset Proyecto /14 Primo/normalized_primo (59).mp4\n",
            "Normalized video saved as /content/gdrive/MyDrive/VISION ARTIFICIAL/Dataset Proyecto /14 Primo/normalized_primo (59).mp4\n",
            "\n",
            "Processing video /content/gdrive/MyDrive/VISION ARTIFICIAL/Dataset Proyecto /14 Primo/primo (60).mp4...\n",
            "Moviepy - Building video /content/gdrive/MyDrive/VISION ARTIFICIAL/Dataset Proyecto /14 Primo/normalized_primo (60).mp4.\n",
            "MoviePy - Writing audio in normalized_primo (60)TEMP_MPY_wvf_snd.mp3\n"
          ]
        },
        {
          "output_type": "stream",
          "name": "stderr",
          "text": []
        },
        {
          "output_type": "stream",
          "name": "stdout",
          "text": [
            "MoviePy - Done.\n",
            "Moviepy - Writing video /content/gdrive/MyDrive/VISION ARTIFICIAL/Dataset Proyecto /14 Primo/normalized_primo (60).mp4\n",
            "\n"
          ]
        },
        {
          "output_type": "stream",
          "name": "stderr",
          "text": [
            "t:  99%|█████████▉| 137/138 [00:07<00:00, 10.38it/s, now=None]WARNING:py.warnings:/usr/local/lib/python3.10/dist-packages/moviepy/video/io/ffmpeg_reader.py:123: UserWarning: Warning: in file /content/gdrive/MyDrive/VISION ARTIFICIAL/Dataset Proyecto /14 Primo/primo (60).mp4, 6220800 bytes wanted but 0 bytes read,at frame 51/52, at time 1.70/1.72 sec. Using the last valid frame instead.\n",
            "  warnings.warn(\"Warning: in file %s, \"%(self.filename)+\n",
            "\n"
          ]
        },
        {
          "output_type": "stream",
          "name": "stdout",
          "text": [
            "Moviepy - Done !\n",
            "Moviepy - video ready /content/gdrive/MyDrive/VISION ARTIFICIAL/Dataset Proyecto /14 Primo/normalized_primo (60).mp4\n",
            "Normalized video saved as /content/gdrive/MyDrive/VISION ARTIFICIAL/Dataset Proyecto /14 Primo/normalized_primo (60).mp4\n",
            "\n",
            "Processing video /content/gdrive/MyDrive/VISION ARTIFICIAL/Dataset Proyecto /14 Primo/primo (61).mp4...\n",
            "Moviepy - Building video /content/gdrive/MyDrive/VISION ARTIFICIAL/Dataset Proyecto /14 Primo/normalized_primo (61).mp4.\n",
            "MoviePy - Writing audio in normalized_primo (61)TEMP_MPY_wvf_snd.mp3\n"
          ]
        },
        {
          "output_type": "stream",
          "name": "stderr",
          "text": []
        },
        {
          "output_type": "stream",
          "name": "stdout",
          "text": [
            "MoviePy - Done.\n",
            "Moviepy - Writing video /content/gdrive/MyDrive/VISION ARTIFICIAL/Dataset Proyecto /14 Primo/normalized_primo (61).mp4\n",
            "\n"
          ]
        },
        {
          "output_type": "stream",
          "name": "stderr",
          "text": [
            "t:  99%|█████████▉| 192/193 [00:15<00:00,  8.56it/s, now=None]WARNING:py.warnings:/usr/local/lib/python3.10/dist-packages/moviepy/video/io/ffmpeg_reader.py:123: UserWarning: Warning: in file /content/gdrive/MyDrive/VISION ARTIFICIAL/Dataset Proyecto /14 Primo/primo (61).mp4, 6220800 bytes wanted but 0 bytes read,at frame 72/73, at time 2.40/2.41 sec. Using the last valid frame instead.\n",
            "  warnings.warn(\"Warning: in file %s, \"%(self.filename)+\n",
            "\n"
          ]
        },
        {
          "output_type": "stream",
          "name": "stdout",
          "text": [
            "Moviepy - Done !\n",
            "Moviepy - video ready /content/gdrive/MyDrive/VISION ARTIFICIAL/Dataset Proyecto /14 Primo/normalized_primo (61).mp4\n",
            "Normalized video saved as /content/gdrive/MyDrive/VISION ARTIFICIAL/Dataset Proyecto /14 Primo/normalized_primo (61).mp4\n",
            "\n",
            "Processing video /content/gdrive/MyDrive/VISION ARTIFICIAL/Dataset Proyecto /14 Primo/primo (62).mp4...\n",
            "Moviepy - Building video /content/gdrive/MyDrive/VISION ARTIFICIAL/Dataset Proyecto /14 Primo/normalized_primo (62).mp4.\n",
            "MoviePy - Writing audio in normalized_primo (62)TEMP_MPY_wvf_snd.mp3\n"
          ]
        },
        {
          "output_type": "stream",
          "name": "stderr",
          "text": []
        },
        {
          "output_type": "stream",
          "name": "stdout",
          "text": [
            "MoviePy - Done.\n",
            "Moviepy - Writing video /content/gdrive/MyDrive/VISION ARTIFICIAL/Dataset Proyecto /14 Primo/normalized_primo (62).mp4\n",
            "\n"
          ]
        },
        {
          "output_type": "stream",
          "name": "stderr",
          "text": [
            "t: 100%|██████████| 188/188 [00:14<00:00, 12.22it/s, now=None]WARNING:py.warnings:/usr/local/lib/python3.10/dist-packages/moviepy/video/io/ffmpeg_reader.py:123: UserWarning: Warning: in file /content/gdrive/MyDrive/VISION ARTIFICIAL/Dataset Proyecto /14 Primo/primo (62).mp4, 6220800 bytes wanted but 0 bytes read,at frame 70/71, at time 2.33/2.35 sec. Using the last valid frame instead.\n",
            "  warnings.warn(\"Warning: in file %s, \"%(self.filename)+\n",
            "\n"
          ]
        },
        {
          "output_type": "stream",
          "name": "stdout",
          "text": [
            "Moviepy - Done !\n",
            "Moviepy - video ready /content/gdrive/MyDrive/VISION ARTIFICIAL/Dataset Proyecto /14 Primo/normalized_primo (62).mp4\n",
            "Normalized video saved as /content/gdrive/MyDrive/VISION ARTIFICIAL/Dataset Proyecto /14 Primo/normalized_primo (62).mp4\n",
            "\n",
            "Processing video /content/gdrive/MyDrive/VISION ARTIFICIAL/Dataset Proyecto /14 Primo/primo (63).mp4...\n",
            "Moviepy - Building video /content/gdrive/MyDrive/VISION ARTIFICIAL/Dataset Proyecto /14 Primo/normalized_primo (63).mp4.\n",
            "MoviePy - Writing audio in normalized_primo (63)TEMP_MPY_wvf_snd.mp3\n"
          ]
        },
        {
          "output_type": "stream",
          "name": "stderr",
          "text": []
        },
        {
          "output_type": "stream",
          "name": "stdout",
          "text": [
            "MoviePy - Done.\n",
            "Moviepy - Writing video /content/gdrive/MyDrive/VISION ARTIFICIAL/Dataset Proyecto /14 Primo/normalized_primo (63).mp4\n",
            "\n"
          ]
        },
        {
          "output_type": "stream",
          "name": "stderr",
          "text": [
            "t:  99%|█████████▊| 142/144 [00:09<00:00,  6.32it/s, now=None]WARNING:py.warnings:/usr/local/lib/python3.10/dist-packages/moviepy/video/io/ffmpeg_reader.py:123: UserWarning: Warning: in file /content/gdrive/MyDrive/VISION ARTIFICIAL/Dataset Proyecto /14 Primo/primo (63).mp4, 6220800 bytes wanted but 0 bytes read,at frame 53/54, at time 1.77/1.79 sec. Using the last valid frame instead.\n",
            "  warnings.warn(\"Warning: in file %s, \"%(self.filename)+\n",
            "\n"
          ]
        },
        {
          "output_type": "stream",
          "name": "stdout",
          "text": [
            "Moviepy - Done !\n",
            "Moviepy - video ready /content/gdrive/MyDrive/VISION ARTIFICIAL/Dataset Proyecto /14 Primo/normalized_primo (63).mp4\n",
            "Normalized video saved as /content/gdrive/MyDrive/VISION ARTIFICIAL/Dataset Proyecto /14 Primo/normalized_primo (63).mp4\n",
            "\n",
            "Processing video /content/gdrive/MyDrive/VISION ARTIFICIAL/Dataset Proyecto /14 Primo/primo (64).mp4...\n",
            "Moviepy - Building video /content/gdrive/MyDrive/VISION ARTIFICIAL/Dataset Proyecto /14 Primo/normalized_primo (64).mp4.\n",
            "MoviePy - Writing audio in normalized_primo (64)TEMP_MPY_wvf_snd.mp3\n"
          ]
        },
        {
          "output_type": "stream",
          "name": "stderr",
          "text": []
        },
        {
          "output_type": "stream",
          "name": "stdout",
          "text": [
            "MoviePy - Done.\n",
            "Moviepy - Writing video /content/gdrive/MyDrive/VISION ARTIFICIAL/Dataset Proyecto /14 Primo/normalized_primo (64).mp4\n",
            "\n"
          ]
        },
        {
          "output_type": "stream",
          "name": "stderr",
          "text": [
            "t: 100%|██████████| 156/156 [00:10<00:00,  6.45it/s, now=None]WARNING:py.warnings:/usr/local/lib/python3.10/dist-packages/moviepy/video/io/ffmpeg_reader.py:123: UserWarning: Warning: in file /content/gdrive/MyDrive/VISION ARTIFICIAL/Dataset Proyecto /14 Primo/primo (64).mp4, 6220800 bytes wanted but 0 bytes read,at frame 58/59, at time 1.93/1.95 sec. Using the last valid frame instead.\n",
            "  warnings.warn(\"Warning: in file %s, \"%(self.filename)+\n",
            "\n"
          ]
        },
        {
          "output_type": "stream",
          "name": "stdout",
          "text": [
            "Moviepy - Done !\n",
            "Moviepy - video ready /content/gdrive/MyDrive/VISION ARTIFICIAL/Dataset Proyecto /14 Primo/normalized_primo (64).mp4\n",
            "Normalized video saved as /content/gdrive/MyDrive/VISION ARTIFICIAL/Dataset Proyecto /14 Primo/normalized_primo (64).mp4\n",
            "\n",
            "Processing video /content/gdrive/MyDrive/VISION ARTIFICIAL/Dataset Proyecto /14 Primo/primo (65).mp4...\n",
            "Moviepy - Building video /content/gdrive/MyDrive/VISION ARTIFICIAL/Dataset Proyecto /14 Primo/normalized_primo (65).mp4.\n",
            "MoviePy - Writing audio in normalized_primo (65)TEMP_MPY_wvf_snd.mp3\n"
          ]
        },
        {
          "output_type": "stream",
          "name": "stderr",
          "text": []
        },
        {
          "output_type": "stream",
          "name": "stdout",
          "text": [
            "MoviePy - Done.\n",
            "Moviepy - Writing video /content/gdrive/MyDrive/VISION ARTIFICIAL/Dataset Proyecto /14 Primo/normalized_primo (65).mp4\n",
            "\n"
          ]
        },
        {
          "output_type": "stream",
          "name": "stderr",
          "text": []
        },
        {
          "output_type": "stream",
          "name": "stdout",
          "text": [
            "Moviepy - Done !\n",
            "Moviepy - video ready /content/gdrive/MyDrive/VISION ARTIFICIAL/Dataset Proyecto /14 Primo/normalized_primo (65).mp4\n",
            "Normalized video saved as /content/gdrive/MyDrive/VISION ARTIFICIAL/Dataset Proyecto /14 Primo/normalized_primo (65).mp4\n",
            "\n",
            "Processing video /content/gdrive/MyDrive/VISION ARTIFICIAL/Dataset Proyecto /14 Primo/primo (66).mp4...\n",
            "Moviepy - Building video /content/gdrive/MyDrive/VISION ARTIFICIAL/Dataset Proyecto /14 Primo/normalized_primo (66).mp4.\n",
            "MoviePy - Writing audio in normalized_primo (66)TEMP_MPY_wvf_snd.mp3\n"
          ]
        },
        {
          "output_type": "stream",
          "name": "stderr",
          "text": []
        },
        {
          "output_type": "stream",
          "name": "stdout",
          "text": [
            "MoviePy - Done.\n",
            "Moviepy - Writing video /content/gdrive/MyDrive/VISION ARTIFICIAL/Dataset Proyecto /14 Primo/normalized_primo (66).mp4\n",
            "\n"
          ]
        },
        {
          "output_type": "stream",
          "name": "stderr",
          "text": [
            "t: 100%|██████████| 172/172 [00:11<00:00,  6.48it/s, now=None]WARNING:py.warnings:/usr/local/lib/python3.10/dist-packages/moviepy/video/io/ffmpeg_reader.py:123: UserWarning: Warning: in file /content/gdrive/MyDrive/VISION ARTIFICIAL/Dataset Proyecto /14 Primo/primo (66).mp4, 6220800 bytes wanted but 0 bytes read,at frame 64/65, at time 2.13/2.14 sec. Using the last valid frame instead.\n",
            "  warnings.warn(\"Warning: in file %s, \"%(self.filename)+\n",
            "\n"
          ]
        },
        {
          "output_type": "stream",
          "name": "stdout",
          "text": [
            "Moviepy - Done !\n",
            "Moviepy - video ready /content/gdrive/MyDrive/VISION ARTIFICIAL/Dataset Proyecto /14 Primo/normalized_primo (66).mp4\n",
            "Normalized video saved as /content/gdrive/MyDrive/VISION ARTIFICIAL/Dataset Proyecto /14 Primo/normalized_primo (66).mp4\n",
            "\n",
            "Processing video /content/gdrive/MyDrive/VISION ARTIFICIAL/Dataset Proyecto /14 Primo/primo (67).mp4...\n",
            "Moviepy - Building video /content/gdrive/MyDrive/VISION ARTIFICIAL/Dataset Proyecto /14 Primo/normalized_primo (67).mp4.\n",
            "MoviePy - Writing audio in normalized_primo (67)TEMP_MPY_wvf_snd.mp3\n"
          ]
        },
        {
          "output_type": "stream",
          "name": "stderr",
          "text": []
        },
        {
          "output_type": "stream",
          "name": "stdout",
          "text": [
            "MoviePy - Done.\n",
            "Moviepy - Writing video /content/gdrive/MyDrive/VISION ARTIFICIAL/Dataset Proyecto /14 Primo/normalized_primo (67).mp4\n",
            "\n"
          ]
        },
        {
          "output_type": "stream",
          "name": "stderr",
          "text": [
            "t: 100%|██████████| 156/156 [00:10<00:00,  6.51it/s, now=None]WARNING:py.warnings:/usr/local/lib/python3.10/dist-packages/moviepy/video/io/ffmpeg_reader.py:123: UserWarning: Warning: in file /content/gdrive/MyDrive/VISION ARTIFICIAL/Dataset Proyecto /14 Primo/primo (67).mp4, 6220800 bytes wanted but 0 bytes read,at frame 58/59, at time 1.93/1.95 sec. Using the last valid frame instead.\n",
            "  warnings.warn(\"Warning: in file %s, \"%(self.filename)+\n",
            "\n"
          ]
        },
        {
          "output_type": "stream",
          "name": "stdout",
          "text": [
            "Moviepy - Done !\n",
            "Moviepy - video ready /content/gdrive/MyDrive/VISION ARTIFICIAL/Dataset Proyecto /14 Primo/normalized_primo (67).mp4\n",
            "Normalized video saved as /content/gdrive/MyDrive/VISION ARTIFICIAL/Dataset Proyecto /14 Primo/normalized_primo (67).mp4\n",
            "\n",
            "Processing video /content/gdrive/MyDrive/VISION ARTIFICIAL/Dataset Proyecto /14 Primo/primo (68).mp4...\n",
            "Moviepy - Building video /content/gdrive/MyDrive/VISION ARTIFICIAL/Dataset Proyecto /14 Primo/normalized_primo (68).mp4.\n",
            "MoviePy - Writing audio in normalized_primo (68)TEMP_MPY_wvf_snd.mp3\n"
          ]
        },
        {
          "output_type": "stream",
          "name": "stderr",
          "text": []
        },
        {
          "output_type": "stream",
          "name": "stdout",
          "text": [
            "MoviePy - Done.\n",
            "Moviepy - Writing video /content/gdrive/MyDrive/VISION ARTIFICIAL/Dataset Proyecto /14 Primo/normalized_primo (68).mp4\n",
            "\n"
          ]
        },
        {
          "output_type": "stream",
          "name": "stderr",
          "text": [
            "t: 100%|██████████| 172/172 [00:11<00:00,  7.30it/s, now=None]WARNING:py.warnings:/usr/local/lib/python3.10/dist-packages/moviepy/video/io/ffmpeg_reader.py:123: UserWarning: Warning: in file /content/gdrive/MyDrive/VISION ARTIFICIAL/Dataset Proyecto /14 Primo/primo (68).mp4, 6220800 bytes wanted but 0 bytes read,at frame 64/65, at time 2.13/2.14 sec. Using the last valid frame instead.\n",
            "  warnings.warn(\"Warning: in file %s, \"%(self.filename)+\n",
            "\n"
          ]
        },
        {
          "output_type": "stream",
          "name": "stdout",
          "text": [
            "Moviepy - Done !\n",
            "Moviepy - video ready /content/gdrive/MyDrive/VISION ARTIFICIAL/Dataset Proyecto /14 Primo/normalized_primo (68).mp4\n",
            "Normalized video saved as /content/gdrive/MyDrive/VISION ARTIFICIAL/Dataset Proyecto /14 Primo/normalized_primo (68).mp4\n",
            "\n",
            "Processing video /content/gdrive/MyDrive/VISION ARTIFICIAL/Dataset Proyecto /14 Primo/primo (69).mp4...\n",
            "Moviepy - Building video /content/gdrive/MyDrive/VISION ARTIFICIAL/Dataset Proyecto /14 Primo/normalized_primo (69).mp4.\n",
            "MoviePy - Writing audio in normalized_primo (69)TEMP_MPY_wvf_snd.mp3\n"
          ]
        },
        {
          "output_type": "stream",
          "name": "stderr",
          "text": []
        },
        {
          "output_type": "stream",
          "name": "stdout",
          "text": [
            "MoviePy - Done.\n",
            "Moviepy - Writing video /content/gdrive/MyDrive/VISION ARTIFICIAL/Dataset Proyecto /14 Primo/normalized_primo (69).mp4\n",
            "\n"
          ]
        },
        {
          "output_type": "stream",
          "name": "stderr",
          "text": [
            "t:  98%|█████████▊| 123/125 [00:06<00:00, 13.51it/s, now=None]WARNING:py.warnings:/usr/local/lib/python3.10/dist-packages/moviepy/video/io/ffmpeg_reader.py:123: UserWarning: Warning: in file /content/gdrive/MyDrive/VISION ARTIFICIAL/Dataset Proyecto /14 Primo/primo (69).mp4, 6220800 bytes wanted but 0 bytes read,at frame 46/47, at time 1.53/1.56 sec. Using the last valid frame instead.\n",
            "  warnings.warn(\"Warning: in file %s, \"%(self.filename)+\n",
            "\n"
          ]
        },
        {
          "output_type": "stream",
          "name": "stdout",
          "text": [
            "Moviepy - Done !\n",
            "Moviepy - video ready /content/gdrive/MyDrive/VISION ARTIFICIAL/Dataset Proyecto /14 Primo/normalized_primo (69).mp4\n",
            "Normalized video saved as /content/gdrive/MyDrive/VISION ARTIFICIAL/Dataset Proyecto /14 Primo/normalized_primo (69).mp4\n",
            "\n",
            "Processing video /content/gdrive/MyDrive/VISION ARTIFICIAL/Dataset Proyecto /14 Primo/primo (70).mp4...\n",
            "Moviepy - Building video /content/gdrive/MyDrive/VISION ARTIFICIAL/Dataset Proyecto /14 Primo/normalized_primo (70).mp4.\n",
            "MoviePy - Writing audio in normalized_primo (70)TEMP_MPY_wvf_snd.mp3\n"
          ]
        },
        {
          "output_type": "stream",
          "name": "stderr",
          "text": []
        },
        {
          "output_type": "stream",
          "name": "stdout",
          "text": [
            "MoviePy - Done.\n",
            "Moviepy - Writing video /content/gdrive/MyDrive/VISION ARTIFICIAL/Dataset Proyecto /14 Primo/normalized_primo (70).mp4\n",
            "\n"
          ]
        },
        {
          "output_type": "stream",
          "name": "stderr",
          "text": []
        },
        {
          "output_type": "stream",
          "name": "stdout",
          "text": [
            "Moviepy - Done !\n",
            "Moviepy - video ready /content/gdrive/MyDrive/VISION ARTIFICIAL/Dataset Proyecto /14 Primo/normalized_primo (70).mp4\n",
            "Normalized video saved as /content/gdrive/MyDrive/VISION ARTIFICIAL/Dataset Proyecto /14 Primo/normalized_primo (70).mp4\n",
            "\n",
            "Processing video /content/gdrive/MyDrive/VISION ARTIFICIAL/Dataset Proyecto /14 Primo/primo (71).mp4...\n",
            "Moviepy - Building video /content/gdrive/MyDrive/VISION ARTIFICIAL/Dataset Proyecto /14 Primo/normalized_primo (71).mp4.\n",
            "MoviePy - Writing audio in normalized_primo (71)TEMP_MPY_wvf_snd.mp3\n"
          ]
        },
        {
          "output_type": "stream",
          "name": "stderr",
          "text": []
        },
        {
          "output_type": "stream",
          "name": "stdout",
          "text": [
            "MoviePy - Done.\n",
            "Moviepy - Writing video /content/gdrive/MyDrive/VISION ARTIFICIAL/Dataset Proyecto /14 Primo/normalized_primo (71).mp4\n",
            "\n"
          ]
        },
        {
          "output_type": "stream",
          "name": "stderr",
          "text": []
        },
        {
          "output_type": "stream",
          "name": "stdout",
          "text": [
            "Moviepy - Done !\n",
            "Moviepy - video ready /content/gdrive/MyDrive/VISION ARTIFICIAL/Dataset Proyecto /14 Primo/normalized_primo (71).mp4\n",
            "Normalized video saved as /content/gdrive/MyDrive/VISION ARTIFICIAL/Dataset Proyecto /14 Primo/normalized_primo (71).mp4\n",
            "\n",
            "Processing video /content/gdrive/MyDrive/VISION ARTIFICIAL/Dataset Proyecto /14 Primo/primo (72).mp4...\n",
            "Moviepy - Building video /content/gdrive/MyDrive/VISION ARTIFICIAL/Dataset Proyecto /14 Primo/normalized_primo (72).mp4.\n",
            "MoviePy - Writing audio in normalized_primo (72)TEMP_MPY_wvf_snd.mp3\n"
          ]
        },
        {
          "output_type": "stream",
          "name": "stderr",
          "text": []
        },
        {
          "output_type": "stream",
          "name": "stdout",
          "text": [
            "MoviePy - Done.\n",
            "Moviepy - Writing video /content/gdrive/MyDrive/VISION ARTIFICIAL/Dataset Proyecto /14 Primo/normalized_primo (72).mp4\n",
            "\n"
          ]
        },
        {
          "output_type": "stream",
          "name": "stderr",
          "text": []
        },
        {
          "output_type": "stream",
          "name": "stdout",
          "text": [
            "Moviepy - Done !\n",
            "Moviepy - video ready /content/gdrive/MyDrive/VISION ARTIFICIAL/Dataset Proyecto /14 Primo/normalized_primo (72).mp4\n",
            "Normalized video saved as /content/gdrive/MyDrive/VISION ARTIFICIAL/Dataset Proyecto /14 Primo/normalized_primo (72).mp4\n",
            "\n",
            "Processing video /content/gdrive/MyDrive/VISION ARTIFICIAL/Dataset Proyecto /14 Primo/primo (73).mp4...\n",
            "Moviepy - Building video /content/gdrive/MyDrive/VISION ARTIFICIAL/Dataset Proyecto /14 Primo/normalized_primo (73).mp4.\n",
            "MoviePy - Writing audio in normalized_primo (73)TEMP_MPY_wvf_snd.mp3\n"
          ]
        },
        {
          "output_type": "stream",
          "name": "stderr",
          "text": []
        },
        {
          "output_type": "stream",
          "name": "stdout",
          "text": [
            "MoviePy - Done.\n",
            "Moviepy - Writing video /content/gdrive/MyDrive/VISION ARTIFICIAL/Dataset Proyecto /14 Primo/normalized_primo (73).mp4\n",
            "\n"
          ]
        },
        {
          "output_type": "stream",
          "name": "stderr",
          "text": []
        },
        {
          "output_type": "stream",
          "name": "stdout",
          "text": [
            "Moviepy - Done !\n",
            "Moviepy - video ready /content/gdrive/MyDrive/VISION ARTIFICIAL/Dataset Proyecto /14 Primo/normalized_primo (73).mp4\n",
            "Normalized video saved as /content/gdrive/MyDrive/VISION ARTIFICIAL/Dataset Proyecto /14 Primo/normalized_primo (73).mp4\n",
            "\n",
            "Processing video /content/gdrive/MyDrive/VISION ARTIFICIAL/Dataset Proyecto /14 Primo/primo (74).mp4...\n",
            "Moviepy - Building video /content/gdrive/MyDrive/VISION ARTIFICIAL/Dataset Proyecto /14 Primo/normalized_primo (74).mp4.\n",
            "MoviePy - Writing audio in normalized_primo (74)TEMP_MPY_wvf_snd.mp3\n"
          ]
        },
        {
          "output_type": "stream",
          "name": "stderr",
          "text": []
        },
        {
          "output_type": "stream",
          "name": "stdout",
          "text": [
            "MoviePy - Done.\n",
            "Moviepy - Writing video /content/gdrive/MyDrive/VISION ARTIFICIAL/Dataset Proyecto /14 Primo/normalized_primo (74).mp4\n",
            "\n"
          ]
        },
        {
          "output_type": "stream",
          "name": "stderr",
          "text": []
        },
        {
          "output_type": "stream",
          "name": "stdout",
          "text": [
            "Moviepy - Done !\n",
            "Moviepy - video ready /content/gdrive/MyDrive/VISION ARTIFICIAL/Dataset Proyecto /14 Primo/normalized_primo (74).mp4\n",
            "Normalized video saved as /content/gdrive/MyDrive/VISION ARTIFICIAL/Dataset Proyecto /14 Primo/normalized_primo (74).mp4\n",
            "\n",
            "Processing video /content/gdrive/MyDrive/VISION ARTIFICIAL/Dataset Proyecto /14 Primo/primo (75).mp4...\n",
            "Moviepy - Building video /content/gdrive/MyDrive/VISION ARTIFICIAL/Dataset Proyecto /14 Primo/normalized_primo (75).mp4.\n",
            "MoviePy - Writing audio in normalized_primo (75)TEMP_MPY_wvf_snd.mp3\n"
          ]
        },
        {
          "output_type": "stream",
          "name": "stderr",
          "text": []
        },
        {
          "output_type": "stream",
          "name": "stdout",
          "text": [
            "MoviePy - Done.\n",
            "Moviepy - Writing video /content/gdrive/MyDrive/VISION ARTIFICIAL/Dataset Proyecto /14 Primo/normalized_primo (75).mp4\n",
            "\n"
          ]
        },
        {
          "output_type": "stream",
          "name": "stderr",
          "text": [
            "t:  99%|█████████▉| 143/144 [00:11<00:00,  7.84it/s, now=None]WARNING:py.warnings:/usr/local/lib/python3.10/dist-packages/moviepy/video/io/ffmpeg_reader.py:123: UserWarning: Warning: in file /content/gdrive/MyDrive/VISION ARTIFICIAL/Dataset Proyecto /14 Primo/primo (75).mp4, 6220800 bytes wanted but 0 bytes read,at frame 53/54, at time 1.77/1.79 sec. Using the last valid frame instead.\n",
            "  warnings.warn(\"Warning: in file %s, \"%(self.filename)+\n",
            "\n"
          ]
        },
        {
          "output_type": "stream",
          "name": "stdout",
          "text": [
            "Moviepy - Done !\n",
            "Moviepy - video ready /content/gdrive/MyDrive/VISION ARTIFICIAL/Dataset Proyecto /14 Primo/normalized_primo (75).mp4\n",
            "Normalized video saved as /content/gdrive/MyDrive/VISION ARTIFICIAL/Dataset Proyecto /14 Primo/normalized_primo (75).mp4\n",
            "\n",
            "Processing video /content/gdrive/MyDrive/VISION ARTIFICIAL/Dataset Proyecto /14 Primo/primo (76).mp4...\n",
            "Moviepy - Building video /content/gdrive/MyDrive/VISION ARTIFICIAL/Dataset Proyecto /14 Primo/normalized_primo (76).mp4.\n",
            "MoviePy - Writing audio in normalized_primo (76)TEMP_MPY_wvf_snd.mp3\n"
          ]
        },
        {
          "output_type": "stream",
          "name": "stderr",
          "text": []
        },
        {
          "output_type": "stream",
          "name": "stdout",
          "text": [
            "MoviePy - Done.\n",
            "Moviepy - Writing video /content/gdrive/MyDrive/VISION ARTIFICIAL/Dataset Proyecto /14 Primo/normalized_primo (76).mp4\n",
            "\n"
          ]
        },
        {
          "output_type": "stream",
          "name": "stderr",
          "text": [
            "t: 100%|██████████| 145/145 [00:12<00:00,  9.40it/s, now=None]WARNING:py.warnings:/usr/local/lib/python3.10/dist-packages/moviepy/video/io/ffmpeg_reader.py:123: UserWarning: Warning: in file /content/gdrive/MyDrive/VISION ARTIFICIAL/Dataset Proyecto /14 Primo/primo (76).mp4, 6220800 bytes wanted but 0 bytes read,at frame 54/55, at time 1.80/1.81 sec. Using the last valid frame instead.\n",
            "  warnings.warn(\"Warning: in file %s, \"%(self.filename)+\n",
            "\n"
          ]
        },
        {
          "output_type": "stream",
          "name": "stdout",
          "text": [
            "Moviepy - Done !\n",
            "Moviepy - video ready /content/gdrive/MyDrive/VISION ARTIFICIAL/Dataset Proyecto /14 Primo/normalized_primo (76).mp4\n",
            "Normalized video saved as /content/gdrive/MyDrive/VISION ARTIFICIAL/Dataset Proyecto /14 Primo/normalized_primo (76).mp4\n",
            "\n",
            "Processing video /content/gdrive/MyDrive/VISION ARTIFICIAL/Dataset Proyecto /14 Primo/primo (77).mp4...\n",
            "Moviepy - Building video /content/gdrive/MyDrive/VISION ARTIFICIAL/Dataset Proyecto /14 Primo/normalized_primo (77).mp4.\n",
            "MoviePy - Writing audio in normalized_primo (77)TEMP_MPY_wvf_snd.mp3\n"
          ]
        },
        {
          "output_type": "stream",
          "name": "stderr",
          "text": []
        },
        {
          "output_type": "stream",
          "name": "stdout",
          "text": [
            "MoviePy - Done.\n",
            "Moviepy - Writing video /content/gdrive/MyDrive/VISION ARTIFICIAL/Dataset Proyecto /14 Primo/normalized_primo (77).mp4\n",
            "\n"
          ]
        },
        {
          "output_type": "stream",
          "name": "stderr",
          "text": [
            "t: 100%|██████████| 132/132 [00:07<00:00,  7.69it/s, now=None]WARNING:py.warnings:/usr/local/lib/python3.10/dist-packages/moviepy/video/io/ffmpeg_reader.py:123: UserWarning: Warning: in file /content/gdrive/MyDrive/VISION ARTIFICIAL/Dataset Proyecto /14 Primo/primo (77).mp4, 6220800 bytes wanted but 0 bytes read,at frame 49/50, at time 1.63/1.65 sec. Using the last valid frame instead.\n",
            "  warnings.warn(\"Warning: in file %s, \"%(self.filename)+\n",
            "\n"
          ]
        },
        {
          "output_type": "stream",
          "name": "stdout",
          "text": [
            "Moviepy - Done !\n",
            "Moviepy - video ready /content/gdrive/MyDrive/VISION ARTIFICIAL/Dataset Proyecto /14 Primo/normalized_primo (77).mp4\n",
            "Normalized video saved as /content/gdrive/MyDrive/VISION ARTIFICIAL/Dataset Proyecto /14 Primo/normalized_primo (77).mp4\n",
            "\n",
            "Processing video /content/gdrive/MyDrive/VISION ARTIFICIAL/Dataset Proyecto /14 Primo/primo (78).mp4...\n",
            "Moviepy - Building video /content/gdrive/MyDrive/VISION ARTIFICIAL/Dataset Proyecto /14 Primo/normalized_primo (78).mp4.\n",
            "MoviePy - Writing audio in normalized_primo (78)TEMP_MPY_wvf_snd.mp3\n"
          ]
        },
        {
          "output_type": "stream",
          "name": "stderr",
          "text": []
        },
        {
          "output_type": "stream",
          "name": "stdout",
          "text": [
            "MoviePy - Done.\n",
            "Moviepy - Writing video /content/gdrive/MyDrive/VISION ARTIFICIAL/Dataset Proyecto /14 Primo/normalized_primo (78).mp4\n",
            "\n"
          ]
        },
        {
          "output_type": "stream",
          "name": "stderr",
          "text": []
        },
        {
          "output_type": "stream",
          "name": "stdout",
          "text": [
            "Moviepy - Done !\n",
            "Moviepy - video ready /content/gdrive/MyDrive/VISION ARTIFICIAL/Dataset Proyecto /14 Primo/normalized_primo (78).mp4\n",
            "Normalized video saved as /content/gdrive/MyDrive/VISION ARTIFICIAL/Dataset Proyecto /14 Primo/normalized_primo (78).mp4\n",
            "\n",
            "Processing video /content/gdrive/MyDrive/VISION ARTIFICIAL/Dataset Proyecto /14 Primo/primo (79).mp4...\n",
            "Moviepy - Building video /content/gdrive/MyDrive/VISION ARTIFICIAL/Dataset Proyecto /14 Primo/normalized_primo (79).mp4.\n",
            "MoviePy - Writing audio in normalized_primo (79)TEMP_MPY_wvf_snd.mp3\n"
          ]
        },
        {
          "output_type": "stream",
          "name": "stderr",
          "text": []
        },
        {
          "output_type": "stream",
          "name": "stdout",
          "text": [
            "MoviePy - Done.\n",
            "Moviepy - Writing video /content/gdrive/MyDrive/VISION ARTIFICIAL/Dataset Proyecto /14 Primo/normalized_primo (79).mp4\n",
            "\n"
          ]
        },
        {
          "output_type": "stream",
          "name": "stderr",
          "text": [
            "t:  99%|█████████▊| 142/144 [00:08<00:00, 12.49it/s, now=None]WARNING:py.warnings:/usr/local/lib/python3.10/dist-packages/moviepy/video/io/ffmpeg_reader.py:123: UserWarning: Warning: in file /content/gdrive/MyDrive/VISION ARTIFICIAL/Dataset Proyecto /14 Primo/primo (79).mp4, 6220800 bytes wanted but 0 bytes read,at frame 53/54, at time 1.77/1.79 sec. Using the last valid frame instead.\n",
            "  warnings.warn(\"Warning: in file %s, \"%(self.filename)+\n",
            "\n"
          ]
        },
        {
          "output_type": "stream",
          "name": "stdout",
          "text": [
            "Moviepy - Done !\n",
            "Moviepy - video ready /content/gdrive/MyDrive/VISION ARTIFICIAL/Dataset Proyecto /14 Primo/normalized_primo (79).mp4\n",
            "Normalized video saved as /content/gdrive/MyDrive/VISION ARTIFICIAL/Dataset Proyecto /14 Primo/normalized_primo (79).mp4\n",
            "\n",
            "Processing video /content/gdrive/MyDrive/VISION ARTIFICIAL/Dataset Proyecto /14 Primo/primo (80).mp4...\n",
            "Moviepy - Building video /content/gdrive/MyDrive/VISION ARTIFICIAL/Dataset Proyecto /14 Primo/normalized_primo (80).mp4.\n",
            "MoviePy - Writing audio in normalized_primo (80)TEMP_MPY_wvf_snd.mp3\n"
          ]
        },
        {
          "output_type": "stream",
          "name": "stderr",
          "text": []
        },
        {
          "output_type": "stream",
          "name": "stdout",
          "text": [
            "MoviePy - Done.\n",
            "Moviepy - Writing video /content/gdrive/MyDrive/VISION ARTIFICIAL/Dataset Proyecto /14 Primo/normalized_primo (80).mp4\n",
            "\n"
          ]
        },
        {
          "output_type": "stream",
          "name": "stderr",
          "text": [
            "t:  99%|█████████▊| 136/138 [00:09<00:00, 11.16it/s, now=None]WARNING:py.warnings:/usr/local/lib/python3.10/dist-packages/moviepy/video/io/ffmpeg_reader.py:123: UserWarning: Warning: in file /content/gdrive/MyDrive/VISION ARTIFICIAL/Dataset Proyecto /14 Primo/primo (80).mp4, 6220800 bytes wanted but 0 bytes read,at frame 51/52, at time 1.70/1.72 sec. Using the last valid frame instead.\n",
            "  warnings.warn(\"Warning: in file %s, \"%(self.filename)+\n",
            "\n"
          ]
        },
        {
          "output_type": "stream",
          "name": "stdout",
          "text": [
            "Moviepy - Done !\n",
            "Moviepy - video ready /content/gdrive/MyDrive/VISION ARTIFICIAL/Dataset Proyecto /14 Primo/normalized_primo (80).mp4\n",
            "Normalized video saved as /content/gdrive/MyDrive/VISION ARTIFICIAL/Dataset Proyecto /14 Primo/normalized_primo (80).mp4\n",
            "\n",
            "Processing video /content/gdrive/MyDrive/VISION ARTIFICIAL/Dataset Proyecto /14 Primo/primo (81).mp4...\n",
            "Moviepy - Building video /content/gdrive/MyDrive/VISION ARTIFICIAL/Dataset Proyecto /14 Primo/normalized_primo (81).mp4.\n",
            "MoviePy - Writing audio in normalized_primo (81)TEMP_MPY_wvf_snd.mp3\n"
          ]
        },
        {
          "output_type": "stream",
          "name": "stderr",
          "text": []
        },
        {
          "output_type": "stream",
          "name": "stdout",
          "text": [
            "MoviePy - Done.\n",
            "Moviepy - Writing video /content/gdrive/MyDrive/VISION ARTIFICIAL/Dataset Proyecto /14 Primo/normalized_primo (81).mp4\n",
            "\n"
          ]
        },
        {
          "output_type": "stream",
          "name": "stderr",
          "text": [
            "t: 100%|██████████| 151/151 [00:10<00:00, 15.34it/s, now=None]WARNING:py.warnings:/usr/local/lib/python3.10/dist-packages/moviepy/video/io/ffmpeg_reader.py:123: UserWarning: Warning: in file /content/gdrive/MyDrive/VISION ARTIFICIAL/Dataset Proyecto /14 Primo/primo (81).mp4, 6220800 bytes wanted but 0 bytes read,at frame 56/57, at time 1.87/1.88 sec. Using the last valid frame instead.\n",
            "  warnings.warn(\"Warning: in file %s, \"%(self.filename)+\n",
            "\n"
          ]
        },
        {
          "output_type": "stream",
          "name": "stdout",
          "text": [
            "Moviepy - Done !\n",
            "Moviepy - video ready /content/gdrive/MyDrive/VISION ARTIFICIAL/Dataset Proyecto /14 Primo/normalized_primo (81).mp4\n",
            "Normalized video saved as /content/gdrive/MyDrive/VISION ARTIFICIAL/Dataset Proyecto /14 Primo/normalized_primo (81).mp4\n",
            "\n",
            "Processing video /content/gdrive/MyDrive/VISION ARTIFICIAL/Dataset Proyecto /14 Primo/primo (82).mp4...\n",
            "Moviepy - Building video /content/gdrive/MyDrive/VISION ARTIFICIAL/Dataset Proyecto /14 Primo/normalized_primo (82).mp4.\n",
            "MoviePy - Writing audio in normalized_primo (82)TEMP_MPY_wvf_snd.mp3\n"
          ]
        },
        {
          "output_type": "stream",
          "name": "stderr",
          "text": []
        },
        {
          "output_type": "stream",
          "name": "stdout",
          "text": [
            "MoviePy - Done.\n",
            "Moviepy - Writing video /content/gdrive/MyDrive/VISION ARTIFICIAL/Dataset Proyecto /14 Primo/normalized_primo (82).mp4\n",
            "\n"
          ]
        },
        {
          "output_type": "stream",
          "name": "stderr",
          "text": [
            "t:  99%|█████████▉| 184/186 [00:14<00:00,  9.99it/s, now=None]WARNING:py.warnings:/usr/local/lib/python3.10/dist-packages/moviepy/video/io/ffmpeg_reader.py:123: UserWarning: Warning: in file /content/gdrive/MyDrive/VISION ARTIFICIAL/Dataset Proyecto /14 Primo/primo (82).mp4, 6220800 bytes wanted but 0 bytes read,at frame 69/70, at time 2.30/2.32 sec. Using the last valid frame instead.\n",
            "  warnings.warn(\"Warning: in file %s, \"%(self.filename)+\n",
            "\n"
          ]
        },
        {
          "output_type": "stream",
          "name": "stdout",
          "text": [
            "Moviepy - Done !\n",
            "Moviepy - video ready /content/gdrive/MyDrive/VISION ARTIFICIAL/Dataset Proyecto /14 Primo/normalized_primo (82).mp4\n",
            "Normalized video saved as /content/gdrive/MyDrive/VISION ARTIFICIAL/Dataset Proyecto /14 Primo/normalized_primo (82).mp4\n",
            "\n",
            "Processing video /content/gdrive/MyDrive/VISION ARTIFICIAL/Dataset Proyecto /14 Primo/primo (83).mp4...\n",
            "Moviepy - Building video /content/gdrive/MyDrive/VISION ARTIFICIAL/Dataset Proyecto /14 Primo/normalized_primo (83).mp4.\n",
            "MoviePy - Writing audio in normalized_primo (83)TEMP_MPY_wvf_snd.mp3\n"
          ]
        },
        {
          "output_type": "stream",
          "name": "stderr",
          "text": []
        },
        {
          "output_type": "stream",
          "name": "stdout",
          "text": [
            "MoviePy - Done.\n",
            "Moviepy - Writing video /content/gdrive/MyDrive/VISION ARTIFICIAL/Dataset Proyecto /14 Primo/normalized_primo (83).mp4\n",
            "\n"
          ]
        },
        {
          "output_type": "stream",
          "name": "stderr",
          "text": []
        },
        {
          "output_type": "stream",
          "name": "stdout",
          "text": [
            "Moviepy - Done !\n",
            "Moviepy - video ready /content/gdrive/MyDrive/VISION ARTIFICIAL/Dataset Proyecto /14 Primo/normalized_primo (83).mp4\n",
            "Normalized video saved as /content/gdrive/MyDrive/VISION ARTIFICIAL/Dataset Proyecto /14 Primo/normalized_primo (83).mp4\n",
            "\n",
            "Processing video /content/gdrive/MyDrive/VISION ARTIFICIAL/Dataset Proyecto /14 Primo/primo (84).mp4...\n",
            "Moviepy - Building video /content/gdrive/MyDrive/VISION ARTIFICIAL/Dataset Proyecto /14 Primo/normalized_primo (84).mp4.\n",
            "MoviePy - Writing audio in normalized_primo (84)TEMP_MPY_wvf_snd.mp3\n"
          ]
        },
        {
          "output_type": "stream",
          "name": "stderr",
          "text": []
        },
        {
          "output_type": "stream",
          "name": "stdout",
          "text": [
            "MoviePy - Done.\n",
            "Moviepy - Writing video /content/gdrive/MyDrive/VISION ARTIFICIAL/Dataset Proyecto /14 Primo/normalized_primo (84).mp4\n",
            "\n"
          ]
        },
        {
          "output_type": "stream",
          "name": "stderr",
          "text": [
            "t: 100%|█████████▉| 206/207 [00:16<00:00, 11.52it/s, now=None]WARNING:py.warnings:/usr/local/lib/python3.10/dist-packages/moviepy/video/io/ffmpeg_reader.py:123: UserWarning: Warning: in file /content/gdrive/MyDrive/VISION ARTIFICIAL/Dataset Proyecto /14 Primo/primo (84).mp4, 6220800 bytes wanted but 0 bytes read,at frame 77/78, at time 2.57/2.58 sec. Using the last valid frame instead.\n",
            "  warnings.warn(\"Warning: in file %s, \"%(self.filename)+\n",
            "\n"
          ]
        },
        {
          "output_type": "stream",
          "name": "stdout",
          "text": [
            "Moviepy - Done !\n",
            "Moviepy - video ready /content/gdrive/MyDrive/VISION ARTIFICIAL/Dataset Proyecto /14 Primo/normalized_primo (84).mp4\n",
            "Normalized video saved as /content/gdrive/MyDrive/VISION ARTIFICIAL/Dataset Proyecto /14 Primo/normalized_primo (84).mp4\n",
            "\n",
            "Processing video /content/gdrive/MyDrive/VISION ARTIFICIAL/Dataset Proyecto /14 Primo/primo (85).mp4...\n",
            "Moviepy - Building video /content/gdrive/MyDrive/VISION ARTIFICIAL/Dataset Proyecto /14 Primo/normalized_primo (85).mp4.\n",
            "MoviePy - Writing audio in normalized_primo (85)TEMP_MPY_wvf_snd.mp3\n"
          ]
        },
        {
          "output_type": "stream",
          "name": "stderr",
          "text": []
        },
        {
          "output_type": "stream",
          "name": "stdout",
          "text": [
            "MoviePy - Done.\n",
            "Moviepy - Writing video /content/gdrive/MyDrive/VISION ARTIFICIAL/Dataset Proyecto /14 Primo/normalized_primo (85).mp4\n",
            "\n"
          ]
        },
        {
          "output_type": "stream",
          "name": "stderr",
          "text": [
            "t: 100%|█████████▉| 206/207 [00:17<00:00, 11.36it/s, now=None]WARNING:py.warnings:/usr/local/lib/python3.10/dist-packages/moviepy/video/io/ffmpeg_reader.py:123: UserWarning: Warning: in file /content/gdrive/MyDrive/VISION ARTIFICIAL/Dataset Proyecto /14 Primo/primo (85).mp4, 6220800 bytes wanted but 0 bytes read,at frame 77/78, at time 2.57/2.58 sec. Using the last valid frame instead.\n",
            "  warnings.warn(\"Warning: in file %s, \"%(self.filename)+\n",
            "\n"
          ]
        },
        {
          "output_type": "stream",
          "name": "stdout",
          "text": [
            "Moviepy - Done !\n",
            "Moviepy - video ready /content/gdrive/MyDrive/VISION ARTIFICIAL/Dataset Proyecto /14 Primo/normalized_primo (85).mp4\n",
            "Normalized video saved as /content/gdrive/MyDrive/VISION ARTIFICIAL/Dataset Proyecto /14 Primo/normalized_primo (85).mp4\n",
            "\n",
            "Processing video /content/gdrive/MyDrive/VISION ARTIFICIAL/Dataset Proyecto /14 Primo/primo (86).mp4...\n",
            "Moviepy - Building video /content/gdrive/MyDrive/VISION ARTIFICIAL/Dataset Proyecto /14 Primo/normalized_primo (86).mp4.\n",
            "MoviePy - Writing audio in normalized_primo (86)TEMP_MPY_wvf_snd.mp3\n"
          ]
        },
        {
          "output_type": "stream",
          "name": "stderr",
          "text": []
        },
        {
          "output_type": "stream",
          "name": "stdout",
          "text": [
            "MoviePy - Done.\n",
            "Moviepy - Writing video /content/gdrive/MyDrive/VISION ARTIFICIAL/Dataset Proyecto /14 Primo/normalized_primo (86).mp4\n",
            "\n"
          ]
        },
        {
          "output_type": "stream",
          "name": "stderr",
          "text": []
        },
        {
          "output_type": "stream",
          "name": "stdout",
          "text": [
            "Moviepy - Done !\n",
            "Moviepy - video ready /content/gdrive/MyDrive/VISION ARTIFICIAL/Dataset Proyecto /14 Primo/normalized_primo (86).mp4\n",
            "Normalized video saved as /content/gdrive/MyDrive/VISION ARTIFICIAL/Dataset Proyecto /14 Primo/normalized_primo (86).mp4\n",
            "\n",
            "Processing video /content/gdrive/MyDrive/VISION ARTIFICIAL/Dataset Proyecto /14 Primo/primo (87).mp4...\n",
            "Moviepy - Building video /content/gdrive/MyDrive/VISION ARTIFICIAL/Dataset Proyecto /14 Primo/normalized_primo (87).mp4.\n",
            "MoviePy - Writing audio in normalized_primo (87)TEMP_MPY_wvf_snd.mp3\n"
          ]
        },
        {
          "output_type": "stream",
          "name": "stderr",
          "text": []
        },
        {
          "output_type": "stream",
          "name": "stdout",
          "text": [
            "MoviePy - Done.\n",
            "Moviepy - Writing video /content/gdrive/MyDrive/VISION ARTIFICIAL/Dataset Proyecto /14 Primo/normalized_primo (87).mp4\n",
            "\n"
          ]
        },
        {
          "output_type": "stream",
          "name": "stderr",
          "text": [
            "t: 100%|█████████▉| 230/231 [00:18<00:00, 13.80it/s, now=None]WARNING:py.warnings:/usr/local/lib/python3.10/dist-packages/moviepy/video/io/ffmpeg_reader.py:123: UserWarning: Warning: in file /content/gdrive/MyDrive/VISION ARTIFICIAL/Dataset Proyecto /14 Primo/primo (87).mp4, 6220800 bytes wanted but 0 bytes read,at frame 86/87, at time 2.87/2.88 sec. Using the last valid frame instead.\n",
            "  warnings.warn(\"Warning: in file %s, \"%(self.filename)+\n",
            "\n"
          ]
        },
        {
          "output_type": "stream",
          "name": "stdout",
          "text": [
            "Moviepy - Done !\n",
            "Moviepy - video ready /content/gdrive/MyDrive/VISION ARTIFICIAL/Dataset Proyecto /14 Primo/normalized_primo (87).mp4\n",
            "Normalized video saved as /content/gdrive/MyDrive/VISION ARTIFICIAL/Dataset Proyecto /14 Primo/normalized_primo (87).mp4\n",
            "\n",
            "Processing video /content/gdrive/MyDrive/VISION ARTIFICIAL/Dataset Proyecto /14 Primo/primo (88).mp4...\n",
            "Moviepy - Building video /content/gdrive/MyDrive/VISION ARTIFICIAL/Dataset Proyecto /14 Primo/normalized_primo (88).mp4.\n",
            "MoviePy - Writing audio in normalized_primo (88)TEMP_MPY_wvf_snd.mp3\n"
          ]
        },
        {
          "output_type": "stream",
          "name": "stderr",
          "text": []
        },
        {
          "output_type": "stream",
          "name": "stdout",
          "text": [
            "MoviePy - Done.\n",
            "Moviepy - Writing video /content/gdrive/MyDrive/VISION ARTIFICIAL/Dataset Proyecto /14 Primo/normalized_primo (88).mp4\n",
            "\n"
          ]
        },
        {
          "output_type": "stream",
          "name": "stderr",
          "text": [
            "t: 100%|██████████| 207/207 [00:17<00:00, 10.48it/s, now=None]WARNING:py.warnings:/usr/local/lib/python3.10/dist-packages/moviepy/video/io/ffmpeg_reader.py:123: UserWarning: Warning: in file /content/gdrive/MyDrive/VISION ARTIFICIAL/Dataset Proyecto /14 Primo/primo (88).mp4, 6220800 bytes wanted but 0 bytes read,at frame 77/78, at time 2.57/2.58 sec. Using the last valid frame instead.\n",
            "  warnings.warn(\"Warning: in file %s, \"%(self.filename)+\n",
            "\n"
          ]
        },
        {
          "output_type": "stream",
          "name": "stdout",
          "text": [
            "Moviepy - Done !\n",
            "Moviepy - video ready /content/gdrive/MyDrive/VISION ARTIFICIAL/Dataset Proyecto /14 Primo/normalized_primo (88).mp4\n",
            "Normalized video saved as /content/gdrive/MyDrive/VISION ARTIFICIAL/Dataset Proyecto /14 Primo/normalized_primo (88).mp4\n",
            "\n",
            "Processing video /content/gdrive/MyDrive/VISION ARTIFICIAL/Dataset Proyecto /14 Primo/primo (89).mp4...\n",
            "Moviepy - Building video /content/gdrive/MyDrive/VISION ARTIFICIAL/Dataset Proyecto /14 Primo/normalized_primo (89).mp4.\n",
            "MoviePy - Writing audio in normalized_primo (89)TEMP_MPY_wvf_snd.mp3\n"
          ]
        },
        {
          "output_type": "stream",
          "name": "stderr",
          "text": []
        },
        {
          "output_type": "stream",
          "name": "stdout",
          "text": [
            "MoviePy - Done.\n",
            "Moviepy - Writing video /content/gdrive/MyDrive/VISION ARTIFICIAL/Dataset Proyecto /14 Primo/normalized_primo (89).mp4\n",
            "\n"
          ]
        },
        {
          "output_type": "stream",
          "name": "stderr",
          "text": [
            "t: 100%|██████████| 207/207 [00:17<00:00,  6.53it/s, now=None]WARNING:py.warnings:/usr/local/lib/python3.10/dist-packages/moviepy/video/io/ffmpeg_reader.py:123: UserWarning: Warning: in file /content/gdrive/MyDrive/VISION ARTIFICIAL/Dataset Proyecto /14 Primo/primo (89).mp4, 6220800 bytes wanted but 0 bytes read,at frame 77/78, at time 2.57/2.58 sec. Using the last valid frame instead.\n",
            "  warnings.warn(\"Warning: in file %s, \"%(self.filename)+\n",
            "\n"
          ]
        },
        {
          "output_type": "stream",
          "name": "stdout",
          "text": [
            "Moviepy - Done !\n",
            "Moviepy - video ready /content/gdrive/MyDrive/VISION ARTIFICIAL/Dataset Proyecto /14 Primo/normalized_primo (89).mp4\n",
            "Normalized video saved as /content/gdrive/MyDrive/VISION ARTIFICIAL/Dataset Proyecto /14 Primo/normalized_primo (89).mp4\n",
            "\n",
            "Processing video /content/gdrive/MyDrive/VISION ARTIFICIAL/Dataset Proyecto /14 Primo/primo (90).mp4...\n",
            "Moviepy - Building video /content/gdrive/MyDrive/VISION ARTIFICIAL/Dataset Proyecto /14 Primo/normalized_primo (90).mp4.\n",
            "MoviePy - Writing audio in normalized_primo (90)TEMP_MPY_wvf_snd.mp3\n"
          ]
        },
        {
          "output_type": "stream",
          "name": "stderr",
          "text": []
        },
        {
          "output_type": "stream",
          "name": "stdout",
          "text": [
            "MoviePy - Done.\n",
            "Moviepy - Writing video /content/gdrive/MyDrive/VISION ARTIFICIAL/Dataset Proyecto /14 Primo/normalized_primo (90).mp4\n",
            "\n"
          ]
        },
        {
          "output_type": "stream",
          "name": "stderr",
          "text": [
            "t: 100%|██████████| 204/204 [00:16<00:00,  9.81it/s, now=None]WARNING:py.warnings:/usr/local/lib/python3.10/dist-packages/moviepy/video/io/ffmpeg_reader.py:123: UserWarning: Warning: in file /content/gdrive/MyDrive/VISION ARTIFICIAL/Dataset Proyecto /14 Primo/primo (90).mp4, 6220800 bytes wanted but 0 bytes read,at frame 76/77, at time 2.53/2.55 sec. Using the last valid frame instead.\n",
            "  warnings.warn(\"Warning: in file %s, \"%(self.filename)+\n",
            "\n"
          ]
        },
        {
          "output_type": "stream",
          "name": "stdout",
          "text": [
            "Moviepy - Done !\n",
            "Moviepy - video ready /content/gdrive/MyDrive/VISION ARTIFICIAL/Dataset Proyecto /14 Primo/normalized_primo (90).mp4\n",
            "Normalized video saved as /content/gdrive/MyDrive/VISION ARTIFICIAL/Dataset Proyecto /14 Primo/normalized_primo (90).mp4\n",
            "\n",
            "Processing video /content/gdrive/MyDrive/VISION ARTIFICIAL/Dataset Proyecto /14 Primo/primo (91).mp4...\n",
            "Moviepy - Building video /content/gdrive/MyDrive/VISION ARTIFICIAL/Dataset Proyecto /14 Primo/normalized_primo (91).mp4.\n",
            "MoviePy - Writing audio in normalized_primo (91)TEMP_MPY_wvf_snd.mp3\n"
          ]
        },
        {
          "output_type": "stream",
          "name": "stderr",
          "text": []
        },
        {
          "output_type": "stream",
          "name": "stdout",
          "text": [
            "MoviePy - Done.\n",
            "Moviepy - Writing video /content/gdrive/MyDrive/VISION ARTIFICIAL/Dataset Proyecto /14 Primo/normalized_primo (91).mp4\n",
            "\n"
          ]
        },
        {
          "output_type": "stream",
          "name": "stderr",
          "text": [
            "t:  99%|█████████▉| 227/229 [00:18<00:00, 14.62it/s, now=None]WARNING:py.warnings:/usr/local/lib/python3.10/dist-packages/moviepy/video/io/ffmpeg_reader.py:123: UserWarning: Warning: in file /content/gdrive/MyDrive/VISION ARTIFICIAL/Dataset Proyecto /14 Primo/primo (91).mp4, 6220800 bytes wanted but 0 bytes read,at frame 85/86, at time 2.83/2.86 sec. Using the last valid frame instead.\n",
            "  warnings.warn(\"Warning: in file %s, \"%(self.filename)+\n",
            "\n"
          ]
        },
        {
          "output_type": "stream",
          "name": "stdout",
          "text": [
            "Moviepy - Done !\n",
            "Moviepy - video ready /content/gdrive/MyDrive/VISION ARTIFICIAL/Dataset Proyecto /14 Primo/normalized_primo (91).mp4\n",
            "Normalized video saved as /content/gdrive/MyDrive/VISION ARTIFICIAL/Dataset Proyecto /14 Primo/normalized_primo (91).mp4\n",
            "\n",
            "Processing video /content/gdrive/MyDrive/VISION ARTIFICIAL/Dataset Proyecto /14 Primo/primo (92).mp4...\n",
            "Moviepy - Building video /content/gdrive/MyDrive/VISION ARTIFICIAL/Dataset Proyecto /14 Primo/normalized_primo (92).mp4.\n",
            "MoviePy - Writing audio in normalized_primo (92)TEMP_MPY_wvf_snd.mp3\n"
          ]
        },
        {
          "output_type": "stream",
          "name": "stderr",
          "text": []
        },
        {
          "output_type": "stream",
          "name": "stdout",
          "text": [
            "MoviePy - Done.\n",
            "Moviepy - Writing video /content/gdrive/MyDrive/VISION ARTIFICIAL/Dataset Proyecto /14 Primo/normalized_primo (92).mp4\n",
            "\n"
          ]
        },
        {
          "output_type": "stream",
          "name": "stderr",
          "text": [
            "t: 100%|██████████| 220/220 [00:20<00:00,  6.78it/s, now=None]WARNING:py.warnings:/usr/local/lib/python3.10/dist-packages/moviepy/video/io/ffmpeg_reader.py:123: UserWarning: Warning: in file /content/gdrive/MyDrive/VISION ARTIFICIAL/Dataset Proyecto /14 Primo/primo (92).mp4, 6220800 bytes wanted but 0 bytes read,at frame 82/83, at time 2.73/2.74 sec. Using the last valid frame instead.\n",
            "  warnings.warn(\"Warning: in file %s, \"%(self.filename)+\n",
            "\n"
          ]
        },
        {
          "output_type": "stream",
          "name": "stdout",
          "text": [
            "Moviepy - Done !\n",
            "Moviepy - video ready /content/gdrive/MyDrive/VISION ARTIFICIAL/Dataset Proyecto /14 Primo/normalized_primo (92).mp4\n",
            "Normalized video saved as /content/gdrive/MyDrive/VISION ARTIFICIAL/Dataset Proyecto /14 Primo/normalized_primo (92).mp4\n",
            "\n",
            "Processing video /content/gdrive/MyDrive/VISION ARTIFICIAL/Dataset Proyecto /14 Primo/primo (93).mp4...\n",
            "Moviepy - Building video /content/gdrive/MyDrive/VISION ARTIFICIAL/Dataset Proyecto /14 Primo/normalized_primo (93).mp4.\n",
            "MoviePy - Writing audio in normalized_primo (93)TEMP_MPY_wvf_snd.mp3\n"
          ]
        },
        {
          "output_type": "stream",
          "name": "stderr",
          "text": []
        },
        {
          "output_type": "stream",
          "name": "stdout",
          "text": [
            "MoviePy - Done.\n",
            "Moviepy - Writing video /content/gdrive/MyDrive/VISION ARTIFICIAL/Dataset Proyecto /14 Primo/normalized_primo (93).mp4\n",
            "\n"
          ]
        },
        {
          "output_type": "stream",
          "name": "stderr",
          "text": [
            "t: 100%|█████████▉| 228/229 [00:19<00:00, 10.49it/s, now=None]WARNING:py.warnings:/usr/local/lib/python3.10/dist-packages/moviepy/video/io/ffmpeg_reader.py:123: UserWarning: Warning: in file /content/gdrive/MyDrive/VISION ARTIFICIAL/Dataset Proyecto /14 Primo/primo (93).mp4, 6220800 bytes wanted but 0 bytes read,at frame 85/86, at time 2.83/2.86 sec. Using the last valid frame instead.\n",
            "  warnings.warn(\"Warning: in file %s, \"%(self.filename)+\n",
            "\n"
          ]
        },
        {
          "output_type": "stream",
          "name": "stdout",
          "text": [
            "Moviepy - Done !\n",
            "Moviepy - video ready /content/gdrive/MyDrive/VISION ARTIFICIAL/Dataset Proyecto /14 Primo/normalized_primo (93).mp4\n",
            "Normalized video saved as /content/gdrive/MyDrive/VISION ARTIFICIAL/Dataset Proyecto /14 Primo/normalized_primo (93).mp4\n",
            "\n",
            "Processing video /content/gdrive/MyDrive/VISION ARTIFICIAL/Dataset Proyecto /14 Primo/primo (94).mp4...\n",
            "Moviepy - Building video /content/gdrive/MyDrive/VISION ARTIFICIAL/Dataset Proyecto /14 Primo/normalized_primo (94).mp4.\n",
            "MoviePy - Writing audio in normalized_primo (94)TEMP_MPY_wvf_snd.mp3\n"
          ]
        },
        {
          "output_type": "stream",
          "name": "stderr",
          "text": []
        },
        {
          "output_type": "stream",
          "name": "stdout",
          "text": [
            "MoviePy - Done.\n",
            "Moviepy - Writing video /content/gdrive/MyDrive/VISION ARTIFICIAL/Dataset Proyecto /14 Primo/normalized_primo (94).mp4\n",
            "\n"
          ]
        },
        {
          "output_type": "stream",
          "name": "stderr",
          "text": [
            "t:  99%|█████████▉| 222/224 [00:19<00:00, 12.56it/s, now=None]WARNING:py.warnings:/usr/local/lib/python3.10/dist-packages/moviepy/video/io/ffmpeg_reader.py:123: UserWarning: Warning: in file /content/gdrive/MyDrive/VISION ARTIFICIAL/Dataset Proyecto /14 Primo/primo (94).mp4, 6220800 bytes wanted but 0 bytes read,at frame 83/84, at time 2.77/2.79 sec. Using the last valid frame instead.\n",
            "  warnings.warn(\"Warning: in file %s, \"%(self.filename)+\n",
            "\n"
          ]
        },
        {
          "output_type": "stream",
          "name": "stdout",
          "text": [
            "Moviepy - Done !\n",
            "Moviepy - video ready /content/gdrive/MyDrive/VISION ARTIFICIAL/Dataset Proyecto /14 Primo/normalized_primo (94).mp4\n",
            "Normalized video saved as /content/gdrive/MyDrive/VISION ARTIFICIAL/Dataset Proyecto /14 Primo/normalized_primo (94).mp4\n",
            "\n",
            "Processing video /content/gdrive/MyDrive/VISION ARTIFICIAL/Dataset Proyecto /14 Primo/primo (95).mp4...\n",
            "Moviepy - Building video /content/gdrive/MyDrive/VISION ARTIFICIAL/Dataset Proyecto /14 Primo/normalized_primo (95).mp4.\n",
            "MoviePy - Writing audio in normalized_primo (95)TEMP_MPY_wvf_snd.mp3\n"
          ]
        },
        {
          "output_type": "stream",
          "name": "stderr",
          "text": []
        },
        {
          "output_type": "stream",
          "name": "stdout",
          "text": [
            "MoviePy - Done.\n",
            "Moviepy - Writing video /content/gdrive/MyDrive/VISION ARTIFICIAL/Dataset Proyecto /14 Primo/normalized_primo (95).mp4\n",
            "\n"
          ]
        },
        {
          "output_type": "stream",
          "name": "stderr",
          "text": [
            "t: 100%|█████████▉| 243/244 [00:21<00:00, 16.26it/s, now=None]WARNING:py.warnings:/usr/local/lib/python3.10/dist-packages/moviepy/video/io/ffmpeg_reader.py:123: UserWarning: Warning: in file /content/gdrive/MyDrive/VISION ARTIFICIAL/Dataset Proyecto /14 Primo/primo (95).mp4, 6220800 bytes wanted but 0 bytes read,at frame 91/92, at time 3.03/3.04 sec. Using the last valid frame instead.\n",
            "  warnings.warn(\"Warning: in file %s, \"%(self.filename)+\n",
            "\n"
          ]
        },
        {
          "output_type": "stream",
          "name": "stdout",
          "text": [
            "Moviepy - Done !\n",
            "Moviepy - video ready /content/gdrive/MyDrive/VISION ARTIFICIAL/Dataset Proyecto /14 Primo/normalized_primo (95).mp4\n",
            "Normalized video saved as /content/gdrive/MyDrive/VISION ARTIFICIAL/Dataset Proyecto /14 Primo/normalized_primo (95).mp4\n",
            "\n",
            "Processing video /content/gdrive/MyDrive/VISION ARTIFICIAL/Dataset Proyecto /14 Primo/primo (96).mp4...\n",
            "Moviepy - Building video /content/gdrive/MyDrive/VISION ARTIFICIAL/Dataset Proyecto /14 Primo/normalized_primo (96).mp4.\n",
            "MoviePy - Writing audio in normalized_primo (96)TEMP_MPY_wvf_snd.mp3\n"
          ]
        },
        {
          "output_type": "stream",
          "name": "stderr",
          "text": []
        },
        {
          "output_type": "stream",
          "name": "stdout",
          "text": [
            "MoviePy - Done.\n",
            "Moviepy - Writing video /content/gdrive/MyDrive/VISION ARTIFICIAL/Dataset Proyecto /14 Primo/normalized_primo (96).mp4\n",
            "\n"
          ]
        },
        {
          "output_type": "stream",
          "name": "stderr",
          "text": [
            "t: 100%|██████████| 255/255 [00:21<00:00, 15.44it/s, now=None]WARNING:py.warnings:/usr/local/lib/python3.10/dist-packages/moviepy/video/io/ffmpeg_reader.py:123: UserWarning: Warning: in file /content/gdrive/MyDrive/VISION ARTIFICIAL/Dataset Proyecto /14 Primo/primo (96).mp4, 6220800 bytes wanted but 0 bytes read,at frame 95/96, at time 3.17/3.18 sec. Using the last valid frame instead.\n",
            "  warnings.warn(\"Warning: in file %s, \"%(self.filename)+\n",
            "\n"
          ]
        },
        {
          "output_type": "stream",
          "name": "stdout",
          "text": [
            "Moviepy - Done !\n",
            "Moviepy - video ready /content/gdrive/MyDrive/VISION ARTIFICIAL/Dataset Proyecto /14 Primo/normalized_primo (96).mp4\n",
            "Normalized video saved as /content/gdrive/MyDrive/VISION ARTIFICIAL/Dataset Proyecto /14 Primo/normalized_primo (96).mp4\n",
            "\n",
            "Processing video /content/gdrive/MyDrive/VISION ARTIFICIAL/Dataset Proyecto /14 Primo/primo (97).mp4...\n",
            "Moviepy - Building video /content/gdrive/MyDrive/VISION ARTIFICIAL/Dataset Proyecto /14 Primo/normalized_primo (97).mp4.\n",
            "MoviePy - Writing audio in normalized_primo (97)TEMP_MPY_wvf_snd.mp3\n"
          ]
        },
        {
          "output_type": "stream",
          "name": "stderr",
          "text": []
        },
        {
          "output_type": "stream",
          "name": "stdout",
          "text": [
            "MoviePy - Done.\n",
            "Moviepy - Writing video /content/gdrive/MyDrive/VISION ARTIFICIAL/Dataset Proyecto /14 Primo/normalized_primo (97).mp4\n",
            "\n"
          ]
        },
        {
          "output_type": "stream",
          "name": "stderr",
          "text": [
            "t:  99%|█████████▉| 240/242 [00:23<00:00, 14.74it/s, now=None]WARNING:py.warnings:/usr/local/lib/python3.10/dist-packages/moviepy/video/io/ffmpeg_reader.py:123: UserWarning: Warning: in file /content/gdrive/MyDrive/VISION ARTIFICIAL/Dataset Proyecto /14 Primo/primo (97).mp4, 6220800 bytes wanted but 0 bytes read,at frame 90/91, at time 3.00/3.02 sec. Using the last valid frame instead.\n",
            "  warnings.warn(\"Warning: in file %s, \"%(self.filename)+\n",
            "\n"
          ]
        },
        {
          "output_type": "stream",
          "name": "stdout",
          "text": [
            "Moviepy - Done !\n",
            "Moviepy - video ready /content/gdrive/MyDrive/VISION ARTIFICIAL/Dataset Proyecto /14 Primo/normalized_primo (97).mp4\n",
            "Normalized video saved as /content/gdrive/MyDrive/VISION ARTIFICIAL/Dataset Proyecto /14 Primo/normalized_primo (97).mp4\n",
            "\n",
            "Processing video /content/gdrive/MyDrive/VISION ARTIFICIAL/Dataset Proyecto /14 Primo/primo (98).mp4...\n",
            "Moviepy - Building video /content/gdrive/MyDrive/VISION ARTIFICIAL/Dataset Proyecto /14 Primo/normalized_primo (98).mp4.\n",
            "MoviePy - Writing audio in normalized_primo (98)TEMP_MPY_wvf_snd.mp3\n"
          ]
        },
        {
          "output_type": "stream",
          "name": "stderr",
          "text": []
        },
        {
          "output_type": "stream",
          "name": "stdout",
          "text": [
            "MoviePy - Done.\n",
            "Moviepy - Writing video /content/gdrive/MyDrive/VISION ARTIFICIAL/Dataset Proyecto /14 Primo/normalized_primo (98).mp4\n",
            "\n"
          ]
        },
        {
          "output_type": "stream",
          "name": "stderr",
          "text": []
        },
        {
          "output_type": "stream",
          "name": "stdout",
          "text": [
            "Moviepy - Done !\n",
            "Moviepy - video ready /content/gdrive/MyDrive/VISION ARTIFICIAL/Dataset Proyecto /14 Primo/normalized_primo (98).mp4\n",
            "Normalized video saved as /content/gdrive/MyDrive/VISION ARTIFICIAL/Dataset Proyecto /14 Primo/normalized_primo (98).mp4\n",
            "\n",
            "Processing video /content/gdrive/MyDrive/VISION ARTIFICIAL/Dataset Proyecto /14 Primo/primo (99).mp4...\n",
            "Moviepy - Building video /content/gdrive/MyDrive/VISION ARTIFICIAL/Dataset Proyecto /14 Primo/normalized_primo (99).mp4.\n",
            "MoviePy - Writing audio in normalized_primo (99)TEMP_MPY_wvf_snd.mp3\n"
          ]
        },
        {
          "output_type": "stream",
          "name": "stderr",
          "text": []
        },
        {
          "output_type": "stream",
          "name": "stdout",
          "text": [
            "MoviePy - Done.\n",
            "Moviepy - Writing video /content/gdrive/MyDrive/VISION ARTIFICIAL/Dataset Proyecto /14 Primo/normalized_primo (99).mp4\n",
            "\n"
          ]
        },
        {
          "output_type": "stream",
          "name": "stderr",
          "text": [
            "t: 100%|█████████▉| 223/224 [00:19<00:00, 12.99it/s, now=None]WARNING:py.warnings:/usr/local/lib/python3.10/dist-packages/moviepy/video/io/ffmpeg_reader.py:123: UserWarning: Warning: in file /content/gdrive/MyDrive/VISION ARTIFICIAL/Dataset Proyecto /14 Primo/primo (99).mp4, 6220800 bytes wanted but 0 bytes read,at frame 83/84, at time 2.77/2.79 sec. Using the last valid frame instead.\n",
            "  warnings.warn(\"Warning: in file %s, \"%(self.filename)+\n",
            "\n"
          ]
        },
        {
          "output_type": "stream",
          "name": "stdout",
          "text": [
            "Moviepy - Done !\n",
            "Moviepy - video ready /content/gdrive/MyDrive/VISION ARTIFICIAL/Dataset Proyecto /14 Primo/normalized_primo (99).mp4\n",
            "Normalized video saved as /content/gdrive/MyDrive/VISION ARTIFICIAL/Dataset Proyecto /14 Primo/normalized_primo (99).mp4\n",
            "\n",
            "Processing video /content/gdrive/MyDrive/VISION ARTIFICIAL/Dataset Proyecto /14 Primo/primo (100).mp4...\n",
            "Moviepy - Building video /content/gdrive/MyDrive/VISION ARTIFICIAL/Dataset Proyecto /14 Primo/normalized_primo (100).mp4.\n",
            "MoviePy - Writing audio in normalized_primo (100)TEMP_MPY_wvf_snd.mp3\n"
          ]
        },
        {
          "output_type": "stream",
          "name": "stderr",
          "text": []
        },
        {
          "output_type": "stream",
          "name": "stdout",
          "text": [
            "MoviePy - Done.\n",
            "Moviepy - Writing video /content/gdrive/MyDrive/VISION ARTIFICIAL/Dataset Proyecto /14 Primo/normalized_primo (100).mp4\n",
            "\n"
          ]
        },
        {
          "output_type": "stream",
          "name": "stderr",
          "text": [
            "t: 100%|█████████▉| 203/204 [00:17<00:00,  9.54it/s, now=None]WARNING:py.warnings:/usr/local/lib/python3.10/dist-packages/moviepy/video/io/ffmpeg_reader.py:123: UserWarning: Warning: in file /content/gdrive/MyDrive/VISION ARTIFICIAL/Dataset Proyecto /14 Primo/primo (100).mp4, 6220800 bytes wanted but 0 bytes read,at frame 76/77, at time 2.53/2.55 sec. Using the last valid frame instead.\n",
            "  warnings.warn(\"Warning: in file %s, \"%(self.filename)+\n",
            "\n"
          ]
        },
        {
          "output_type": "stream",
          "name": "stdout",
          "text": [
            "Moviepy - Done !\n",
            "Moviepy - video ready /content/gdrive/MyDrive/VISION ARTIFICIAL/Dataset Proyecto /14 Primo/normalized_primo (100).mp4\n",
            "Normalized video saved as /content/gdrive/MyDrive/VISION ARTIFICIAL/Dataset Proyecto /14 Primo/normalized_primo (100).mp4\n",
            "\n",
            "Processing video /content/gdrive/MyDrive/VISION ARTIFICIAL/Dataset Proyecto /14 Primo/primo (101).mp4...\n",
            "Moviepy - Building video /content/gdrive/MyDrive/VISION ARTIFICIAL/Dataset Proyecto /14 Primo/normalized_primo (101).mp4.\n",
            "MoviePy - Writing audio in normalized_primo (101)TEMP_MPY_wvf_snd.mp3\n"
          ]
        },
        {
          "output_type": "stream",
          "name": "stderr",
          "text": []
        },
        {
          "output_type": "stream",
          "name": "stdout",
          "text": [
            "MoviePy - Done.\n",
            "Moviepy - Writing video /content/gdrive/MyDrive/VISION ARTIFICIAL/Dataset Proyecto /14 Primo/normalized_primo (101).mp4\n",
            "\n"
          ]
        },
        {
          "output_type": "stream",
          "name": "stderr",
          "text": [
            "t:  99%|█████████▊| 142/144 [00:10<00:00,  8.32it/s, now=None]WARNING:py.warnings:/usr/local/lib/python3.10/dist-packages/moviepy/video/io/ffmpeg_reader.py:123: UserWarning: Warning: in file /content/gdrive/MyDrive/VISION ARTIFICIAL/Dataset Proyecto /14 Primo/primo (101).mp4, 6220800 bytes wanted but 0 bytes read,at frame 53/54, at time 1.77/1.79 sec. Using the last valid frame instead.\n",
            "  warnings.warn(\"Warning: in file %s, \"%(self.filename)+\n",
            "\n"
          ]
        },
        {
          "output_type": "stream",
          "name": "stdout",
          "text": [
            "Moviepy - Done !\n",
            "Moviepy - video ready /content/gdrive/MyDrive/VISION ARTIFICIAL/Dataset Proyecto /14 Primo/normalized_primo (101).mp4\n",
            "Normalized video saved as /content/gdrive/MyDrive/VISION ARTIFICIAL/Dataset Proyecto /14 Primo/normalized_primo (101).mp4\n",
            "\n",
            "Processing video /content/gdrive/MyDrive/VISION ARTIFICIAL/Dataset Proyecto /14 Primo/primo (102).mp4...\n",
            "Moviepy - Building video /content/gdrive/MyDrive/VISION ARTIFICIAL/Dataset Proyecto /14 Primo/normalized_primo (102).mp4.\n",
            "MoviePy - Writing audio in normalized_primo (102)TEMP_MPY_wvf_snd.mp3\n"
          ]
        },
        {
          "output_type": "stream",
          "name": "stderr",
          "text": []
        },
        {
          "output_type": "stream",
          "name": "stdout",
          "text": [
            "MoviePy - Done.\n",
            "Moviepy - Writing video /content/gdrive/MyDrive/VISION ARTIFICIAL/Dataset Proyecto /14 Primo/normalized_primo (102).mp4\n",
            "\n"
          ]
        },
        {
          "output_type": "stream",
          "name": "stderr",
          "text": [
            "t:  99%|█████████▉| 150/151 [00:11<00:00,  8.85it/s, now=None]WARNING:py.warnings:/usr/local/lib/python3.10/dist-packages/moviepy/video/io/ffmpeg_reader.py:123: UserWarning: Warning: in file /content/gdrive/MyDrive/VISION ARTIFICIAL/Dataset Proyecto /14 Primo/primo (102).mp4, 6220800 bytes wanted but 0 bytes read,at frame 56/57, at time 1.87/1.88 sec. Using the last valid frame instead.\n",
            "  warnings.warn(\"Warning: in file %s, \"%(self.filename)+\n",
            "\n"
          ]
        },
        {
          "output_type": "stream",
          "name": "stdout",
          "text": [
            "Moviepy - Done !\n",
            "Moviepy - video ready /content/gdrive/MyDrive/VISION ARTIFICIAL/Dataset Proyecto /14 Primo/normalized_primo (102).mp4\n",
            "Normalized video saved as /content/gdrive/MyDrive/VISION ARTIFICIAL/Dataset Proyecto /14 Primo/normalized_primo (102).mp4\n",
            "\n",
            "Processing video /content/gdrive/MyDrive/VISION ARTIFICIAL/Dataset Proyecto /14 Primo/primo (103).mp4...\n",
            "Moviepy - Building video /content/gdrive/MyDrive/VISION ARTIFICIAL/Dataset Proyecto /14 Primo/normalized_primo (103).mp4.\n",
            "MoviePy - Writing audio in normalized_primo (103)TEMP_MPY_wvf_snd.mp3\n"
          ]
        },
        {
          "output_type": "stream",
          "name": "stderr",
          "text": []
        },
        {
          "output_type": "stream",
          "name": "stdout",
          "text": [
            "MoviePy - Done.\n",
            "Moviepy - Writing video /content/gdrive/MyDrive/VISION ARTIFICIAL/Dataset Proyecto /14 Primo/normalized_primo (103).mp4\n",
            "\n"
          ]
        },
        {
          "output_type": "stream",
          "name": "stderr",
          "text": [
            "t:  99%|█████████▉| 174/175 [00:13<00:00,  8.65it/s, now=None]WARNING:py.warnings:/usr/local/lib/python3.10/dist-packages/moviepy/video/io/ffmpeg_reader.py:123: UserWarning: Warning: in file /content/gdrive/MyDrive/VISION ARTIFICIAL/Dataset Proyecto /14 Primo/primo (103).mp4, 6220800 bytes wanted but 0 bytes read,at frame 65/66, at time 2.17/2.18 sec. Using the last valid frame instead.\n",
            "  warnings.warn(\"Warning: in file %s, \"%(self.filename)+\n",
            "\n"
          ]
        },
        {
          "output_type": "stream",
          "name": "stdout",
          "text": [
            "Moviepy - Done !\n",
            "Moviepy - video ready /content/gdrive/MyDrive/VISION ARTIFICIAL/Dataset Proyecto /14 Primo/normalized_primo (103).mp4\n",
            "Normalized video saved as /content/gdrive/MyDrive/VISION ARTIFICIAL/Dataset Proyecto /14 Primo/normalized_primo (103).mp4\n",
            "\n",
            "Processing video /content/gdrive/MyDrive/VISION ARTIFICIAL/Dataset Proyecto /14 Primo/primo (104).mp4...\n",
            "Moviepy - Building video /content/gdrive/MyDrive/VISION ARTIFICIAL/Dataset Proyecto /14 Primo/normalized_primo (104).mp4.\n",
            "MoviePy - Writing audio in normalized_primo (104)TEMP_MPY_wvf_snd.mp3\n"
          ]
        },
        {
          "output_type": "stream",
          "name": "stderr",
          "text": []
        },
        {
          "output_type": "stream",
          "name": "stdout",
          "text": [
            "MoviePy - Done.\n",
            "Moviepy - Writing video /content/gdrive/MyDrive/VISION ARTIFICIAL/Dataset Proyecto /14 Primo/normalized_primo (104).mp4\n",
            "\n"
          ]
        },
        {
          "output_type": "stream",
          "name": "stderr",
          "text": [
            "t: 100%|██████████| 180/180 [00:14<00:00, 10.82it/s, now=None]WARNING:py.warnings:/usr/local/lib/python3.10/dist-packages/moviepy/video/io/ffmpeg_reader.py:123: UserWarning: Warning: in file /content/gdrive/MyDrive/VISION ARTIFICIAL/Dataset Proyecto /14 Primo/primo (104).mp4, 6220800 bytes wanted but 0 bytes read,at frame 67/68, at time 2.23/2.25 sec. Using the last valid frame instead.\n",
            "  warnings.warn(\"Warning: in file %s, \"%(self.filename)+\n",
            "\n"
          ]
        },
        {
          "output_type": "stream",
          "name": "stdout",
          "text": [
            "Moviepy - Done !\n",
            "Moviepy - video ready /content/gdrive/MyDrive/VISION ARTIFICIAL/Dataset Proyecto /14 Primo/normalized_primo (104).mp4\n",
            "Normalized video saved as /content/gdrive/MyDrive/VISION ARTIFICIAL/Dataset Proyecto /14 Primo/normalized_primo (104).mp4\n",
            "\n",
            "Processing video /content/gdrive/MyDrive/VISION ARTIFICIAL/Dataset Proyecto /14 Primo/primo (105).mp4...\n",
            "Moviepy - Building video /content/gdrive/MyDrive/VISION ARTIFICIAL/Dataset Proyecto /14 Primo/normalized_primo (105).mp4.\n",
            "MoviePy - Writing audio in normalized_primo (105)TEMP_MPY_wvf_snd.mp3\n"
          ]
        },
        {
          "output_type": "stream",
          "name": "stderr",
          "text": []
        },
        {
          "output_type": "stream",
          "name": "stdout",
          "text": [
            "MoviePy - Done.\n",
            "Moviepy - Writing video /content/gdrive/MyDrive/VISION ARTIFICIAL/Dataset Proyecto /14 Primo/normalized_primo (105).mp4\n",
            "\n"
          ]
        },
        {
          "output_type": "stream",
          "name": "stderr",
          "text": [
            "t: 100%|██████████| 204/204 [00:17<00:00, 10.59it/s, now=None]WARNING:py.warnings:/usr/local/lib/python3.10/dist-packages/moviepy/video/io/ffmpeg_reader.py:123: UserWarning: Warning: in file /content/gdrive/MyDrive/VISION ARTIFICIAL/Dataset Proyecto /14 Primo/primo (105).mp4, 6220800 bytes wanted but 0 bytes read,at frame 76/77, at time 2.53/2.55 sec. Using the last valid frame instead.\n",
            "  warnings.warn(\"Warning: in file %s, \"%(self.filename)+\n",
            "\n"
          ]
        },
        {
          "output_type": "stream",
          "name": "stdout",
          "text": [
            "Moviepy - Done !\n",
            "Moviepy - video ready /content/gdrive/MyDrive/VISION ARTIFICIAL/Dataset Proyecto /14 Primo/normalized_primo (105).mp4\n",
            "Normalized video saved as /content/gdrive/MyDrive/VISION ARTIFICIAL/Dataset Proyecto /14 Primo/normalized_primo (105).mp4\n",
            "\n",
            "Processing video /content/gdrive/MyDrive/VISION ARTIFICIAL/Dataset Proyecto /14 Primo/primo (106).mp4...\n",
            "Moviepy - Building video /content/gdrive/MyDrive/VISION ARTIFICIAL/Dataset Proyecto /14 Primo/normalized_primo (106).mp4.\n",
            "MoviePy - Writing audio in normalized_primo (106)TEMP_MPY_wvf_snd.mp3\n"
          ]
        },
        {
          "output_type": "stream",
          "name": "stderr",
          "text": []
        },
        {
          "output_type": "stream",
          "name": "stdout",
          "text": [
            "MoviePy - Done.\n",
            "Moviepy - Writing video /content/gdrive/MyDrive/VISION ARTIFICIAL/Dataset Proyecto /14 Primo/normalized_primo (106).mp4\n",
            "\n"
          ]
        },
        {
          "output_type": "stream",
          "name": "stderr",
          "text": [
            "t:  99%|█████████▉| 176/177 [00:13<00:00, 10.03it/s, now=None]WARNING:py.warnings:/usr/local/lib/python3.10/dist-packages/moviepy/video/io/ffmpeg_reader.py:123: UserWarning: Warning: in file /content/gdrive/MyDrive/VISION ARTIFICIAL/Dataset Proyecto /14 Primo/primo (106).mp4, 6220800 bytes wanted but 0 bytes read,at frame 66/67, at time 2.20/2.21 sec. Using the last valid frame instead.\n",
            "  warnings.warn(\"Warning: in file %s, \"%(self.filename)+\n",
            "\n"
          ]
        },
        {
          "output_type": "stream",
          "name": "stdout",
          "text": [
            "Moviepy - Done !\n",
            "Moviepy - video ready /content/gdrive/MyDrive/VISION ARTIFICIAL/Dataset Proyecto /14 Primo/normalized_primo (106).mp4\n",
            "Normalized video saved as /content/gdrive/MyDrive/VISION ARTIFICIAL/Dataset Proyecto /14 Primo/normalized_primo (106).mp4\n",
            "\n",
            "Processing video /content/gdrive/MyDrive/VISION ARTIFICIAL/Dataset Proyecto /14 Primo/primo (107).mp4...\n",
            "Moviepy - Building video /content/gdrive/MyDrive/VISION ARTIFICIAL/Dataset Proyecto /14 Primo/normalized_primo (107).mp4.\n",
            "MoviePy - Writing audio in normalized_primo (107)TEMP_MPY_wvf_snd.mp3\n"
          ]
        },
        {
          "output_type": "stream",
          "name": "stderr",
          "text": []
        },
        {
          "output_type": "stream",
          "name": "stdout",
          "text": [
            "MoviePy - Done.\n",
            "Moviepy - Writing video /content/gdrive/MyDrive/VISION ARTIFICIAL/Dataset Proyecto /14 Primo/normalized_primo (107).mp4\n",
            "\n"
          ]
        },
        {
          "output_type": "stream",
          "name": "stderr",
          "text": [
            "t: 100%|██████████| 196/196 [00:15<00:00,  5.44it/s, now=None]WARNING:py.warnings:/usr/local/lib/python3.10/dist-packages/moviepy/video/io/ffmpeg_reader.py:123: UserWarning: Warning: in file /content/gdrive/MyDrive/VISION ARTIFICIAL/Dataset Proyecto /14 Primo/primo (107).mp4, 6220800 bytes wanted but 0 bytes read,at frame 73/74, at time 2.43/2.44 sec. Using the last valid frame instead.\n",
            "  warnings.warn(\"Warning: in file %s, \"%(self.filename)+\n",
            "\n"
          ]
        },
        {
          "output_type": "stream",
          "name": "stdout",
          "text": [
            "Moviepy - Done !\n",
            "Moviepy - video ready /content/gdrive/MyDrive/VISION ARTIFICIAL/Dataset Proyecto /14 Primo/normalized_primo (107).mp4\n",
            "Normalized video saved as /content/gdrive/MyDrive/VISION ARTIFICIAL/Dataset Proyecto /14 Primo/normalized_primo (107).mp4\n",
            "\n",
            "Processing video /content/gdrive/MyDrive/VISION ARTIFICIAL/Dataset Proyecto /14 Primo/primo (108).mp4...\n",
            "Moviepy - Building video /content/gdrive/MyDrive/VISION ARTIFICIAL/Dataset Proyecto /14 Primo/normalized_primo (108).mp4.\n",
            "MoviePy - Writing audio in normalized_primo (108)TEMP_MPY_wvf_snd.mp3\n"
          ]
        },
        {
          "output_type": "stream",
          "name": "stderr",
          "text": []
        },
        {
          "output_type": "stream",
          "name": "stdout",
          "text": [
            "MoviePy - Done.\n",
            "Moviepy - Writing video /content/gdrive/MyDrive/VISION ARTIFICIAL/Dataset Proyecto /14 Primo/normalized_primo (108).mp4\n",
            "\n"
          ]
        },
        {
          "output_type": "stream",
          "name": "stderr",
          "text": [
            "t: 100%|██████████| 172/172 [00:13<00:00,  5.65it/s, now=None]WARNING:py.warnings:/usr/local/lib/python3.10/dist-packages/moviepy/video/io/ffmpeg_reader.py:123: UserWarning: Warning: in file /content/gdrive/MyDrive/VISION ARTIFICIAL/Dataset Proyecto /14 Primo/primo (108).mp4, 6220800 bytes wanted but 0 bytes read,at frame 64/65, at time 2.13/2.14 sec. Using the last valid frame instead.\n",
            "  warnings.warn(\"Warning: in file %s, \"%(self.filename)+\n",
            "\n"
          ]
        },
        {
          "output_type": "stream",
          "name": "stdout",
          "text": [
            "Moviepy - Done !\n",
            "Moviepy - video ready /content/gdrive/MyDrive/VISION ARTIFICIAL/Dataset Proyecto /14 Primo/normalized_primo (108).mp4\n",
            "Normalized video saved as /content/gdrive/MyDrive/VISION ARTIFICIAL/Dataset Proyecto /14 Primo/normalized_primo (108).mp4\n",
            "\n",
            "Processing video /content/gdrive/MyDrive/VISION ARTIFICIAL/Dataset Proyecto /14 Primo/primo (109).mp4...\n",
            "Moviepy - Building video /content/gdrive/MyDrive/VISION ARTIFICIAL/Dataset Proyecto /14 Primo/normalized_primo (109).mp4.\n",
            "MoviePy - Writing audio in normalized_primo (109)TEMP_MPY_wvf_snd.mp3\n"
          ]
        },
        {
          "output_type": "stream",
          "name": "stderr",
          "text": []
        },
        {
          "output_type": "stream",
          "name": "stdout",
          "text": [
            "MoviePy - Done.\n",
            "Moviepy - Writing video /content/gdrive/MyDrive/VISION ARTIFICIAL/Dataset Proyecto /14 Primo/normalized_primo (109).mp4\n",
            "\n"
          ]
        },
        {
          "output_type": "stream",
          "name": "stderr",
          "text": [
            "t: 100%|██████████| 169/169 [00:13<00:00, 10.11it/s, now=None]WARNING:py.warnings:/usr/local/lib/python3.10/dist-packages/moviepy/video/io/ffmpeg_reader.py:123: UserWarning: Warning: in file /content/gdrive/MyDrive/VISION ARTIFICIAL/Dataset Proyecto /14 Primo/primo (109).mp4, 6220800 bytes wanted but 0 bytes read,at frame 63/64, at time 2.10/2.11 sec. Using the last valid frame instead.\n",
            "  warnings.warn(\"Warning: in file %s, \"%(self.filename)+\n",
            "\n"
          ]
        },
        {
          "output_type": "stream",
          "name": "stdout",
          "text": [
            "Moviepy - Done !\n",
            "Moviepy - video ready /content/gdrive/MyDrive/VISION ARTIFICIAL/Dataset Proyecto /14 Primo/normalized_primo (109).mp4\n",
            "Normalized video saved as /content/gdrive/MyDrive/VISION ARTIFICIAL/Dataset Proyecto /14 Primo/normalized_primo (109).mp4\n",
            "\n",
            "Processing video /content/gdrive/MyDrive/VISION ARTIFICIAL/Dataset Proyecto /14 Primo/primo (110).mp4...\n",
            "Moviepy - Building video /content/gdrive/MyDrive/VISION ARTIFICIAL/Dataset Proyecto /14 Primo/normalized_primo (110).mp4.\n",
            "MoviePy - Writing audio in normalized_primo (110)TEMP_MPY_wvf_snd.mp3\n"
          ]
        },
        {
          "output_type": "stream",
          "name": "stderr",
          "text": []
        },
        {
          "output_type": "stream",
          "name": "stdout",
          "text": [
            "MoviePy - Done.\n",
            "Moviepy - Writing video /content/gdrive/MyDrive/VISION ARTIFICIAL/Dataset Proyecto /14 Primo/normalized_primo (110).mp4\n",
            "\n"
          ]
        },
        {
          "output_type": "stream",
          "name": "stderr",
          "text": [
            "t:  99%|█████████▉| 184/186 [00:16<00:00,  9.55it/s, now=None]WARNING:py.warnings:/usr/local/lib/python3.10/dist-packages/moviepy/video/io/ffmpeg_reader.py:123: UserWarning: Warning: in file /content/gdrive/MyDrive/VISION ARTIFICIAL/Dataset Proyecto /14 Primo/primo (110).mp4, 6220800 bytes wanted but 0 bytes read,at frame 69/70, at time 2.30/2.32 sec. Using the last valid frame instead.\n",
            "  warnings.warn(\"Warning: in file %s, \"%(self.filename)+\n",
            "\n"
          ]
        },
        {
          "output_type": "stream",
          "name": "stdout",
          "text": [
            "Moviepy - Done !\n",
            "Moviepy - video ready /content/gdrive/MyDrive/VISION ARTIFICIAL/Dataset Proyecto /14 Primo/normalized_primo (110).mp4\n",
            "Normalized video saved as /content/gdrive/MyDrive/VISION ARTIFICIAL/Dataset Proyecto /14 Primo/normalized_primo (110).mp4\n",
            "\n",
            "Processing video /content/gdrive/MyDrive/VISION ARTIFICIAL/Dataset Proyecto /14 Primo/primo (111).mp4...\n",
            "Moviepy - Building video /content/gdrive/MyDrive/VISION ARTIFICIAL/Dataset Proyecto /14 Primo/normalized_primo (111).mp4.\n",
            "MoviePy - Writing audio in normalized_primo (111)TEMP_MPY_wvf_snd.mp3\n"
          ]
        },
        {
          "output_type": "stream",
          "name": "stderr",
          "text": []
        },
        {
          "output_type": "stream",
          "name": "stdout",
          "text": [
            "MoviePy - Done.\n",
            "Moviepy - Writing video /content/gdrive/MyDrive/VISION ARTIFICIAL/Dataset Proyecto /14 Primo/normalized_primo (111).mp4\n",
            "\n"
          ]
        },
        {
          "output_type": "stream",
          "name": "stderr",
          "text": [
            "t:  99%|█████████▉| 120/121 [00:09<00:00, 13.68it/s, now=None]WARNING:py.warnings:/usr/local/lib/python3.10/dist-packages/moviepy/video/io/ffmpeg_reader.py:123: UserWarning: Warning: in file /content/gdrive/MyDrive/VISION ARTIFICIAL/Dataset Proyecto /14 Primo/primo (111).mp4, 6220800 bytes wanted but 0 bytes read,at frame 45/46, at time 1.50/1.51 sec. Using the last valid frame instead.\n",
            "  warnings.warn(\"Warning: in file %s, \"%(self.filename)+\n",
            "\n"
          ]
        },
        {
          "output_type": "stream",
          "name": "stdout",
          "text": [
            "Moviepy - Done !\n",
            "Moviepy - video ready /content/gdrive/MyDrive/VISION ARTIFICIAL/Dataset Proyecto /14 Primo/normalized_primo (111).mp4\n",
            "Normalized video saved as /content/gdrive/MyDrive/VISION ARTIFICIAL/Dataset Proyecto /14 Primo/normalized_primo (111).mp4\n",
            "\n",
            "Processing video /content/gdrive/MyDrive/VISION ARTIFICIAL/Dataset Proyecto /14 Primo/primo (112).mp4...\n",
            "Moviepy - Building video /content/gdrive/MyDrive/VISION ARTIFICIAL/Dataset Proyecto /14 Primo/normalized_primo (112).mp4.\n",
            "MoviePy - Writing audio in normalized_primo (112)TEMP_MPY_wvf_snd.mp3\n"
          ]
        },
        {
          "output_type": "stream",
          "name": "stderr",
          "text": []
        },
        {
          "output_type": "stream",
          "name": "stdout",
          "text": [
            "MoviePy - Done.\n",
            "Moviepy - Writing video /content/gdrive/MyDrive/VISION ARTIFICIAL/Dataset Proyecto /14 Primo/normalized_primo (112).mp4\n",
            "\n"
          ]
        },
        {
          "output_type": "stream",
          "name": "stderr",
          "text": [
            "t:  99%|█████████▉| 174/175 [00:15<00:00, 11.95it/s, now=None]WARNING:py.warnings:/usr/local/lib/python3.10/dist-packages/moviepy/video/io/ffmpeg_reader.py:123: UserWarning: Warning: in file /content/gdrive/MyDrive/VISION ARTIFICIAL/Dataset Proyecto /14 Primo/primo (112).mp4, 6220800 bytes wanted but 0 bytes read,at frame 65/66, at time 2.17/2.18 sec. Using the last valid frame instead.\n",
            "  warnings.warn(\"Warning: in file %s, \"%(self.filename)+\n",
            "\n"
          ]
        },
        {
          "output_type": "stream",
          "name": "stdout",
          "text": [
            "Moviepy - Done !\n",
            "Moviepy - video ready /content/gdrive/MyDrive/VISION ARTIFICIAL/Dataset Proyecto /14 Primo/normalized_primo (112).mp4\n",
            "Normalized video saved as /content/gdrive/MyDrive/VISION ARTIFICIAL/Dataset Proyecto /14 Primo/normalized_primo (112).mp4\n",
            "\n",
            "Processing video /content/gdrive/MyDrive/VISION ARTIFICIAL/Dataset Proyecto /14 Primo/primo (113).mp4...\n",
            "Moviepy - Building video /content/gdrive/MyDrive/VISION ARTIFICIAL/Dataset Proyecto /14 Primo/normalized_primo (113).mp4.\n",
            "MoviePy - Writing audio in normalized_primo (113)TEMP_MPY_wvf_snd.mp3\n"
          ]
        },
        {
          "output_type": "stream",
          "name": "stderr",
          "text": []
        },
        {
          "output_type": "stream",
          "name": "stdout",
          "text": [
            "MoviePy - Done.\n",
            "Moviepy - Writing video /content/gdrive/MyDrive/VISION ARTIFICIAL/Dataset Proyecto /14 Primo/normalized_primo (113).mp4\n",
            "\n"
          ]
        },
        {
          "output_type": "stream",
          "name": "stderr",
          "text": [
            "t: 100%|██████████| 172/172 [00:14<00:00, 10.91it/s, now=None]WARNING:py.warnings:/usr/local/lib/python3.10/dist-packages/moviepy/video/io/ffmpeg_reader.py:123: UserWarning: Warning: in file /content/gdrive/MyDrive/VISION ARTIFICIAL/Dataset Proyecto /14 Primo/primo (113).mp4, 6220800 bytes wanted but 0 bytes read,at frame 64/65, at time 2.13/2.14 sec. Using the last valid frame instead.\n",
            "  warnings.warn(\"Warning: in file %s, \"%(self.filename)+\n",
            "\n"
          ]
        },
        {
          "output_type": "stream",
          "name": "stdout",
          "text": [
            "Moviepy - Done !\n",
            "Moviepy - video ready /content/gdrive/MyDrive/VISION ARTIFICIAL/Dataset Proyecto /14 Primo/normalized_primo (113).mp4\n",
            "Normalized video saved as /content/gdrive/MyDrive/VISION ARTIFICIAL/Dataset Proyecto /14 Primo/normalized_primo (113).mp4\n",
            "\n",
            "Processing video /content/gdrive/MyDrive/VISION ARTIFICIAL/Dataset Proyecto /14 Primo/primo (114).mp4...\n",
            "Moviepy - Building video /content/gdrive/MyDrive/VISION ARTIFICIAL/Dataset Proyecto /14 Primo/normalized_primo (114).mp4.\n",
            "MoviePy - Writing audio in normalized_primo (114)TEMP_MPY_wvf_snd.mp3\n"
          ]
        },
        {
          "output_type": "stream",
          "name": "stderr",
          "text": []
        },
        {
          "output_type": "stream",
          "name": "stdout",
          "text": [
            "MoviePy - Done.\n",
            "Moviepy - Writing video /content/gdrive/MyDrive/VISION ARTIFICIAL/Dataset Proyecto /14 Primo/normalized_primo (114).mp4\n",
            "\n"
          ]
        },
        {
          "output_type": "stream",
          "name": "stderr",
          "text": [
            "t: 100%|██████████| 188/188 [00:16<00:00,  9.81it/s, now=None]WARNING:py.warnings:/usr/local/lib/python3.10/dist-packages/moviepy/video/io/ffmpeg_reader.py:123: UserWarning: Warning: in file /content/gdrive/MyDrive/VISION ARTIFICIAL/Dataset Proyecto /14 Primo/primo (114).mp4, 6220800 bytes wanted but 0 bytes read,at frame 70/71, at time 2.33/2.35 sec. Using the last valid frame instead.\n",
            "  warnings.warn(\"Warning: in file %s, \"%(self.filename)+\n",
            "\n"
          ]
        },
        {
          "output_type": "stream",
          "name": "stdout",
          "text": [
            "Moviepy - Done !\n",
            "Moviepy - video ready /content/gdrive/MyDrive/VISION ARTIFICIAL/Dataset Proyecto /14 Primo/normalized_primo (114).mp4\n",
            "Normalized video saved as /content/gdrive/MyDrive/VISION ARTIFICIAL/Dataset Proyecto /14 Primo/normalized_primo (114).mp4\n",
            "\n",
            "Processing video /content/gdrive/MyDrive/VISION ARTIFICIAL/Dataset Proyecto /14 Primo/primo (115).mp4...\n",
            "Moviepy - Building video /content/gdrive/MyDrive/VISION ARTIFICIAL/Dataset Proyecto /14 Primo/normalized_primo (115).mp4.\n",
            "MoviePy - Writing audio in normalized_primo (115)TEMP_MPY_wvf_snd.mp3\n"
          ]
        },
        {
          "output_type": "stream",
          "name": "stderr",
          "text": []
        },
        {
          "output_type": "stream",
          "name": "stdout",
          "text": [
            "MoviePy - Done.\n",
            "Moviepy - Writing video /content/gdrive/MyDrive/VISION ARTIFICIAL/Dataset Proyecto /14 Primo/normalized_primo (115).mp4\n",
            "\n"
          ]
        },
        {
          "output_type": "stream",
          "name": "stderr",
          "text": []
        },
        {
          "output_type": "stream",
          "name": "stdout",
          "text": [
            "Moviepy - Done !\n",
            "Moviepy - video ready /content/gdrive/MyDrive/VISION ARTIFICIAL/Dataset Proyecto /14 Primo/normalized_primo (115).mp4\n",
            "Normalized video saved as /content/gdrive/MyDrive/VISION ARTIFICIAL/Dataset Proyecto /14 Primo/normalized_primo (115).mp4\n",
            "\n",
            "Processing video /content/gdrive/MyDrive/VISION ARTIFICIAL/Dataset Proyecto /14 Primo/primo (116).mp4...\n",
            "Moviepy - Building video /content/gdrive/MyDrive/VISION ARTIFICIAL/Dataset Proyecto /14 Primo/normalized_primo (116).mp4.\n",
            "MoviePy - Writing audio in normalized_primo (116)TEMP_MPY_wvf_snd.mp3\n"
          ]
        },
        {
          "output_type": "stream",
          "name": "stderr",
          "text": []
        },
        {
          "output_type": "stream",
          "name": "stdout",
          "text": [
            "MoviePy - Done.\n",
            "Moviepy - Writing video /content/gdrive/MyDrive/VISION ARTIFICIAL/Dataset Proyecto /14 Primo/normalized_primo (116).mp4\n",
            "\n"
          ]
        },
        {
          "output_type": "stream",
          "name": "stderr",
          "text": [
            "t: 100%|██████████| 188/188 [00:14<00:00,  5.44it/s, now=None]WARNING:py.warnings:/usr/local/lib/python3.10/dist-packages/moviepy/video/io/ffmpeg_reader.py:123: UserWarning: Warning: in file /content/gdrive/MyDrive/VISION ARTIFICIAL/Dataset Proyecto /14 Primo/primo (116).mp4, 6220800 bytes wanted but 0 bytes read,at frame 70/71, at time 2.33/2.35 sec. Using the last valid frame instead.\n",
            "  warnings.warn(\"Warning: in file %s, \"%(self.filename)+\n",
            "\n"
          ]
        },
        {
          "output_type": "stream",
          "name": "stdout",
          "text": [
            "Moviepy - Done !\n",
            "Moviepy - video ready /content/gdrive/MyDrive/VISION ARTIFICIAL/Dataset Proyecto /14 Primo/normalized_primo (116).mp4\n",
            "Normalized video saved as /content/gdrive/MyDrive/VISION ARTIFICIAL/Dataset Proyecto /14 Primo/normalized_primo (116).mp4\n",
            "\n",
            "Processing video /content/gdrive/MyDrive/VISION ARTIFICIAL/Dataset Proyecto /14 Primo/primo (117).mp4...\n",
            "Moviepy - Building video /content/gdrive/MyDrive/VISION ARTIFICIAL/Dataset Proyecto /14 Primo/normalized_primo (117).mp4.\n",
            "MoviePy - Writing audio in normalized_primo (117)TEMP_MPY_wvf_snd.mp3\n"
          ]
        },
        {
          "output_type": "stream",
          "name": "stderr",
          "text": []
        },
        {
          "output_type": "stream",
          "name": "stdout",
          "text": [
            "MoviePy - Done.\n",
            "Moviepy - Writing video /content/gdrive/MyDrive/VISION ARTIFICIAL/Dataset Proyecto /14 Primo/normalized_primo (117).mp4\n",
            "\n"
          ]
        },
        {
          "output_type": "stream",
          "name": "stderr",
          "text": []
        },
        {
          "output_type": "stream",
          "name": "stdout",
          "text": [
            "Moviepy - Done !\n",
            "Moviepy - video ready /content/gdrive/MyDrive/VISION ARTIFICIAL/Dataset Proyecto /14 Primo/normalized_primo (117).mp4\n",
            "Normalized video saved as /content/gdrive/MyDrive/VISION ARTIFICIAL/Dataset Proyecto /14 Primo/normalized_primo (117).mp4\n",
            "\n",
            "Processing video /content/gdrive/MyDrive/VISION ARTIFICIAL/Dataset Proyecto /14 Primo/primo (118).mp4...\n",
            "Moviepy - Building video /content/gdrive/MyDrive/VISION ARTIFICIAL/Dataset Proyecto /14 Primo/normalized_primo (118).mp4.\n",
            "MoviePy - Writing audio in normalized_primo (118)TEMP_MPY_wvf_snd.mp3\n"
          ]
        },
        {
          "output_type": "stream",
          "name": "stderr",
          "text": []
        },
        {
          "output_type": "stream",
          "name": "stdout",
          "text": [
            "MoviePy - Done.\n",
            "Moviepy - Writing video /content/gdrive/MyDrive/VISION ARTIFICIAL/Dataset Proyecto /14 Primo/normalized_primo (118).mp4\n",
            "\n"
          ]
        },
        {
          "output_type": "stream",
          "name": "stderr",
          "text": [
            "t: 100%|██████████| 180/180 [00:14<00:00,  6.08it/s, now=None]WARNING:py.warnings:/usr/local/lib/python3.10/dist-packages/moviepy/video/io/ffmpeg_reader.py:123: UserWarning: Warning: in file /content/gdrive/MyDrive/VISION ARTIFICIAL/Dataset Proyecto /14 Primo/primo (118).mp4, 6220800 bytes wanted but 0 bytes read,at frame 67/68, at time 2.23/2.25 sec. Using the last valid frame instead.\n",
            "  warnings.warn(\"Warning: in file %s, \"%(self.filename)+\n",
            "\n"
          ]
        },
        {
          "output_type": "stream",
          "name": "stdout",
          "text": [
            "Moviepy - Done !\n",
            "Moviepy - video ready /content/gdrive/MyDrive/VISION ARTIFICIAL/Dataset Proyecto /14 Primo/normalized_primo (118).mp4\n",
            "Normalized video saved as /content/gdrive/MyDrive/VISION ARTIFICIAL/Dataset Proyecto /14 Primo/normalized_primo (118).mp4\n",
            "\n",
            "Processing video /content/gdrive/MyDrive/VISION ARTIFICIAL/Dataset Proyecto /14 Primo/primo (119).mp4...\n",
            "Moviepy - Building video /content/gdrive/MyDrive/VISION ARTIFICIAL/Dataset Proyecto /14 Primo/normalized_primo (119).mp4.\n",
            "MoviePy - Writing audio in normalized_primo (119)TEMP_MPY_wvf_snd.mp3\n"
          ]
        },
        {
          "output_type": "stream",
          "name": "stderr",
          "text": []
        },
        {
          "output_type": "stream",
          "name": "stdout",
          "text": [
            "MoviePy - Done.\n",
            "Moviepy - Writing video /content/gdrive/MyDrive/VISION ARTIFICIAL/Dataset Proyecto /14 Primo/normalized_primo (119).mp4\n",
            "\n"
          ]
        },
        {
          "output_type": "stream",
          "name": "stderr",
          "text": [
            "t: 100%|██████████| 180/180 [00:15<00:00, 10.11it/s, now=None]WARNING:py.warnings:/usr/local/lib/python3.10/dist-packages/moviepy/video/io/ffmpeg_reader.py:123: UserWarning: Warning: in file /content/gdrive/MyDrive/VISION ARTIFICIAL/Dataset Proyecto /14 Primo/primo (119).mp4, 6220800 bytes wanted but 0 bytes read,at frame 67/68, at time 2.23/2.25 sec. Using the last valid frame instead.\n",
            "  warnings.warn(\"Warning: in file %s, \"%(self.filename)+\n",
            "\n"
          ]
        },
        {
          "output_type": "stream",
          "name": "stdout",
          "text": [
            "Moviepy - Done !\n",
            "Moviepy - video ready /content/gdrive/MyDrive/VISION ARTIFICIAL/Dataset Proyecto /14 Primo/normalized_primo (119).mp4\n",
            "Normalized video saved as /content/gdrive/MyDrive/VISION ARTIFICIAL/Dataset Proyecto /14 Primo/normalized_primo (119).mp4\n",
            "\n",
            "Processing video /content/gdrive/MyDrive/VISION ARTIFICIAL/Dataset Proyecto /14 Primo/primo (120).mp4...\n",
            "Moviepy - Building video /content/gdrive/MyDrive/VISION ARTIFICIAL/Dataset Proyecto /14 Primo/normalized_primo (120).mp4.\n",
            "MoviePy - Writing audio in normalized_primo (120)TEMP_MPY_wvf_snd.mp3\n"
          ]
        },
        {
          "output_type": "stream",
          "name": "stderr",
          "text": []
        },
        {
          "output_type": "stream",
          "name": "stdout",
          "text": [
            "MoviePy - Done.\n",
            "Moviepy - Writing video /content/gdrive/MyDrive/VISION ARTIFICIAL/Dataset Proyecto /14 Primo/normalized_primo (120).mp4\n",
            "\n"
          ]
        },
        {
          "output_type": "stream",
          "name": "stderr",
          "text": [
            "t:  99%|█████████▉| 166/168 [00:13<00:00, 11.15it/s, now=None]WARNING:py.warnings:/usr/local/lib/python3.10/dist-packages/moviepy/video/io/ffmpeg_reader.py:123: UserWarning: Warning: in file /content/gdrive/MyDrive/VISION ARTIFICIAL/Dataset Proyecto /14 Primo/primo (120).mp4, 6220800 bytes wanted but 0 bytes read,at frame 62/63, at time 2.07/2.09 sec. Using the last valid frame instead.\n",
            "  warnings.warn(\"Warning: in file %s, \"%(self.filename)+\n",
            "\n"
          ]
        },
        {
          "output_type": "stream",
          "name": "stdout",
          "text": [
            "Moviepy - Done !\n",
            "Moviepy - video ready /content/gdrive/MyDrive/VISION ARTIFICIAL/Dataset Proyecto /14 Primo/normalized_primo (120).mp4\n",
            "Normalized video saved as /content/gdrive/MyDrive/VISION ARTIFICIAL/Dataset Proyecto /14 Primo/normalized_primo (120).mp4\n",
            "\n",
            "Processing video /content/gdrive/MyDrive/VISION ARTIFICIAL/Dataset Proyecto /14 Primo/primo (121).mp4...\n",
            "Moviepy - Building video /content/gdrive/MyDrive/VISION ARTIFICIAL/Dataset Proyecto /14 Primo/normalized_primo (121).mp4.\n",
            "MoviePy - Writing audio in normalized_primo (121)TEMP_MPY_wvf_snd.mp3\n"
          ]
        },
        {
          "output_type": "stream",
          "name": "stderr",
          "text": []
        },
        {
          "output_type": "stream",
          "name": "stdout",
          "text": [
            "MoviePy - Done.\n",
            "Moviepy - Writing video /content/gdrive/MyDrive/VISION ARTIFICIAL/Dataset Proyecto /14 Primo/normalized_primo (121).mp4\n",
            "\n"
          ]
        },
        {
          "output_type": "stream",
          "name": "stderr",
          "text": []
        },
        {
          "output_type": "stream",
          "name": "stdout",
          "text": [
            "Moviepy - Done !\n",
            "Moviepy - video ready /content/gdrive/MyDrive/VISION ARTIFICIAL/Dataset Proyecto /14 Primo/normalized_primo (121).mp4\n",
            "Normalized video saved as /content/gdrive/MyDrive/VISION ARTIFICIAL/Dataset Proyecto /14 Primo/normalized_primo (121).mp4\n",
            "\n",
            "Processing video /content/gdrive/MyDrive/VISION ARTIFICIAL/Dataset Proyecto /14 Primo/primo (122).mp4...\n",
            "Moviepy - Building video /content/gdrive/MyDrive/VISION ARTIFICIAL/Dataset Proyecto /14 Primo/normalized_primo (122).mp4.\n",
            "MoviePy - Writing audio in normalized_primo (122)TEMP_MPY_wvf_snd.mp3\n"
          ]
        },
        {
          "output_type": "stream",
          "name": "stderr",
          "text": []
        },
        {
          "output_type": "stream",
          "name": "stdout",
          "text": [
            "MoviePy - Done.\n",
            "Moviepy - Writing video /content/gdrive/MyDrive/VISION ARTIFICIAL/Dataset Proyecto /14 Primo/normalized_primo (122).mp4\n",
            "\n"
          ]
        },
        {
          "output_type": "stream",
          "name": "stderr",
          "text": [
            "t: 100%|██████████| 132/132 [00:07<00:00, 13.90it/s, now=None]WARNING:py.warnings:/usr/local/lib/python3.10/dist-packages/moviepy/video/io/ffmpeg_reader.py:123: UserWarning: Warning: in file /content/gdrive/MyDrive/VISION ARTIFICIAL/Dataset Proyecto /14 Primo/primo (122).mp4, 6220800 bytes wanted but 0 bytes read,at frame 49/50, at time 1.63/1.65 sec. Using the last valid frame instead.\n",
            "  warnings.warn(\"Warning: in file %s, \"%(self.filename)+\n",
            "\n"
          ]
        },
        {
          "output_type": "stream",
          "name": "stdout",
          "text": [
            "Moviepy - Done !\n",
            "Moviepy - video ready /content/gdrive/MyDrive/VISION ARTIFICIAL/Dataset Proyecto /14 Primo/normalized_primo (122).mp4\n",
            "Normalized video saved as /content/gdrive/MyDrive/VISION ARTIFICIAL/Dataset Proyecto /14 Primo/normalized_primo (122).mp4\n",
            "\n",
            "Processing video /content/gdrive/MyDrive/VISION ARTIFICIAL/Dataset Proyecto /14 Primo/primo (123).mp4...\n",
            "Moviepy - Building video /content/gdrive/MyDrive/VISION ARTIFICIAL/Dataset Proyecto /14 Primo/normalized_primo (123).mp4.\n",
            "MoviePy - Writing audio in normalized_primo (123)TEMP_MPY_wvf_snd.mp3\n"
          ]
        },
        {
          "output_type": "stream",
          "name": "stderr",
          "text": []
        },
        {
          "output_type": "stream",
          "name": "stdout",
          "text": [
            "MoviePy - Done.\n",
            "Moviepy - Writing video /content/gdrive/MyDrive/VISION ARTIFICIAL/Dataset Proyecto /14 Primo/normalized_primo (123).mp4\n",
            "\n"
          ]
        },
        {
          "output_type": "stream",
          "name": "stderr",
          "text": []
        },
        {
          "output_type": "stream",
          "name": "stdout",
          "text": [
            "Moviepy - Done !\n",
            "Moviepy - video ready /content/gdrive/MyDrive/VISION ARTIFICIAL/Dataset Proyecto /14 Primo/normalized_primo (123).mp4\n",
            "Normalized video saved as /content/gdrive/MyDrive/VISION ARTIFICIAL/Dataset Proyecto /14 Primo/normalized_primo (123).mp4\n",
            "\n",
            "Processing video /content/gdrive/MyDrive/VISION ARTIFICIAL/Dataset Proyecto /14 Primo/primo (124).mp4...\n",
            "Moviepy - Building video /content/gdrive/MyDrive/VISION ARTIFICIAL/Dataset Proyecto /14 Primo/normalized_primo (124).mp4.\n",
            "MoviePy - Writing audio in normalized_primo (124)TEMP_MPY_wvf_snd.mp3\n"
          ]
        },
        {
          "output_type": "stream",
          "name": "stderr",
          "text": []
        },
        {
          "output_type": "stream",
          "name": "stdout",
          "text": [
            "MoviePy - Done.\n",
            "Moviepy - Writing video /content/gdrive/MyDrive/VISION ARTIFICIAL/Dataset Proyecto /14 Primo/normalized_primo (124).mp4\n",
            "\n"
          ]
        },
        {
          "output_type": "stream",
          "name": "stderr",
          "text": [
            "t:  99%|█████████▉| 144/145 [00:09<00:00, 11.81it/s, now=None]WARNING:py.warnings:/usr/local/lib/python3.10/dist-packages/moviepy/video/io/ffmpeg_reader.py:123: UserWarning: Warning: in file /content/gdrive/MyDrive/VISION ARTIFICIAL/Dataset Proyecto /14 Primo/primo (124).mp4, 6220800 bytes wanted but 0 bytes read,at frame 54/55, at time 1.80/1.81 sec. Using the last valid frame instead.\n",
            "  warnings.warn(\"Warning: in file %s, \"%(self.filename)+\n",
            "\n"
          ]
        },
        {
          "output_type": "stream",
          "name": "stdout",
          "text": [
            "Moviepy - Done !\n",
            "Moviepy - video ready /content/gdrive/MyDrive/VISION ARTIFICIAL/Dataset Proyecto /14 Primo/normalized_primo (124).mp4\n",
            "Normalized video saved as /content/gdrive/MyDrive/VISION ARTIFICIAL/Dataset Proyecto /14 Primo/normalized_primo (124).mp4\n",
            "\n",
            "Processing video /content/gdrive/MyDrive/VISION ARTIFICIAL/Dataset Proyecto /14 Primo/primo (125).mp4...\n",
            "Moviepy - Building video /content/gdrive/MyDrive/VISION ARTIFICIAL/Dataset Proyecto /14 Primo/normalized_primo (125).mp4.\n",
            "MoviePy - Writing audio in normalized_primo (125)TEMP_MPY_wvf_snd.mp3\n"
          ]
        },
        {
          "output_type": "stream",
          "name": "stderr",
          "text": []
        },
        {
          "output_type": "stream",
          "name": "stdout",
          "text": [
            "MoviePy - Done.\n",
            "Moviepy - Writing video /content/gdrive/MyDrive/VISION ARTIFICIAL/Dataset Proyecto /14 Primo/normalized_primo (125).mp4\n",
            "\n"
          ]
        },
        {
          "output_type": "stream",
          "name": "stderr",
          "text": [
            "t:  99%|█████████▉| 161/162 [00:12<00:00,  9.85it/s, now=None]WARNING:py.warnings:/usr/local/lib/python3.10/dist-packages/moviepy/video/io/ffmpeg_reader.py:123: UserWarning: Warning: in file /content/gdrive/MyDrive/VISION ARTIFICIAL/Dataset Proyecto /14 Primo/primo (125).mp4, 6220800 bytes wanted but 0 bytes read,at frame 60/61, at time 2.00/2.02 sec. Using the last valid frame instead.\n",
            "  warnings.warn(\"Warning: in file %s, \"%(self.filename)+\n",
            "\n"
          ]
        },
        {
          "output_type": "stream",
          "name": "stdout",
          "text": [
            "Moviepy - Done !\n",
            "Moviepy - video ready /content/gdrive/MyDrive/VISION ARTIFICIAL/Dataset Proyecto /14 Primo/normalized_primo (125).mp4\n",
            "Normalized video saved as /content/gdrive/MyDrive/VISION ARTIFICIAL/Dataset Proyecto /14 Primo/normalized_primo (125).mp4\n",
            "\n",
            "Processing video /content/gdrive/MyDrive/VISION ARTIFICIAL/Dataset Proyecto /14 Primo/primo (126).mp4...\n",
            "Moviepy - Building video /content/gdrive/MyDrive/VISION ARTIFICIAL/Dataset Proyecto /14 Primo/normalized_primo (126).mp4.\n",
            "MoviePy - Writing audio in normalized_primo (126)TEMP_MPY_wvf_snd.mp3\n"
          ]
        },
        {
          "output_type": "stream",
          "name": "stderr",
          "text": []
        },
        {
          "output_type": "stream",
          "name": "stdout",
          "text": [
            "MoviePy - Done.\n",
            "Moviepy - Writing video /content/gdrive/MyDrive/VISION ARTIFICIAL/Dataset Proyecto /14 Primo/normalized_primo (126).mp4\n",
            "\n"
          ]
        },
        {
          "output_type": "stream",
          "name": "stderr",
          "text": [
            "t:  99%|█████████▉| 131/132 [00:08<00:00, 13.27it/s, now=None]WARNING:py.warnings:/usr/local/lib/python3.10/dist-packages/moviepy/video/io/ffmpeg_reader.py:123: UserWarning: Warning: in file /content/gdrive/MyDrive/VISION ARTIFICIAL/Dataset Proyecto /14 Primo/primo (126).mp4, 6220800 bytes wanted but 0 bytes read,at frame 49/50, at time 1.63/1.65 sec. Using the last valid frame instead.\n",
            "  warnings.warn(\"Warning: in file %s, \"%(self.filename)+\n",
            "\n"
          ]
        },
        {
          "output_type": "stream",
          "name": "stdout",
          "text": [
            "Moviepy - Done !\n",
            "Moviepy - video ready /content/gdrive/MyDrive/VISION ARTIFICIAL/Dataset Proyecto /14 Primo/normalized_primo (126).mp4\n",
            "Normalized video saved as /content/gdrive/MyDrive/VISION ARTIFICIAL/Dataset Proyecto /14 Primo/normalized_primo (126).mp4\n",
            "\n",
            "Processing video /content/gdrive/MyDrive/VISION ARTIFICIAL/Dataset Proyecto /14 Primo/primo (127).mp4...\n",
            "Moviepy - Building video /content/gdrive/MyDrive/VISION ARTIFICIAL/Dataset Proyecto /14 Primo/normalized_primo (127).mp4.\n",
            "MoviePy - Writing audio in normalized_primo (127)TEMP_MPY_wvf_snd.mp3\n"
          ]
        },
        {
          "output_type": "stream",
          "name": "stderr",
          "text": []
        },
        {
          "output_type": "stream",
          "name": "stdout",
          "text": [
            "MoviePy - Done.\n",
            "Moviepy - Writing video /content/gdrive/MyDrive/VISION ARTIFICIAL/Dataset Proyecto /14 Primo/normalized_primo (127).mp4\n",
            "\n"
          ]
        },
        {
          "output_type": "stream",
          "name": "stderr",
          "text": []
        },
        {
          "output_type": "stream",
          "name": "stdout",
          "text": [
            "Moviepy - Done !\n",
            "Moviepy - video ready /content/gdrive/MyDrive/VISION ARTIFICIAL/Dataset Proyecto /14 Primo/normalized_primo (127).mp4\n",
            "Normalized video saved as /content/gdrive/MyDrive/VISION ARTIFICIAL/Dataset Proyecto /14 Primo/normalized_primo (127).mp4\n",
            "\n",
            "Processing video /content/gdrive/MyDrive/VISION ARTIFICIAL/Dataset Proyecto /14 Primo/primo (128).mp4...\n",
            "Moviepy - Building video /content/gdrive/MyDrive/VISION ARTIFICIAL/Dataset Proyecto /14 Primo/normalized_primo (128).mp4.\n",
            "MoviePy - Writing audio in normalized_primo (128)TEMP_MPY_wvf_snd.mp3\n"
          ]
        },
        {
          "output_type": "stream",
          "name": "stderr",
          "text": []
        },
        {
          "output_type": "stream",
          "name": "stdout",
          "text": [
            "MoviePy - Done.\n",
            "Moviepy - Writing video /content/gdrive/MyDrive/VISION ARTIFICIAL/Dataset Proyecto /14 Primo/normalized_primo (128).mp4\n",
            "\n"
          ]
        },
        {
          "output_type": "stream",
          "name": "stderr",
          "text": []
        },
        {
          "output_type": "stream",
          "name": "stdout",
          "text": [
            "Moviepy - Done !\n",
            "Moviepy - video ready /content/gdrive/MyDrive/VISION ARTIFICIAL/Dataset Proyecto /14 Primo/normalized_primo (128).mp4\n",
            "Normalized video saved as /content/gdrive/MyDrive/VISION ARTIFICIAL/Dataset Proyecto /14 Primo/normalized_primo (128).mp4\n",
            "\n",
            "Processing video /content/gdrive/MyDrive/VISION ARTIFICIAL/Dataset Proyecto /14 Primo/primo (129).mp4...\n",
            "Moviepy - Building video /content/gdrive/MyDrive/VISION ARTIFICIAL/Dataset Proyecto /14 Primo/normalized_primo (129).mp4.\n",
            "MoviePy - Writing audio in normalized_primo (129)TEMP_MPY_wvf_snd.mp3\n"
          ]
        },
        {
          "output_type": "stream",
          "name": "stderr",
          "text": []
        },
        {
          "output_type": "stream",
          "name": "stdout",
          "text": [
            "MoviePy - Done.\n",
            "Moviepy - Writing video /content/gdrive/MyDrive/VISION ARTIFICIAL/Dataset Proyecto /14 Primo/normalized_primo (129).mp4\n",
            "\n"
          ]
        },
        {
          "output_type": "stream",
          "name": "stderr",
          "text": [
            "t: 100%|██████████| 145/145 [00:09<00:00, 12.19it/s, now=None]WARNING:py.warnings:/usr/local/lib/python3.10/dist-packages/moviepy/video/io/ffmpeg_reader.py:123: UserWarning: Warning: in file /content/gdrive/MyDrive/VISION ARTIFICIAL/Dataset Proyecto /14 Primo/primo (129).mp4, 6220800 bytes wanted but 0 bytes read,at frame 54/55, at time 1.80/1.81 sec. Using the last valid frame instead.\n",
            "  warnings.warn(\"Warning: in file %s, \"%(self.filename)+\n",
            "\n"
          ]
        },
        {
          "output_type": "stream",
          "name": "stdout",
          "text": [
            "Moviepy - Done !\n",
            "Moviepy - video ready /content/gdrive/MyDrive/VISION ARTIFICIAL/Dataset Proyecto /14 Primo/normalized_primo (129).mp4\n",
            "Normalized video saved as /content/gdrive/MyDrive/VISION ARTIFICIAL/Dataset Proyecto /14 Primo/normalized_primo (129).mp4\n",
            "\n",
            "Processing video /content/gdrive/MyDrive/VISION ARTIFICIAL/Dataset Proyecto /14 Primo/primo (130).mp4...\n",
            "Moviepy - Building video /content/gdrive/MyDrive/VISION ARTIFICIAL/Dataset Proyecto /14 Primo/normalized_primo (130).mp4.\n",
            "MoviePy - Writing audio in normalized_primo (130)TEMP_MPY_wvf_snd.mp3\n"
          ]
        },
        {
          "output_type": "stream",
          "name": "stderr",
          "text": []
        },
        {
          "output_type": "stream",
          "name": "stdout",
          "text": [
            "MoviePy - Done.\n",
            "Moviepy - Writing video /content/gdrive/MyDrive/VISION ARTIFICIAL/Dataset Proyecto /14 Primo/normalized_primo (130).mp4\n",
            "\n"
          ]
        },
        {
          "output_type": "stream",
          "name": "stderr",
          "text": [
            "t:  99%|█████████▉| 115/116 [00:06<00:00, 13.36it/s, now=None]WARNING:py.warnings:/usr/local/lib/python3.10/dist-packages/moviepy/video/io/ffmpeg_reader.py:123: UserWarning: Warning: in file /content/gdrive/MyDrive/VISION ARTIFICIAL/Dataset Proyecto /14 Primo/primo (130).mp4, 6220800 bytes wanted but 0 bytes read,at frame 43/44, at time 1.43/1.44 sec. Using the last valid frame instead.\n",
            "  warnings.warn(\"Warning: in file %s, \"%(self.filename)+\n",
            "\n"
          ]
        },
        {
          "output_type": "stream",
          "name": "stdout",
          "text": [
            "Moviepy - Done !\n",
            "Moviepy - video ready /content/gdrive/MyDrive/VISION ARTIFICIAL/Dataset Proyecto /14 Primo/normalized_primo (130).mp4\n",
            "Normalized video saved as /content/gdrive/MyDrive/VISION ARTIFICIAL/Dataset Proyecto /14 Primo/normalized_primo (130).mp4\n",
            "\n",
            "Processing video /content/gdrive/MyDrive/VISION ARTIFICIAL/Dataset Proyecto /14 Primo/primo (131).mp4...\n",
            "Moviepy - Building video /content/gdrive/MyDrive/VISION ARTIFICIAL/Dataset Proyecto /14 Primo/normalized_primo (131).mp4.\n",
            "MoviePy - Writing audio in normalized_primo (131)TEMP_MPY_wvf_snd.mp3\n"
          ]
        },
        {
          "output_type": "stream",
          "name": "stderr",
          "text": []
        },
        {
          "output_type": "stream",
          "name": "stdout",
          "text": [
            "MoviePy - Done.\n",
            "Moviepy - Writing video /content/gdrive/MyDrive/VISION ARTIFICIAL/Dataset Proyecto /14 Primo/normalized_primo (131).mp4\n",
            "\n"
          ]
        },
        {
          "output_type": "stream",
          "name": "stderr",
          "text": []
        },
        {
          "output_type": "stream",
          "name": "stdout",
          "text": [
            "Moviepy - Done !\n",
            "Moviepy - video ready /content/gdrive/MyDrive/VISION ARTIFICIAL/Dataset Proyecto /14 Primo/normalized_primo (131).mp4\n",
            "Normalized video saved as /content/gdrive/MyDrive/VISION ARTIFICIAL/Dataset Proyecto /14 Primo/normalized_primo (131).mp4\n",
            "\n",
            "Processing video /content/gdrive/MyDrive/VISION ARTIFICIAL/Dataset Proyecto /14 Primo/primo (132).mp4...\n",
            "Moviepy - Building video /content/gdrive/MyDrive/VISION ARTIFICIAL/Dataset Proyecto /14 Primo/normalized_primo (132).mp4.\n",
            "MoviePy - Writing audio in normalized_primo (132)TEMP_MPY_wvf_snd.mp3\n"
          ]
        },
        {
          "output_type": "stream",
          "name": "stderr",
          "text": []
        },
        {
          "output_type": "stream",
          "name": "stdout",
          "text": [
            "MoviePy - Done.\n",
            "Moviepy - Writing video /content/gdrive/MyDrive/VISION ARTIFICIAL/Dataset Proyecto /14 Primo/normalized_primo (132).mp4\n",
            "\n"
          ]
        },
        {
          "output_type": "stream",
          "name": "stderr",
          "text": [
            "t:  99%|█████████▉| 131/132 [00:12<00:00,  7.83it/s, now=None]WARNING:py.warnings:/usr/local/lib/python3.10/dist-packages/moviepy/video/io/ffmpeg_reader.py:123: UserWarning: Warning: in file /content/gdrive/MyDrive/VISION ARTIFICIAL/Dataset Proyecto /14 Primo/primo (132).mp4, 6220800 bytes wanted but 0 bytes read,at frame 49/50, at time 1.63/1.65 sec. Using the last valid frame instead.\n",
            "  warnings.warn(\"Warning: in file %s, \"%(self.filename)+\n",
            "\n"
          ]
        },
        {
          "output_type": "stream",
          "name": "stdout",
          "text": [
            "Moviepy - Done !\n",
            "Moviepy - video ready /content/gdrive/MyDrive/VISION ARTIFICIAL/Dataset Proyecto /14 Primo/normalized_primo (132).mp4\n",
            "Normalized video saved as /content/gdrive/MyDrive/VISION ARTIFICIAL/Dataset Proyecto /14 Primo/normalized_primo (132).mp4\n",
            "\n",
            "Processing video /content/gdrive/MyDrive/VISION ARTIFICIAL/Dataset Proyecto /14 Primo/primo (133).mp4...\n",
            "Moviepy - Building video /content/gdrive/MyDrive/VISION ARTIFICIAL/Dataset Proyecto /14 Primo/normalized_primo (133).mp4.\n",
            "MoviePy - Writing audio in normalized_primo (133)TEMP_MPY_wvf_snd.mp3\n"
          ]
        },
        {
          "output_type": "stream",
          "name": "stderr",
          "text": []
        },
        {
          "output_type": "stream",
          "name": "stdout",
          "text": [
            "MoviePy - Done.\n",
            "Moviepy - Writing video /content/gdrive/MyDrive/VISION ARTIFICIAL/Dataset Proyecto /14 Primo/normalized_primo (133).mp4\n",
            "\n"
          ]
        },
        {
          "output_type": "stream",
          "name": "stderr",
          "text": []
        },
        {
          "output_type": "stream",
          "name": "stdout",
          "text": [
            "Moviepy - Done !\n",
            "Moviepy - video ready /content/gdrive/MyDrive/VISION ARTIFICIAL/Dataset Proyecto /14 Primo/normalized_primo (133).mp4\n",
            "Normalized video saved as /content/gdrive/MyDrive/VISION ARTIFICIAL/Dataset Proyecto /14 Primo/normalized_primo (133).mp4\n",
            "\n",
            "Processing video /content/gdrive/MyDrive/VISION ARTIFICIAL/Dataset Proyecto /14 Primo/primo (134).mp4...\n",
            "Moviepy - Building video /content/gdrive/MyDrive/VISION ARTIFICIAL/Dataset Proyecto /14 Primo/normalized_primo (134).mp4.\n",
            "MoviePy - Writing audio in normalized_primo (134)TEMP_MPY_wvf_snd.mp3\n"
          ]
        },
        {
          "output_type": "stream",
          "name": "stderr",
          "text": []
        },
        {
          "output_type": "stream",
          "name": "stdout",
          "text": [
            "MoviePy - Done.\n",
            "Moviepy - Writing video /content/gdrive/MyDrive/VISION ARTIFICIAL/Dataset Proyecto /14 Primo/normalized_primo (134).mp4\n",
            "\n"
          ]
        },
        {
          "output_type": "stream",
          "name": "stderr",
          "text": [
            "t: 100%|██████████| 164/164 [00:12<00:00,  5.36it/s, now=None]WARNING:py.warnings:/usr/local/lib/python3.10/dist-packages/moviepy/video/io/ffmpeg_reader.py:123: UserWarning: Warning: in file /content/gdrive/MyDrive/VISION ARTIFICIAL/Dataset Proyecto /14 Primo/primo (134).mp4, 6220800 bytes wanted but 0 bytes read,at frame 61/62, at time 2.03/2.04 sec. Using the last valid frame instead.\n",
            "  warnings.warn(\"Warning: in file %s, \"%(self.filename)+\n",
            "\n"
          ]
        },
        {
          "output_type": "stream",
          "name": "stdout",
          "text": [
            "Moviepy - Done !\n",
            "Moviepy - video ready /content/gdrive/MyDrive/VISION ARTIFICIAL/Dataset Proyecto /14 Primo/normalized_primo (134).mp4\n",
            "Normalized video saved as /content/gdrive/MyDrive/VISION ARTIFICIAL/Dataset Proyecto /14 Primo/normalized_primo (134).mp4\n",
            "\n",
            "Processing video /content/gdrive/MyDrive/VISION ARTIFICIAL/Dataset Proyecto /14 Primo/primo (135).mp4...\n",
            "Moviepy - Building video /content/gdrive/MyDrive/VISION ARTIFICIAL/Dataset Proyecto /14 Primo/normalized_primo (135).mp4.\n",
            "MoviePy - Writing audio in normalized_primo (135)TEMP_MPY_wvf_snd.mp3\n"
          ]
        },
        {
          "output_type": "stream",
          "name": "stderr",
          "text": []
        },
        {
          "output_type": "stream",
          "name": "stdout",
          "text": [
            "MoviePy - Done.\n",
            "Moviepy - Writing video /content/gdrive/MyDrive/VISION ARTIFICIAL/Dataset Proyecto /14 Primo/normalized_primo (135).mp4\n",
            "\n"
          ]
        },
        {
          "output_type": "stream",
          "name": "stderr",
          "text": [
            "t: 100%|██████████| 164/164 [00:13<00:00,  6.03it/s, now=None]WARNING:py.warnings:/usr/local/lib/python3.10/dist-packages/moviepy/video/io/ffmpeg_reader.py:123: UserWarning: Warning: in file /content/gdrive/MyDrive/VISION ARTIFICIAL/Dataset Proyecto /14 Primo/primo (135).mp4, 6220800 bytes wanted but 0 bytes read,at frame 61/62, at time 2.03/2.04 sec. Using the last valid frame instead.\n",
            "  warnings.warn(\"Warning: in file %s, \"%(self.filename)+\n",
            "\n"
          ]
        },
        {
          "output_type": "stream",
          "name": "stdout",
          "text": [
            "Moviepy - Done !\n",
            "Moviepy - video ready /content/gdrive/MyDrive/VISION ARTIFICIAL/Dataset Proyecto /14 Primo/normalized_primo (135).mp4\n",
            "Normalized video saved as /content/gdrive/MyDrive/VISION ARTIFICIAL/Dataset Proyecto /14 Primo/normalized_primo (135).mp4\n",
            "\n",
            "Processing video /content/gdrive/MyDrive/VISION ARTIFICIAL/Dataset Proyecto /14 Primo/primo (136).mp4...\n",
            "Moviepy - Building video /content/gdrive/MyDrive/VISION ARTIFICIAL/Dataset Proyecto /14 Primo/normalized_primo (136).mp4.\n",
            "MoviePy - Writing audio in normalized_primo (136)TEMP_MPY_wvf_snd.mp3\n"
          ]
        },
        {
          "output_type": "stream",
          "name": "stderr",
          "text": []
        },
        {
          "output_type": "stream",
          "name": "stdout",
          "text": [
            "MoviePy - Done.\n",
            "Moviepy - Writing video /content/gdrive/MyDrive/VISION ARTIFICIAL/Dataset Proyecto /14 Primo/normalized_primo (136).mp4\n",
            "\n"
          ]
        },
        {
          "output_type": "stream",
          "name": "stderr",
          "text": [
            "t:  99%|█████████▉| 168/169 [00:13<00:00,  6.88it/s, now=None]WARNING:py.warnings:/usr/local/lib/python3.10/dist-packages/moviepy/video/io/ffmpeg_reader.py:123: UserWarning: Warning: in file /content/gdrive/MyDrive/VISION ARTIFICIAL/Dataset Proyecto /14 Primo/primo (136).mp4, 6220800 bytes wanted but 0 bytes read,at frame 63/64, at time 2.10/2.11 sec. Using the last valid frame instead.\n",
            "  warnings.warn(\"Warning: in file %s, \"%(self.filename)+\n",
            "\n"
          ]
        },
        {
          "output_type": "stream",
          "name": "stdout",
          "text": [
            "Moviepy - Done !\n",
            "Moviepy - video ready /content/gdrive/MyDrive/VISION ARTIFICIAL/Dataset Proyecto /14 Primo/normalized_primo (136).mp4\n",
            "Normalized video saved as /content/gdrive/MyDrive/VISION ARTIFICIAL/Dataset Proyecto /14 Primo/normalized_primo (136).mp4\n",
            "\n",
            "Processing video /content/gdrive/MyDrive/VISION ARTIFICIAL/Dataset Proyecto /14 Primo/primo (137).mp4...\n",
            "Moviepy - Building video /content/gdrive/MyDrive/VISION ARTIFICIAL/Dataset Proyecto /14 Primo/normalized_primo (137).mp4.\n",
            "MoviePy - Writing audio in normalized_primo (137)TEMP_MPY_wvf_snd.mp3\n"
          ]
        },
        {
          "output_type": "stream",
          "name": "stderr",
          "text": []
        },
        {
          "output_type": "stream",
          "name": "stdout",
          "text": [
            "MoviePy - Done.\n",
            "Moviepy - Writing video /content/gdrive/MyDrive/VISION ARTIFICIAL/Dataset Proyecto /14 Primo/normalized_primo (137).mp4\n",
            "\n"
          ]
        },
        {
          "output_type": "stream",
          "name": "stderr",
          "text": [
            "t: 100%|██████████| 164/164 [00:14<00:00,  9.84it/s, now=None]WARNING:py.warnings:/usr/local/lib/python3.10/dist-packages/moviepy/video/io/ffmpeg_reader.py:123: UserWarning: Warning: in file /content/gdrive/MyDrive/VISION ARTIFICIAL/Dataset Proyecto /14 Primo/primo (137).mp4, 6220800 bytes wanted but 0 bytes read,at frame 61/62, at time 2.03/2.04 sec. Using the last valid frame instead.\n",
            "  warnings.warn(\"Warning: in file %s, \"%(self.filename)+\n",
            "\n"
          ]
        },
        {
          "output_type": "stream",
          "name": "stdout",
          "text": [
            "Moviepy - Done !\n",
            "Moviepy - video ready /content/gdrive/MyDrive/VISION ARTIFICIAL/Dataset Proyecto /14 Primo/normalized_primo (137).mp4\n",
            "Normalized video saved as /content/gdrive/MyDrive/VISION ARTIFICIAL/Dataset Proyecto /14 Primo/normalized_primo (137).mp4\n",
            "\n",
            "Processing video /content/gdrive/MyDrive/VISION ARTIFICIAL/Dataset Proyecto /14 Primo/primo (138).mp4...\n",
            "Moviepy - Building video /content/gdrive/MyDrive/VISION ARTIFICIAL/Dataset Proyecto /14 Primo/normalized_primo (138).mp4.\n",
            "MoviePy - Writing audio in normalized_primo (138)TEMP_MPY_wvf_snd.mp3\n"
          ]
        },
        {
          "output_type": "stream",
          "name": "stderr",
          "text": []
        },
        {
          "output_type": "stream",
          "name": "stdout",
          "text": [
            "MoviePy - Done.\n",
            "Moviepy - Writing video /content/gdrive/MyDrive/VISION ARTIFICIAL/Dataset Proyecto /14 Primo/normalized_primo (138).mp4\n",
            "\n"
          ]
        },
        {
          "output_type": "stream",
          "name": "stderr",
          "text": [
            "t:  99%|█████████▉| 176/177 [00:15<00:00,  9.97it/s, now=None]WARNING:py.warnings:/usr/local/lib/python3.10/dist-packages/moviepy/video/io/ffmpeg_reader.py:123: UserWarning: Warning: in file /content/gdrive/MyDrive/VISION ARTIFICIAL/Dataset Proyecto /14 Primo/primo (138).mp4, 6220800 bytes wanted but 0 bytes read,at frame 66/67, at time 2.20/2.21 sec. Using the last valid frame instead.\n",
            "  warnings.warn(\"Warning: in file %s, \"%(self.filename)+\n",
            "\n"
          ]
        },
        {
          "output_type": "stream",
          "name": "stdout",
          "text": [
            "Moviepy - Done !\n",
            "Moviepy - video ready /content/gdrive/MyDrive/VISION ARTIFICIAL/Dataset Proyecto /14 Primo/normalized_primo (138).mp4\n",
            "Normalized video saved as /content/gdrive/MyDrive/VISION ARTIFICIAL/Dataset Proyecto /14 Primo/normalized_primo (138).mp4\n",
            "\n",
            "Processing video /content/gdrive/MyDrive/VISION ARTIFICIAL/Dataset Proyecto /14 Primo/primo (139).mp4...\n",
            "Moviepy - Building video /content/gdrive/MyDrive/VISION ARTIFICIAL/Dataset Proyecto /14 Primo/normalized_primo (139).mp4.\n",
            "MoviePy - Writing audio in normalized_primo (139)TEMP_MPY_wvf_snd.mp3\n"
          ]
        },
        {
          "output_type": "stream",
          "name": "stderr",
          "text": []
        },
        {
          "output_type": "stream",
          "name": "stdout",
          "text": [
            "MoviePy - Done.\n",
            "Moviepy - Writing video /content/gdrive/MyDrive/VISION ARTIFICIAL/Dataset Proyecto /14 Primo/normalized_primo (139).mp4\n",
            "\n"
          ]
        },
        {
          "output_type": "stream",
          "name": "stderr",
          "text": [
            "t:  99%|█████████▉| 168/169 [00:14<00:00, 10.50it/s, now=None]WARNING:py.warnings:/usr/local/lib/python3.10/dist-packages/moviepy/video/io/ffmpeg_reader.py:123: UserWarning: Warning: in file /content/gdrive/MyDrive/VISION ARTIFICIAL/Dataset Proyecto /14 Primo/primo (139).mp4, 6220800 bytes wanted but 0 bytes read,at frame 63/64, at time 2.10/2.11 sec. Using the last valid frame instead.\n",
            "  warnings.warn(\"Warning: in file %s, \"%(self.filename)+\n",
            "\n"
          ]
        },
        {
          "output_type": "stream",
          "name": "stdout",
          "text": [
            "Moviepy - Done !\n",
            "Moviepy - video ready /content/gdrive/MyDrive/VISION ARTIFICIAL/Dataset Proyecto /14 Primo/normalized_primo (139).mp4\n",
            "Normalized video saved as /content/gdrive/MyDrive/VISION ARTIFICIAL/Dataset Proyecto /14 Primo/normalized_primo (139).mp4\n",
            "\n",
            "Processing video /content/gdrive/MyDrive/VISION ARTIFICIAL/Dataset Proyecto /14 Primo/primo (140).mp4...\n",
            "Moviepy - Building video /content/gdrive/MyDrive/VISION ARTIFICIAL/Dataset Proyecto /14 Primo/normalized_primo (140).mp4.\n",
            "MoviePy - Writing audio in normalized_primo (140)TEMP_MPY_wvf_snd.mp3\n"
          ]
        },
        {
          "output_type": "stream",
          "name": "stderr",
          "text": []
        },
        {
          "output_type": "stream",
          "name": "stdout",
          "text": [
            "MoviePy - Done.\n",
            "Moviepy - Writing video /content/gdrive/MyDrive/VISION ARTIFICIAL/Dataset Proyecto /14 Primo/normalized_primo (140).mp4\n",
            "\n"
          ]
        },
        {
          "output_type": "stream",
          "name": "stderr",
          "text": []
        },
        {
          "output_type": "stream",
          "name": "stdout",
          "text": [
            "Moviepy - Done !\n",
            "Moviepy - video ready /content/gdrive/MyDrive/VISION ARTIFICIAL/Dataset Proyecto /14 Primo/normalized_primo (140).mp4\n",
            "Normalized video saved as /content/gdrive/MyDrive/VISION ARTIFICIAL/Dataset Proyecto /14 Primo/normalized_primo (140).mp4\n",
            "\n",
            "Processing video /content/gdrive/MyDrive/VISION ARTIFICIAL/Dataset Proyecto /14 Primo/primo (141).mp4...\n",
            "Moviepy - Building video /content/gdrive/MyDrive/VISION ARTIFICIAL/Dataset Proyecto /14 Primo/normalized_primo (141).mp4.\n",
            "MoviePy - Writing audio in normalized_primo (141)TEMP_MPY_wvf_snd.mp3\n"
          ]
        },
        {
          "output_type": "stream",
          "name": "stderr",
          "text": []
        },
        {
          "output_type": "stream",
          "name": "stdout",
          "text": [
            "MoviePy - Done.\n",
            "Moviepy - Writing video /content/gdrive/MyDrive/VISION ARTIFICIAL/Dataset Proyecto /14 Primo/normalized_primo (141).mp4\n",
            "\n"
          ]
        },
        {
          "output_type": "stream",
          "name": "stderr",
          "text": [
            "t: 100%|██████████| 169/169 [00:14<00:00,  8.53it/s, now=None]WARNING:py.warnings:/usr/local/lib/python3.10/dist-packages/moviepy/video/io/ffmpeg_reader.py:123: UserWarning: Warning: in file /content/gdrive/MyDrive/VISION ARTIFICIAL/Dataset Proyecto /14 Primo/primo (141).mp4, 6220800 bytes wanted but 0 bytes read,at frame 63/64, at time 2.10/2.11 sec. Using the last valid frame instead.\n",
            "  warnings.warn(\"Warning: in file %s, \"%(self.filename)+\n",
            "\n"
          ]
        },
        {
          "output_type": "stream",
          "name": "stdout",
          "text": [
            "Moviepy - Done !\n",
            "Moviepy - video ready /content/gdrive/MyDrive/VISION ARTIFICIAL/Dataset Proyecto /14 Primo/normalized_primo (141).mp4\n",
            "Normalized video saved as /content/gdrive/MyDrive/VISION ARTIFICIAL/Dataset Proyecto /14 Primo/normalized_primo (141).mp4\n",
            "\n",
            "Processing video /content/gdrive/MyDrive/VISION ARTIFICIAL/Dataset Proyecto /14 Primo/primo (142).mp4...\n",
            "Moviepy - Building video /content/gdrive/MyDrive/VISION ARTIFICIAL/Dataset Proyecto /14 Primo/normalized_primo (142).mp4.\n",
            "MoviePy - Writing audio in normalized_primo (142)TEMP_MPY_wvf_snd.mp3\n"
          ]
        },
        {
          "output_type": "stream",
          "name": "stderr",
          "text": []
        },
        {
          "output_type": "stream",
          "name": "stdout",
          "text": [
            "MoviePy - Done.\n",
            "Moviepy - Writing video /content/gdrive/MyDrive/VISION ARTIFICIAL/Dataset Proyecto /14 Primo/normalized_primo (142).mp4\n",
            "\n"
          ]
        },
        {
          "output_type": "stream",
          "name": "stderr",
          "text": []
        },
        {
          "output_type": "stream",
          "name": "stdout",
          "text": [
            "Moviepy - Done !\n",
            "Moviepy - video ready /content/gdrive/MyDrive/VISION ARTIFICIAL/Dataset Proyecto /14 Primo/normalized_primo (142).mp4\n",
            "Normalized video saved as /content/gdrive/MyDrive/VISION ARTIFICIAL/Dataset Proyecto /14 Primo/normalized_primo (142).mp4\n",
            "\n",
            "Processing video /content/gdrive/MyDrive/VISION ARTIFICIAL/Dataset Proyecto /14 Primo/primo (143).mp4...\n",
            "Moviepy - Building video /content/gdrive/MyDrive/VISION ARTIFICIAL/Dataset Proyecto /14 Primo/normalized_primo (143).mp4.\n",
            "MoviePy - Writing audio in normalized_primo (143)TEMP_MPY_wvf_snd.mp3\n"
          ]
        },
        {
          "output_type": "stream",
          "name": "stderr",
          "text": []
        },
        {
          "output_type": "stream",
          "name": "stdout",
          "text": [
            "MoviePy - Done.\n",
            "Moviepy - Writing video /content/gdrive/MyDrive/VISION ARTIFICIAL/Dataset Proyecto /14 Primo/normalized_primo (143).mp4\n",
            "\n"
          ]
        },
        {
          "output_type": "stream",
          "name": "stderr",
          "text": [
            "t:  99%|█████████▉| 166/168 [00:13<00:00,  7.06it/s, now=None]WARNING:py.warnings:/usr/local/lib/python3.10/dist-packages/moviepy/video/io/ffmpeg_reader.py:123: UserWarning: Warning: in file /content/gdrive/MyDrive/VISION ARTIFICIAL/Dataset Proyecto /14 Primo/primo (143).mp4, 6220800 bytes wanted but 0 bytes read,at frame 62/63, at time 2.07/2.09 sec. Using the last valid frame instead.\n",
            "  warnings.warn(\"Warning: in file %s, \"%(self.filename)+\n",
            "\n"
          ]
        },
        {
          "output_type": "stream",
          "name": "stdout",
          "text": [
            "Moviepy - Done !\n",
            "Moviepy - video ready /content/gdrive/MyDrive/VISION ARTIFICIAL/Dataset Proyecto /14 Primo/normalized_primo (143).mp4\n",
            "Normalized video saved as /content/gdrive/MyDrive/VISION ARTIFICIAL/Dataset Proyecto /14 Primo/normalized_primo (143).mp4\n",
            "\n",
            "Processing video /content/gdrive/MyDrive/VISION ARTIFICIAL/Dataset Proyecto /14 Primo/primo (144).mp4...\n",
            "Moviepy - Building video /content/gdrive/MyDrive/VISION ARTIFICIAL/Dataset Proyecto /14 Primo/normalized_primo (144).mp4.\n",
            "MoviePy - Writing audio in normalized_primo (144)TEMP_MPY_wvf_snd.mp3\n"
          ]
        },
        {
          "output_type": "stream",
          "name": "stderr",
          "text": []
        },
        {
          "output_type": "stream",
          "name": "stdout",
          "text": [
            "MoviePy - Done.\n",
            "Moviepy - Writing video /content/gdrive/MyDrive/VISION ARTIFICIAL/Dataset Proyecto /14 Primo/normalized_primo (144).mp4\n",
            "\n"
          ]
        },
        {
          "output_type": "stream",
          "name": "stderr",
          "text": [
            "t:  99%|█████████▉| 166/168 [00:14<00:00, 10.36it/s, now=None]WARNING:py.warnings:/usr/local/lib/python3.10/dist-packages/moviepy/video/io/ffmpeg_reader.py:123: UserWarning: Warning: in file /content/gdrive/MyDrive/VISION ARTIFICIAL/Dataset Proyecto /14 Primo/primo (144).mp4, 6220800 bytes wanted but 0 bytes read,at frame 62/63, at time 2.07/2.09 sec. Using the last valid frame instead.\n",
            "  warnings.warn(\"Warning: in file %s, \"%(self.filename)+\n",
            "\n"
          ]
        },
        {
          "output_type": "stream",
          "name": "stdout",
          "text": [
            "Moviepy - Done !\n",
            "Moviepy - video ready /content/gdrive/MyDrive/VISION ARTIFICIAL/Dataset Proyecto /14 Primo/normalized_primo (144).mp4\n",
            "Normalized video saved as /content/gdrive/MyDrive/VISION ARTIFICIAL/Dataset Proyecto /14 Primo/normalized_primo (144).mp4\n",
            "\n",
            "Processing video /content/gdrive/MyDrive/VISION ARTIFICIAL/Dataset Proyecto /14 Primo/primo (145).mp4...\n",
            "Moviepy - Building video /content/gdrive/MyDrive/VISION ARTIFICIAL/Dataset Proyecto /14 Primo/normalized_primo (145).mp4.\n",
            "MoviePy - Writing audio in normalized_primo (145)TEMP_MPY_wvf_snd.mp3\n"
          ]
        },
        {
          "output_type": "stream",
          "name": "stderr",
          "text": []
        },
        {
          "output_type": "stream",
          "name": "stdout",
          "text": [
            "MoviePy - Done.\n",
            "Moviepy - Writing video /content/gdrive/MyDrive/VISION ARTIFICIAL/Dataset Proyecto /14 Primo/normalized_primo (145).mp4\n",
            "\n"
          ]
        },
        {
          "output_type": "stream",
          "name": "stderr",
          "text": [
            "t: 100%|██████████| 156/156 [00:13<00:00,  9.04it/s, now=None]WARNING:py.warnings:/usr/local/lib/python3.10/dist-packages/moviepy/video/io/ffmpeg_reader.py:123: UserWarning: Warning: in file /content/gdrive/MyDrive/VISION ARTIFICIAL/Dataset Proyecto /14 Primo/primo (145).mp4, 6220800 bytes wanted but 0 bytes read,at frame 58/59, at time 1.93/1.95 sec. Using the last valid frame instead.\n",
            "  warnings.warn(\"Warning: in file %s, \"%(self.filename)+\n",
            "\n"
          ]
        },
        {
          "output_type": "stream",
          "name": "stdout",
          "text": [
            "Moviepy - Done !\n",
            "Moviepy - video ready /content/gdrive/MyDrive/VISION ARTIFICIAL/Dataset Proyecto /14 Primo/normalized_primo (145).mp4\n",
            "Normalized video saved as /content/gdrive/MyDrive/VISION ARTIFICIAL/Dataset Proyecto /14 Primo/normalized_primo (145).mp4\n",
            "\n",
            "Processing video /content/gdrive/MyDrive/VISION ARTIFICIAL/Dataset Proyecto /14 Primo/primo (146).mp4...\n",
            "Moviepy - Building video /content/gdrive/MyDrive/VISION ARTIFICIAL/Dataset Proyecto /14 Primo/normalized_primo (146).mp4.\n",
            "MoviePy - Writing audio in normalized_primo (146)TEMP_MPY_wvf_snd.mp3\n"
          ]
        },
        {
          "output_type": "stream",
          "name": "stderr",
          "text": []
        },
        {
          "output_type": "stream",
          "name": "stdout",
          "text": [
            "MoviePy - Done.\n",
            "Moviepy - Writing video /content/gdrive/MyDrive/VISION ARTIFICIAL/Dataset Proyecto /14 Primo/normalized_primo (146).mp4\n",
            "\n"
          ]
        },
        {
          "output_type": "stream",
          "name": "stderr",
          "text": [
            "t: 100%|██████████| 156/156 [00:12<00:00,  6.50it/s, now=None]WARNING:py.warnings:/usr/local/lib/python3.10/dist-packages/moviepy/video/io/ffmpeg_reader.py:123: UserWarning: Warning: in file /content/gdrive/MyDrive/VISION ARTIFICIAL/Dataset Proyecto /14 Primo/primo (146).mp4, 6220800 bytes wanted but 0 bytes read,at frame 58/59, at time 1.93/1.95 sec. Using the last valid frame instead.\n",
            "  warnings.warn(\"Warning: in file %s, \"%(self.filename)+\n",
            "\n"
          ]
        },
        {
          "output_type": "stream",
          "name": "stdout",
          "text": [
            "Moviepy - Done !\n",
            "Moviepy - video ready /content/gdrive/MyDrive/VISION ARTIFICIAL/Dataset Proyecto /14 Primo/normalized_primo (146).mp4\n",
            "Normalized video saved as /content/gdrive/MyDrive/VISION ARTIFICIAL/Dataset Proyecto /14 Primo/normalized_primo (146).mp4\n",
            "\n",
            "Processing video /content/gdrive/MyDrive/VISION ARTIFICIAL/Dataset Proyecto /14 Primo/primo (147).mp4...\n",
            "Moviepy - Building video /content/gdrive/MyDrive/VISION ARTIFICIAL/Dataset Proyecto /14 Primo/normalized_primo (147).mp4.\n",
            "MoviePy - Writing audio in normalized_primo (147)TEMP_MPY_wvf_snd.mp3\n"
          ]
        },
        {
          "output_type": "stream",
          "name": "stderr",
          "text": []
        },
        {
          "output_type": "stream",
          "name": "stdout",
          "text": [
            "MoviePy - Done.\n",
            "Moviepy - Writing video /content/gdrive/MyDrive/VISION ARTIFICIAL/Dataset Proyecto /14 Primo/normalized_primo (147).mp4\n",
            "\n"
          ]
        },
        {
          "output_type": "stream",
          "name": "stderr",
          "text": []
        },
        {
          "output_type": "stream",
          "name": "stdout",
          "text": [
            "Moviepy - Done !\n",
            "Moviepy - video ready /content/gdrive/MyDrive/VISION ARTIFICIAL/Dataset Proyecto /14 Primo/normalized_primo (147).mp4\n",
            "Normalized video saved as /content/gdrive/MyDrive/VISION ARTIFICIAL/Dataset Proyecto /14 Primo/normalized_primo (147).mp4\n",
            "\n",
            "Processing video /content/gdrive/MyDrive/VISION ARTIFICIAL/Dataset Proyecto /14 Primo/primo (148).mp4...\n",
            "Moviepy - Building video /content/gdrive/MyDrive/VISION ARTIFICIAL/Dataset Proyecto /14 Primo/normalized_primo (148).mp4.\n",
            "MoviePy - Writing audio in normalized_primo (148)TEMP_MPY_wvf_snd.mp3\n"
          ]
        },
        {
          "output_type": "stream",
          "name": "stderr",
          "text": []
        },
        {
          "output_type": "stream",
          "name": "stdout",
          "text": [
            "MoviePy - Done.\n",
            "Moviepy - Writing video /content/gdrive/MyDrive/VISION ARTIFICIAL/Dataset Proyecto /14 Primo/normalized_primo (148).mp4\n",
            "\n"
          ]
        },
        {
          "output_type": "stream",
          "name": "stderr",
          "text": [
            "t: 100%|██████████| 151/151 [00:10<00:00,  5.74it/s, now=None]WARNING:py.warnings:/usr/local/lib/python3.10/dist-packages/moviepy/video/io/ffmpeg_reader.py:123: UserWarning: Warning: in file /content/gdrive/MyDrive/VISION ARTIFICIAL/Dataset Proyecto /14 Primo/primo (148).mp4, 6220800 bytes wanted but 0 bytes read,at frame 56/57, at time 1.87/1.88 sec. Using the last valid frame instead.\n",
            "  warnings.warn(\"Warning: in file %s, \"%(self.filename)+\n",
            "\n"
          ]
        },
        {
          "output_type": "stream",
          "name": "stdout",
          "text": [
            "Moviepy - Done !\n",
            "Moviepy - video ready /content/gdrive/MyDrive/VISION ARTIFICIAL/Dataset Proyecto /14 Primo/normalized_primo (148).mp4\n",
            "Normalized video saved as /content/gdrive/MyDrive/VISION ARTIFICIAL/Dataset Proyecto /14 Primo/normalized_primo (148).mp4\n",
            "\n",
            "Processing video /content/gdrive/MyDrive/VISION ARTIFICIAL/Dataset Proyecto /14 Primo/primo (149).mp4...\n",
            "Moviepy - Building video /content/gdrive/MyDrive/VISION ARTIFICIAL/Dataset Proyecto /14 Primo/normalized_primo (149).mp4.\n",
            "MoviePy - Writing audio in normalized_primo (149)TEMP_MPY_wvf_snd.mp3\n"
          ]
        },
        {
          "output_type": "stream",
          "name": "stderr",
          "text": []
        },
        {
          "output_type": "stream",
          "name": "stdout",
          "text": [
            "MoviePy - Done.\n",
            "Moviepy - Writing video /content/gdrive/MyDrive/VISION ARTIFICIAL/Dataset Proyecto /14 Primo/normalized_primo (149).mp4\n",
            "\n"
          ]
        },
        {
          "output_type": "stream",
          "name": "stderr",
          "text": []
        },
        {
          "output_type": "stream",
          "name": "stdout",
          "text": [
            "Moviepy - Done !\n",
            "Moviepy - video ready /content/gdrive/MyDrive/VISION ARTIFICIAL/Dataset Proyecto /14 Primo/normalized_primo (149).mp4\n",
            "Normalized video saved as /content/gdrive/MyDrive/VISION ARTIFICIAL/Dataset Proyecto /14 Primo/normalized_primo (149).mp4\n",
            "\n",
            "Processing video /content/gdrive/MyDrive/VISION ARTIFICIAL/Dataset Proyecto /14 Primo/primo (150).mp4...\n",
            "Moviepy - Building video /content/gdrive/MyDrive/VISION ARTIFICIAL/Dataset Proyecto /14 Primo/normalized_primo (150).mp4.\n",
            "MoviePy - Writing audio in normalized_primo (150)TEMP_MPY_wvf_snd.mp3\n"
          ]
        },
        {
          "output_type": "stream",
          "name": "stderr",
          "text": []
        },
        {
          "output_type": "stream",
          "name": "stdout",
          "text": [
            "MoviePy - Done.\n",
            "Moviepy - Writing video /content/gdrive/MyDrive/VISION ARTIFICIAL/Dataset Proyecto /14 Primo/normalized_primo (150).mp4\n",
            "\n"
          ]
        },
        {
          "output_type": "stream",
          "name": "stderr",
          "text": []
        },
        {
          "output_type": "stream",
          "name": "stdout",
          "text": [
            "Moviepy - Done !\n",
            "Moviepy - video ready /content/gdrive/MyDrive/VISION ARTIFICIAL/Dataset Proyecto /14 Primo/normalized_primo (150).mp4\n",
            "Normalized video saved as /content/gdrive/MyDrive/VISION ARTIFICIAL/Dataset Proyecto /14 Primo/normalized_primo (150).mp4\n",
            "\n",
            "Processing video /content/gdrive/MyDrive/VISION ARTIFICIAL/Dataset Proyecto /14 Primo/primo (151).mp4...\n",
            "Moviepy - Building video /content/gdrive/MyDrive/VISION ARTIFICIAL/Dataset Proyecto /14 Primo/normalized_primo (151).mp4.\n",
            "MoviePy - Writing audio in normalized_primo (151)TEMP_MPY_wvf_snd.mp3\n"
          ]
        },
        {
          "output_type": "stream",
          "name": "stderr",
          "text": []
        },
        {
          "output_type": "stream",
          "name": "stdout",
          "text": [
            "MoviePy - Done.\n",
            "Moviepy - Writing video /content/gdrive/MyDrive/VISION ARTIFICIAL/Dataset Proyecto /14 Primo/normalized_primo (151).mp4\n",
            "\n"
          ]
        },
        {
          "output_type": "stream",
          "name": "stderr",
          "text": [
            "t:  98%|█████████▊| 130/132 [00:07<00:00, 12.90it/s, now=None]WARNING:py.warnings:/usr/local/lib/python3.10/dist-packages/moviepy/video/io/ffmpeg_reader.py:123: UserWarning: Warning: in file /content/gdrive/MyDrive/VISION ARTIFICIAL/Dataset Proyecto /14 Primo/primo (151).mp4, 6220800 bytes wanted but 0 bytes read,at frame 49/50, at time 1.63/1.65 sec. Using the last valid frame instead.\n",
            "  warnings.warn(\"Warning: in file %s, \"%(self.filename)+\n",
            "\n"
          ]
        },
        {
          "output_type": "stream",
          "name": "stdout",
          "text": [
            "Moviepy - Done !\n",
            "Moviepy - video ready /content/gdrive/MyDrive/VISION ARTIFICIAL/Dataset Proyecto /14 Primo/normalized_primo (151).mp4\n",
            "Normalized video saved as /content/gdrive/MyDrive/VISION ARTIFICIAL/Dataset Proyecto /14 Primo/normalized_primo (151).mp4\n",
            "\n",
            "Processing video /content/gdrive/MyDrive/VISION ARTIFICIAL/Dataset Proyecto /14 Primo/primo (152).mp4...\n",
            "Moviepy - Building video /content/gdrive/MyDrive/VISION ARTIFICIAL/Dataset Proyecto /14 Primo/normalized_primo (152).mp4.\n",
            "MoviePy - Writing audio in normalized_primo (152)TEMP_MPY_wvf_snd.mp3\n"
          ]
        },
        {
          "output_type": "stream",
          "name": "stderr",
          "text": []
        },
        {
          "output_type": "stream",
          "name": "stdout",
          "text": [
            "MoviePy - Done.\n",
            "Moviepy - Writing video /content/gdrive/MyDrive/VISION ARTIFICIAL/Dataset Proyecto /14 Primo/normalized_primo (152).mp4\n",
            "\n"
          ]
        },
        {
          "output_type": "stream",
          "name": "stderr",
          "text": []
        },
        {
          "output_type": "stream",
          "name": "stdout",
          "text": [
            "Moviepy - Done !\n",
            "Moviepy - video ready /content/gdrive/MyDrive/VISION ARTIFICIAL/Dataset Proyecto /14 Primo/normalized_primo (152).mp4\n",
            "Normalized video saved as /content/gdrive/MyDrive/VISION ARTIFICIAL/Dataset Proyecto /14 Primo/normalized_primo (152).mp4\n",
            "\n",
            "Processing video /content/gdrive/MyDrive/VISION ARTIFICIAL/Dataset Proyecto /14 Primo/primo (153).mp4...\n",
            "Moviepy - Building video /content/gdrive/MyDrive/VISION ARTIFICIAL/Dataset Proyecto /14 Primo/normalized_primo (153).mp4.\n",
            "MoviePy - Writing audio in normalized_primo (153)TEMP_MPY_wvf_snd.mp3\n"
          ]
        },
        {
          "output_type": "stream",
          "name": "stderr",
          "text": []
        },
        {
          "output_type": "stream",
          "name": "stdout",
          "text": [
            "MoviePy - Done.\n",
            "Moviepy - Writing video /content/gdrive/MyDrive/VISION ARTIFICIAL/Dataset Proyecto /14 Primo/normalized_primo (153).mp4\n",
            "\n"
          ]
        },
        {
          "output_type": "stream",
          "name": "stderr",
          "text": []
        },
        {
          "output_type": "stream",
          "name": "stdout",
          "text": [
            "Moviepy - Done !\n",
            "Moviepy - video ready /content/gdrive/MyDrive/VISION ARTIFICIAL/Dataset Proyecto /14 Primo/normalized_primo (153).mp4\n",
            "Normalized video saved as /content/gdrive/MyDrive/VISION ARTIFICIAL/Dataset Proyecto /14 Primo/normalized_primo (153).mp4\n",
            "\n",
            "Processing video /content/gdrive/MyDrive/VISION ARTIFICIAL/Dataset Proyecto /14 Primo/primo (154).mp4...\n",
            "Moviepy - Building video /content/gdrive/MyDrive/VISION ARTIFICIAL/Dataset Proyecto /14 Primo/normalized_primo (154).mp4.\n",
            "MoviePy - Writing audio in normalized_primo (154)TEMP_MPY_wvf_snd.mp3\n"
          ]
        },
        {
          "output_type": "stream",
          "name": "stderr",
          "text": []
        },
        {
          "output_type": "stream",
          "name": "stdout",
          "text": [
            "MoviePy - Done.\n",
            "Moviepy - Writing video /content/gdrive/MyDrive/VISION ARTIFICIAL/Dataset Proyecto /14 Primo/normalized_primo (154).mp4\n",
            "\n"
          ]
        },
        {
          "output_type": "stream",
          "name": "stderr",
          "text": []
        },
        {
          "output_type": "stream",
          "name": "stdout",
          "text": [
            "Moviepy - Done !\n",
            "Moviepy - video ready /content/gdrive/MyDrive/VISION ARTIFICIAL/Dataset Proyecto /14 Primo/normalized_primo (154).mp4\n",
            "Normalized video saved as /content/gdrive/MyDrive/VISION ARTIFICIAL/Dataset Proyecto /14 Primo/normalized_primo (154).mp4\n",
            "\n",
            "Processing video /content/gdrive/MyDrive/VISION ARTIFICIAL/Dataset Proyecto /14 Primo/primo (155).mp4...\n",
            "Moviepy - Building video /content/gdrive/MyDrive/VISION ARTIFICIAL/Dataset Proyecto /14 Primo/normalized_primo (155).mp4.\n",
            "MoviePy - Writing audio in normalized_primo (155)TEMP_MPY_wvf_snd.mp3\n"
          ]
        },
        {
          "output_type": "stream",
          "name": "stderr",
          "text": []
        },
        {
          "output_type": "stream",
          "name": "stdout",
          "text": [
            "MoviePy - Done.\n",
            "Moviepy - Writing video /content/gdrive/MyDrive/VISION ARTIFICIAL/Dataset Proyecto /14 Primo/normalized_primo (155).mp4\n",
            "\n"
          ]
        },
        {
          "output_type": "stream",
          "name": "stderr",
          "text": [
            "t: 100%|██████████| 156/156 [00:11<00:00,  5.65it/s, now=None]WARNING:py.warnings:/usr/local/lib/python3.10/dist-packages/moviepy/video/io/ffmpeg_reader.py:123: UserWarning: Warning: in file /content/gdrive/MyDrive/VISION ARTIFICIAL/Dataset Proyecto /14 Primo/primo (155).mp4, 6220800 bytes wanted but 0 bytes read,at frame 58/59, at time 1.93/1.95 sec. Using the last valid frame instead.\n",
            "  warnings.warn(\"Warning: in file %s, \"%(self.filename)+\n",
            "\n"
          ]
        },
        {
          "output_type": "stream",
          "name": "stdout",
          "text": [
            "Moviepy - Done !\n",
            "Moviepy - video ready /content/gdrive/MyDrive/VISION ARTIFICIAL/Dataset Proyecto /14 Primo/normalized_primo (155).mp4\n",
            "Normalized video saved as /content/gdrive/MyDrive/VISION ARTIFICIAL/Dataset Proyecto /14 Primo/normalized_primo (155).mp4\n",
            "\n",
            "Processing video /content/gdrive/MyDrive/VISION ARTIFICIAL/Dataset Proyecto /14 Primo/primo (156).mp4...\n",
            "Moviepy - Building video /content/gdrive/MyDrive/VISION ARTIFICIAL/Dataset Proyecto /14 Primo/normalized_primo (156).mp4.\n",
            "MoviePy - Writing audio in normalized_primo (156)TEMP_MPY_wvf_snd.mp3\n"
          ]
        },
        {
          "output_type": "stream",
          "name": "stderr",
          "text": []
        },
        {
          "output_type": "stream",
          "name": "stdout",
          "text": [
            "MoviePy - Done.\n",
            "Moviepy - Writing video /content/gdrive/MyDrive/VISION ARTIFICIAL/Dataset Proyecto /14 Primo/normalized_primo (156).mp4\n",
            "\n"
          ]
        },
        {
          "output_type": "stream",
          "name": "stderr",
          "text": []
        },
        {
          "output_type": "stream",
          "name": "stdout",
          "text": [
            "Moviepy - Done !\n",
            "Moviepy - video ready /content/gdrive/MyDrive/VISION ARTIFICIAL/Dataset Proyecto /14 Primo/normalized_primo (156).mp4\n",
            "Normalized video saved as /content/gdrive/MyDrive/VISION ARTIFICIAL/Dataset Proyecto /14 Primo/normalized_primo (156).mp4\n",
            "\n",
            "Processing video /content/gdrive/MyDrive/VISION ARTIFICIAL/Dataset Proyecto /14 Primo/primo (157).mp4...\n",
            "Moviepy - Building video /content/gdrive/MyDrive/VISION ARTIFICIAL/Dataset Proyecto /14 Primo/normalized_primo (157).mp4.\n",
            "MoviePy - Writing audio in normalized_primo (157)TEMP_MPY_wvf_snd.mp3\n"
          ]
        },
        {
          "output_type": "stream",
          "name": "stderr",
          "text": []
        },
        {
          "output_type": "stream",
          "name": "stdout",
          "text": [
            "MoviePy - Done.\n",
            "Moviepy - Writing video /content/gdrive/MyDrive/VISION ARTIFICIAL/Dataset Proyecto /14 Primo/normalized_primo (157).mp4\n",
            "\n"
          ]
        },
        {
          "output_type": "stream",
          "name": "stderr",
          "text": [
            "t: 100%|██████████| 156/156 [00:10<00:00,  8.57it/s, now=None]WARNING:py.warnings:/usr/local/lib/python3.10/dist-packages/moviepy/video/io/ffmpeg_reader.py:123: UserWarning: Warning: in file /content/gdrive/MyDrive/VISION ARTIFICIAL/Dataset Proyecto /14 Primo/primo (157).mp4, 6220800 bytes wanted but 0 bytes read,at frame 58/59, at time 1.93/1.95 sec. Using the last valid frame instead.\n",
            "  warnings.warn(\"Warning: in file %s, \"%(self.filename)+\n",
            "\n"
          ]
        },
        {
          "output_type": "stream",
          "name": "stdout",
          "text": [
            "Moviepy - Done !\n",
            "Moviepy - video ready /content/gdrive/MyDrive/VISION ARTIFICIAL/Dataset Proyecto /14 Primo/normalized_primo (157).mp4\n",
            "Normalized video saved as /content/gdrive/MyDrive/VISION ARTIFICIAL/Dataset Proyecto /14 Primo/normalized_primo (157).mp4\n",
            "\n",
            "Processing video /content/gdrive/MyDrive/VISION ARTIFICIAL/Dataset Proyecto /14 Primo/primo (158).mp4...\n",
            "Moviepy - Building video /content/gdrive/MyDrive/VISION ARTIFICIAL/Dataset Proyecto /14 Primo/normalized_primo (158).mp4.\n",
            "MoviePy - Writing audio in normalized_primo (158)TEMP_MPY_wvf_snd.mp3\n"
          ]
        },
        {
          "output_type": "stream",
          "name": "stderr",
          "text": []
        },
        {
          "output_type": "stream",
          "name": "stdout",
          "text": [
            "MoviePy - Done.\n",
            "Moviepy - Writing video /content/gdrive/MyDrive/VISION ARTIFICIAL/Dataset Proyecto /14 Primo/normalized_primo (158).mp4\n",
            "\n"
          ]
        },
        {
          "output_type": "stream",
          "name": "stderr",
          "text": [
            "t: 100%|██████████| 156/156 [00:10<00:00,  7.29it/s, now=None]WARNING:py.warnings:/usr/local/lib/python3.10/dist-packages/moviepy/video/io/ffmpeg_reader.py:123: UserWarning: Warning: in file /content/gdrive/MyDrive/VISION ARTIFICIAL/Dataset Proyecto /14 Primo/primo (158).mp4, 6220800 bytes wanted but 0 bytes read,at frame 58/59, at time 1.93/1.95 sec. Using the last valid frame instead.\n",
            "  warnings.warn(\"Warning: in file %s, \"%(self.filename)+\n",
            "\n"
          ]
        },
        {
          "output_type": "stream",
          "name": "stdout",
          "text": [
            "Moviepy - Done !\n",
            "Moviepy - video ready /content/gdrive/MyDrive/VISION ARTIFICIAL/Dataset Proyecto /14 Primo/normalized_primo (158).mp4\n",
            "Normalized video saved as /content/gdrive/MyDrive/VISION ARTIFICIAL/Dataset Proyecto /14 Primo/normalized_primo (158).mp4\n",
            "\n",
            "Processing video /content/gdrive/MyDrive/VISION ARTIFICIAL/Dataset Proyecto /14 Primo/primo (159).mp4...\n",
            "Moviepy - Building video /content/gdrive/MyDrive/VISION ARTIFICIAL/Dataset Proyecto /14 Primo/normalized_primo (159).mp4.\n",
            "MoviePy - Writing audio in normalized_primo (159)TEMP_MPY_wvf_snd.mp3\n"
          ]
        },
        {
          "output_type": "stream",
          "name": "stderr",
          "text": []
        },
        {
          "output_type": "stream",
          "name": "stdout",
          "text": [
            "MoviePy - Done.\n",
            "Moviepy - Writing video /content/gdrive/MyDrive/VISION ARTIFICIAL/Dataset Proyecto /14 Primo/normalized_primo (159).mp4\n",
            "\n"
          ]
        },
        {
          "output_type": "stream",
          "name": "stderr",
          "text": [
            "t:  99%|█████████▉| 167/168 [00:13<00:00,  9.26it/s, now=None]WARNING:py.warnings:/usr/local/lib/python3.10/dist-packages/moviepy/video/io/ffmpeg_reader.py:123: UserWarning: Warning: in file /content/gdrive/MyDrive/VISION ARTIFICIAL/Dataset Proyecto /14 Primo/primo (159).mp4, 6220800 bytes wanted but 0 bytes read,at frame 62/63, at time 2.07/2.09 sec. Using the last valid frame instead.\n",
            "  warnings.warn(\"Warning: in file %s, \"%(self.filename)+\n",
            "\n"
          ]
        },
        {
          "output_type": "stream",
          "name": "stdout",
          "text": [
            "Moviepy - Done !\n",
            "Moviepy - video ready /content/gdrive/MyDrive/VISION ARTIFICIAL/Dataset Proyecto /14 Primo/normalized_primo (159).mp4\n",
            "Normalized video saved as /content/gdrive/MyDrive/VISION ARTIFICIAL/Dataset Proyecto /14 Primo/normalized_primo (159).mp4\n",
            "\n",
            "Processing video /content/gdrive/MyDrive/VISION ARTIFICIAL/Dataset Proyecto /14 Primo/primo (160).mp4...\n",
            "Moviepy - Building video /content/gdrive/MyDrive/VISION ARTIFICIAL/Dataset Proyecto /14 Primo/normalized_primo (160).mp4.\n",
            "MoviePy - Writing audio in normalized_primo (160)TEMP_MPY_wvf_snd.mp3\n"
          ]
        },
        {
          "output_type": "stream",
          "name": "stderr",
          "text": []
        },
        {
          "output_type": "stream",
          "name": "stdout",
          "text": [
            "MoviePy - Done.\n",
            "Moviepy - Writing video /content/gdrive/MyDrive/VISION ARTIFICIAL/Dataset Proyecto /14 Primo/normalized_primo (160).mp4\n",
            "\n"
          ]
        },
        {
          "output_type": "stream",
          "name": "stderr",
          "text": []
        },
        {
          "output_type": "stream",
          "name": "stdout",
          "text": [
            "Moviepy - Done !\n",
            "Moviepy - video ready /content/gdrive/MyDrive/VISION ARTIFICIAL/Dataset Proyecto /14 Primo/normalized_primo (160).mp4\n",
            "Normalized video saved as /content/gdrive/MyDrive/VISION ARTIFICIAL/Dataset Proyecto /14 Primo/normalized_primo (160).mp4\n",
            "\n",
            "All videos have been processed.\n"
          ]
        }
      ],
      "source": [
        "import os\n",
        "from moviepy.editor import VideoFileClip\n",
        "from google.colab import drive\n",
        "drive.mount('/content/gdrive', force_remount=True)\n",
        "\n",
        "\n",
        "def normalize_video(video_path, output_path, target_fps):\n",
        "    # Load the video\n",
        "    clip = VideoFileClip(video_path)\n",
        "\n",
        "    # Adjust the video's frame rate\n",
        "    clip = clip.set_duration(clip.duration).set_fps(target_fps)\n",
        "\n",
        "    # Write the output video\n",
        "    clip.write_videofile(output_path, fps=target_fps)\n",
        "\n",
        "# Define the base directory\n",
        "\n",
        "base_dir = '/content/gdrive/MyDrive/VISION ARTIFICIAL/Dataset Proyecto /14 Primo'\n",
        "\n",
        "# Define target frame rate\n",
        "target_fps = 80\n",
        "\n",
        "# Iterate over all folders and files\n",
        "for root, dirs, files in os.walk(base_dir):\n",
        "    for file in files:\n",
        "        if file.endswith('.mp4'):  # Check if the file is a .mp4 video\n",
        "            input_video_path = os.path.join(root, file)\n",
        "            output_video_path = os.path.join(root, f'normalized_{file}')\n",
        "            \n",
        "            print(f'Processing video {input_video_path}...')\n",
        "            normalize_video(input_video_path, output_video_path, target_fps)\n",
        "            print(f'Normalized video saved as {output_video_path}\\n')\n",
        "\n",
        "print('All videos have been processed.')"
      ]
    },
    {
      "cell_type": "code",
      "source": [
        "import cv2\n",
        "\n",
        "# Ruta del video\n",
        "video_path = '/content/gdrive/MyDrive/VISION ARTIFICIAL/Dataset Proyecto /11 Sobrino/10 (1).mp4'\n",
        "\n",
        "# Carga el video utilizando OpenCV\n",
        "cap = cv2.VideoCapture(video_path)\n",
        "\n",
        "# Obtiene el número total de frames en el video\n",
        "total_frames = int(cap.get(cv2.CAP_PROP_FRAME_COUNT))\n",
        "\n",
        "# Muestra el número total de frames\n",
        "print(f\"El video tiene {total_frames} frames.\")\n",
        "\n",
        "# Libera el objeto de captura y cierra la ventana\n",
        "cap.release()\n",
        "cv2.destroyAllWindows()"
      ],
      "metadata": {
        "colab": {
          "base_uri": "https://localhost:8080/"
        },
        "id": "XNxjjrh_Lf6f",
        "outputId": "83ecb55d-5098-4bac-8231-2e2af807ced9"
      },
      "execution_count": null,
      "outputs": [
        {
          "output_type": "stream",
          "name": "stdout",
          "text": [
            "El video tiene 66 frames.\n"
          ]
        }
      ]
    },
    {
      "cell_type": "code",
      "source": [],
      "metadata": {
        "id": "N1Jn9eqaMEmY"
      },
      "execution_count": null,
      "outputs": []
    }
  ]
}