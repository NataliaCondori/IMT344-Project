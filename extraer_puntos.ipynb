{
  "nbformat": 4,
  "nbformat_minor": 0,
  "metadata": {
    "colab": {
      "provenance": [],
      "gpuType": "T4",
      "include_colab_link": true
    },
    "kernelspec": {
      "name": "python3",
      "display_name": "Python 3"
    },
    "language_info": {
      "name": "python"
    },
    "accelerator": "GPU",
    "gpuClass": "standard"
  },
  "cells": [
    {
      "cell_type": "markdown",
      "metadata": {
        "id": "view-in-github",
        "colab_type": "text"
      },
      "source": [
        "<a href=\"https://colab.research.google.com/github/NataliaCondori/IMT344-Project/blob/main/extraer_puntos.ipynb\" target=\"_parent\"><img src=\"https://colab.research.google.com/assets/colab-badge.svg\" alt=\"Open In Colab\"/></a>"
      ]
    },
    {
      "cell_type": "code",
      "source": [
        "#Install the mediapipe library for hand tracking and analysis.\n",
        "!pip install mediapipe"
      ],
      "metadata": {
        "colab": {
          "base_uri": "https://localhost:8080/"
        },
        "id": "-gZ2EOAf65Vl",
        "outputId": "d3de5b34-cdcd-46c3-9564-4ada9308cfb9"
      },
      "execution_count": 1,
      "outputs": [
        {
          "output_type": "stream",
          "name": "stdout",
          "text": [
            "Looking in indexes: https://pypi.org/simple, https://us-python.pkg.dev/colab-wheels/public/simple/\n",
            "Collecting mediapipe\n",
            "  Downloading mediapipe-0.10.0-cp310-cp310-manylinux_2_17_x86_64.manylinux2014_x86_64.whl (33.9 MB)\n",
            "\u001b[2K     \u001b[90m━━━━━━━━━━━━━━━━━━━━━━━━━━━━━━━━━━━━━━━━\u001b[0m \u001b[32m33.9/33.9 MB\u001b[0m \u001b[31m17.0 MB/s\u001b[0m eta \u001b[36m0:00:00\u001b[0m\n",
            "\u001b[?25hRequirement already satisfied: absl-py in /usr/local/lib/python3.10/dist-packages (from mediapipe) (1.4.0)\n",
            "Requirement already satisfied: attrs>=19.1.0 in /usr/local/lib/python3.10/dist-packages (from mediapipe) (23.1.0)\n",
            "Requirement already satisfied: flatbuffers>=2.0 in /usr/local/lib/python3.10/dist-packages (from mediapipe) (23.3.3)\n",
            "Requirement already satisfied: matplotlib in /usr/local/lib/python3.10/dist-packages (from mediapipe) (3.7.1)\n",
            "Requirement already satisfied: numpy in /usr/local/lib/python3.10/dist-packages (from mediapipe) (1.22.4)\n",
            "Requirement already satisfied: opencv-contrib-python in /usr/local/lib/python3.10/dist-packages (from mediapipe) (4.7.0.72)\n",
            "Requirement already satisfied: protobuf<4,>=3.11 in /usr/local/lib/python3.10/dist-packages (from mediapipe) (3.20.3)\n",
            "Collecting sounddevice>=0.4.4 (from mediapipe)\n",
            "  Downloading sounddevice-0.4.6-py3-none-any.whl (31 kB)\n",
            "Requirement already satisfied: CFFI>=1.0 in /usr/local/lib/python3.10/dist-packages (from sounddevice>=0.4.4->mediapipe) (1.15.1)\n",
            "Requirement already satisfied: contourpy>=1.0.1 in /usr/local/lib/python3.10/dist-packages (from matplotlib->mediapipe) (1.0.7)\n",
            "Requirement already satisfied: cycler>=0.10 in /usr/local/lib/python3.10/dist-packages (from matplotlib->mediapipe) (0.11.0)\n",
            "Requirement already satisfied: fonttools>=4.22.0 in /usr/local/lib/python3.10/dist-packages (from matplotlib->mediapipe) (4.39.3)\n",
            "Requirement already satisfied: kiwisolver>=1.0.1 in /usr/local/lib/python3.10/dist-packages (from matplotlib->mediapipe) (1.4.4)\n",
            "Requirement already satisfied: packaging>=20.0 in /usr/local/lib/python3.10/dist-packages (from matplotlib->mediapipe) (23.1)\n",
            "Requirement already satisfied: pillow>=6.2.0 in /usr/local/lib/python3.10/dist-packages (from matplotlib->mediapipe) (8.4.0)\n",
            "Requirement already satisfied: pyparsing>=2.3.1 in /usr/local/lib/python3.10/dist-packages (from matplotlib->mediapipe) (3.0.9)\n",
            "Requirement already satisfied: python-dateutil>=2.7 in /usr/local/lib/python3.10/dist-packages (from matplotlib->mediapipe) (2.8.2)\n",
            "Requirement already satisfied: pycparser in /usr/local/lib/python3.10/dist-packages (from CFFI>=1.0->sounddevice>=0.4.4->mediapipe) (2.21)\n",
            "Requirement already satisfied: six>=1.5 in /usr/local/lib/python3.10/dist-packages (from python-dateutil>=2.7->matplotlib->mediapipe) (1.16.0)\n",
            "Installing collected packages: sounddevice, mediapipe\n",
            "Successfully installed mediapipe-0.10.0 sounddevice-0.4.6\n"
          ]
        }
      ]
    },
    {
      "cell_type": "code",
      "source": [
        "import os\n",
        "import numpy as np\n",
        "import matplotlib.pyplot as plt\n",
        "import cv2\n",
        "from google.colab.patches import cv2_imshow\n",
        "import mediapipe as mp"
      ],
      "metadata": {
        "id": "Kx02ghrkmTs1"
      },
      "execution_count": 2,
      "outputs": []
    },
    {
      "cell_type": "code",
      "execution_count": 3,
      "metadata": {
        "colab": {
          "base_uri": "https://localhost:8080/"
        },
        "id": "IeyK9j2nM49K",
        "outputId": "905ea95e-a599-49c3-fea0-f333964cf2ef"
      },
      "outputs": [
        {
          "output_type": "stream",
          "name": "stdout",
          "text": [
            "Mounted at /content/drive\n"
          ]
        }
      ],
      "source": [
        "from google.colab import drive\n",
        "\n",
        "# Mount Google Drive\n",
        "drive.mount('/content/drive')"
      ]
    },
    {
      "cell_type": "code",
      "source": [
        "# Main project folder\n",
        "folder_principal = r\"/content/drive/MyDrive/VISIONAAAAA/Dataset Proyecto \""
      ],
      "metadata": {
        "id": "FUngB85qDlKq"
      },
      "execution_count": 4,
      "outputs": []
    },
    {
      "cell_type": "code",
      "source": [
        "# Get all subfolders in the main folder\n",
        "folder_palabras = [os.path.join(folder_principal, d) for d in os.listdir(folder_principal) if os.path.isdir(os.path.join(folder_principal, d))]\n",
        "folder_palabras.sort()"
      ],
      "metadata": {
        "id": "pTieD4ofopC6"
      },
      "execution_count": 5,
      "outputs": []
    },
    {
      "cell_type": "code",
      "source": [
        "# Get the names of the subfolders\n",
        "folder_names = [os.path.basename(d) for d in os.listdir(folder_principal) if os.path.isdir(os.path.join(folder_principal, d))]\n",
        "folder_names.sort()"
      ],
      "metadata": {
        "id": "-NyjMfidnueM"
      },
      "execution_count": 6,
      "outputs": []
    },
    {
      "cell_type": "code",
      "source": [
        "# Get video files in each subfolder\n",
        "video_files=[]\n",
        "for folder in folder_palabras:\n",
        "  videos = [os.path.join(folder, f) for f in os.listdir(folder) if f.endswith('.mp4')]\n",
        "  video_files.append(videos)"
      ],
      "metadata": {
        "id": "Bivl6U1dHpR0"
      },
      "execution_count": 7,
      "outputs": []
    },
    {
      "cell_type": "code",
      "source": [
        "# Get video names without the extension\n",
        "video_names = []\n",
        "for folder in folder_palabras:\n",
        "    videos = [os.path.splitext(f)[0] for f in os.listdir(folder) if f.endswith('.mp4')]\n",
        "    video_names.append(videos)"
      ],
      "metadata": {
        "id": "BAp60V47SynH"
      },
      "execution_count": 8,
      "outputs": []
    },
    {
      "cell_type": "code",
      "source": [
        "def get_frames(video):\n",
        "  # Open the video file\n",
        "  video = cv2.VideoCapture(video)\n",
        "  frames=[]\n",
        "  \n",
        "  # Read frames from the video until it is opened\n",
        "  while video.isOpened():\n",
        "      ret, frame = video.read()\n",
        "      if not ret:\n",
        "          break \n",
        "      frames.append(frame)\n",
        "\n",
        "  # Release the video file\n",
        "  video.release()\n",
        "\n",
        "  # Return the frames and the number of frames\n",
        "  return frames,len(frames)"
      ],
      "metadata": {
        "id": "WtPJnW42DNKU"
      },
      "execution_count": 9,
      "outputs": []
    },
    {
      "cell_type": "code",
      "source": [
        "def extraer_puntos_frame(image, output_image):\n",
        "    # MediaPipe constants\n",
        "    MP_DRAWING = mp.solutions.drawing_utils\n",
        "    MP_HANDS = mp.solutions.hands\n",
        "\n",
        "    # Get image dimensions\n",
        "    height, width, _ = image.shape\n",
        "\n",
        "    # Define finger colors\n",
        "    FINGER_COLORS = {\n",
        "        \"thumb\": (0, 255, 0),      # Green\n",
        "        \"index\": (255, 0, 0),      # Blue\n",
        "        \"middle\": (0, 0, 255),     # Red\n",
        "        \"ring\": (255, 255, 0),     # Cyan\n",
        "        \"pinky\": (255, 0, 255),    # Magenta\n",
        "    }\n",
        "\n",
        "    # Run hand detection on the image\n",
        "    with MP_HANDS.Hands(static_image_mode=True, max_num_hands=2, min_detection_confidence=0.5) as hands:\n",
        "        results = hands.process(cv2.cvtColor(image, cv2.COLOR_BGR2RGB))\n",
        "        \n",
        "        # If no hand landmarks are detected, return the original output image\n",
        "        if not results.multi_hand_landmarks:\n",
        "            return output_image\n",
        "        \n",
        "        # Draw circles at each hand landmark\n",
        "        for hand_landmarks in results.multi_hand_landmarks:\n",
        "            for idx, landmark in enumerate(hand_landmarks.landmark):\n",
        "                x, y = int(landmark.x * width), int(landmark.y * height)\n",
        "                \n",
        "                # Determine finger color based on landmark index\n",
        "                if 0 <= idx <= 4: \n",
        "                    color = FINGER_COLORS[\"thumb\"]\n",
        "                elif 4 < idx <= 8:   \n",
        "                    color = FINGER_COLORS[\"index\"]\n",
        "                elif 8 < idx <= 12:  \n",
        "                    color = FINGER_COLORS[\"middle\"]\n",
        "                elif 12 < idx <= 16: \n",
        "                    color = FINGER_COLORS[\"ring\"]\n",
        "                elif 16 < idx <= 20:  \n",
        "                    color = FINGER_COLORS[\"pinky\"]\n",
        "                else:\n",
        "                    continue\n",
        "\n",
        "                # Draw a circle at the landmark position\n",
        "                cv2.circle(output_image, (x, y), 5, color, -1)\n",
        "\n",
        "    # Return the output image with the drawn landmarks\n",
        "    return output_image"
      ],
      "metadata": {
        "id": "vFjmVylXcTCE"
      },
      "execution_count": 10,
      "outputs": []
    },
    {
      "cell_type": "code",
      "source": [
        "def extraer_puntos_video(video):\n",
        "  # Get frames from the video\n",
        "  frames,num_frames=get_frames(video)\n",
        "\n",
        "  # Get dimensions of the first frame\n",
        "  height, width, _ = frames[0].shape\n",
        "\n",
        "  # Create an output image with black background\n",
        "  output_image = np.zeros((height, width, 3), dtype=np.uint8)\n",
        "\n",
        "  # Process each frame and extract hand landmarks\n",
        "  for frame in frames:\n",
        "    output_image=extraer_puntos_frame(frame,output_image)\n",
        "\n",
        "  # Return the final output image with hand landmarks\n",
        "  return output_image"
      ],
      "metadata": {
        "id": "41e6jzsSDWaa"
      },
      "execution_count": 11,
      "outputs": []
    },
    {
      "cell_type": "markdown",
      "source": [
        "The frames are extracted from the video using the \"get_frames\" function, and then each frame is processed using\n",
        " the \"extraer_puntos_frame\" function to extract hand landmarks. The output image is updated with the drawn hand landmarks for\n",
        " each frame, resulting in the final output image with hand landmarks."
      ],
      "metadata": {
        "id": "eUnp7JE75Izk"
      }
    },
    {
      "cell_type": "code",
      "source": [
        "folder_imagenes = r\"/content/drive/MyDrive/VISIONAAAAA/Dataset_images/\""
      ],
      "metadata": {
        "id": "Zx8WjCP6ljoE"
      },
      "execution_count": 14,
      "outputs": []
    },
    {
      "cell_type": "code",
      "source": [
        "path=folder_imagenes+folder_names[5]\n",
        "i=1\n",
        "\n",
        "# Process each video in the video_files[5] list\n",
        "for video in video_files[5]:\n",
        "  # Extract hand landmarks from the video and get the output image\n",
        "  img=extraer_puntos_video(video)\n",
        "\n",
        "  # Create the path for saving the image\n",
        "  path_img=path+\"/\"+str(i)+\".jpg\"\n",
        "\n",
        "  # Save the image\n",
        "  cv2.imwrite(path_img, img)\n",
        "\n",
        "  # Print the path of the saved image\n",
        "  print(path_img)\n",
        "\n",
        "  i+=1"
      ],
      "metadata": {
        "colab": {
          "base_uri": "https://localhost:8080/"
        },
        "id": "JuYvFD1Pum5X",
        "outputId": "438ebfee-fe50-46e6-c32c-0c5dcbd6327b"
      },
      "execution_count": 15,
      "outputs": [
        {
          "output_type": "stream",
          "name": "stdout",
          "text": [
            "/content/drive/MyDrive/VISIONAAAAA/Dataset_images/06 Mama/1.jpg\n",
            "/content/drive/MyDrive/VISIONAAAAA/Dataset_images/06 Mama/2.jpg\n",
            "/content/drive/MyDrive/VISIONAAAAA/Dataset_images/06 Mama/3.jpg\n",
            "/content/drive/MyDrive/VISIONAAAAA/Dataset_images/06 Mama/4.jpg\n",
            "/content/drive/MyDrive/VISIONAAAAA/Dataset_images/06 Mama/5.jpg\n",
            "/content/drive/MyDrive/VISIONAAAAA/Dataset_images/06 Mama/6.jpg\n",
            "/content/drive/MyDrive/VISIONAAAAA/Dataset_images/06 Mama/7.jpg\n",
            "/content/drive/MyDrive/VISIONAAAAA/Dataset_images/06 Mama/8.jpg\n",
            "/content/drive/MyDrive/VISIONAAAAA/Dataset_images/06 Mama/9.jpg\n",
            "/content/drive/MyDrive/VISIONAAAAA/Dataset_images/06 Mama/10.jpg\n",
            "/content/drive/MyDrive/VISIONAAAAA/Dataset_images/06 Mama/11.jpg\n",
            "/content/drive/MyDrive/VISIONAAAAA/Dataset_images/06 Mama/12.jpg\n",
            "/content/drive/MyDrive/VISIONAAAAA/Dataset_images/06 Mama/13.jpg\n",
            "/content/drive/MyDrive/VISIONAAAAA/Dataset_images/06 Mama/14.jpg\n",
            "/content/drive/MyDrive/VISIONAAAAA/Dataset_images/06 Mama/15.jpg\n",
            "/content/drive/MyDrive/VISIONAAAAA/Dataset_images/06 Mama/16.jpg\n",
            "/content/drive/MyDrive/VISIONAAAAA/Dataset_images/06 Mama/17.jpg\n",
            "/content/drive/MyDrive/VISIONAAAAA/Dataset_images/06 Mama/18.jpg\n",
            "/content/drive/MyDrive/VISIONAAAAA/Dataset_images/06 Mama/19.jpg\n",
            "/content/drive/MyDrive/VISIONAAAAA/Dataset_images/06 Mama/20.jpg\n",
            "/content/drive/MyDrive/VISIONAAAAA/Dataset_images/06 Mama/21.jpg\n",
            "/content/drive/MyDrive/VISIONAAAAA/Dataset_images/06 Mama/22.jpg\n",
            "/content/drive/MyDrive/VISIONAAAAA/Dataset_images/06 Mama/23.jpg\n",
            "/content/drive/MyDrive/VISIONAAAAA/Dataset_images/06 Mama/24.jpg\n",
            "/content/drive/MyDrive/VISIONAAAAA/Dataset_images/06 Mama/25.jpg\n",
            "/content/drive/MyDrive/VISIONAAAAA/Dataset_images/06 Mama/26.jpg\n",
            "/content/drive/MyDrive/VISIONAAAAA/Dataset_images/06 Mama/27.jpg\n",
            "/content/drive/MyDrive/VISIONAAAAA/Dataset_images/06 Mama/28.jpg\n",
            "/content/drive/MyDrive/VISIONAAAAA/Dataset_images/06 Mama/29.jpg\n",
            "/content/drive/MyDrive/VISIONAAAAA/Dataset_images/06 Mama/30.jpg\n",
            "/content/drive/MyDrive/VISIONAAAAA/Dataset_images/06 Mama/31.jpg\n",
            "/content/drive/MyDrive/VISIONAAAAA/Dataset_images/06 Mama/32.jpg\n",
            "/content/drive/MyDrive/VISIONAAAAA/Dataset_images/06 Mama/33.jpg\n",
            "/content/drive/MyDrive/VISIONAAAAA/Dataset_images/06 Mama/34.jpg\n",
            "/content/drive/MyDrive/VISIONAAAAA/Dataset_images/06 Mama/35.jpg\n",
            "/content/drive/MyDrive/VISIONAAAAA/Dataset_images/06 Mama/36.jpg\n",
            "/content/drive/MyDrive/VISIONAAAAA/Dataset_images/06 Mama/37.jpg\n",
            "/content/drive/MyDrive/VISIONAAAAA/Dataset_images/06 Mama/38.jpg\n",
            "/content/drive/MyDrive/VISIONAAAAA/Dataset_images/06 Mama/39.jpg\n",
            "/content/drive/MyDrive/VISIONAAAAA/Dataset_images/06 Mama/40.jpg\n",
            "/content/drive/MyDrive/VISIONAAAAA/Dataset_images/06 Mama/41.jpg\n",
            "/content/drive/MyDrive/VISIONAAAAA/Dataset_images/06 Mama/42.jpg\n",
            "/content/drive/MyDrive/VISIONAAAAA/Dataset_images/06 Mama/43.jpg\n",
            "/content/drive/MyDrive/VISIONAAAAA/Dataset_images/06 Mama/44.jpg\n",
            "/content/drive/MyDrive/VISIONAAAAA/Dataset_images/06 Mama/45.jpg\n",
            "/content/drive/MyDrive/VISIONAAAAA/Dataset_images/06 Mama/46.jpg\n",
            "/content/drive/MyDrive/VISIONAAAAA/Dataset_images/06 Mama/47.jpg\n",
            "/content/drive/MyDrive/VISIONAAAAA/Dataset_images/06 Mama/48.jpg\n",
            "/content/drive/MyDrive/VISIONAAAAA/Dataset_images/06 Mama/49.jpg\n",
            "/content/drive/MyDrive/VISIONAAAAA/Dataset_images/06 Mama/50.jpg\n",
            "/content/drive/MyDrive/VISIONAAAAA/Dataset_images/06 Mama/51.jpg\n",
            "/content/drive/MyDrive/VISIONAAAAA/Dataset_images/06 Mama/52.jpg\n",
            "/content/drive/MyDrive/VISIONAAAAA/Dataset_images/06 Mama/53.jpg\n",
            "/content/drive/MyDrive/VISIONAAAAA/Dataset_images/06 Mama/54.jpg\n",
            "/content/drive/MyDrive/VISIONAAAAA/Dataset_images/06 Mama/55.jpg\n",
            "/content/drive/MyDrive/VISIONAAAAA/Dataset_images/06 Mama/56.jpg\n",
            "/content/drive/MyDrive/VISIONAAAAA/Dataset_images/06 Mama/57.jpg\n",
            "/content/drive/MyDrive/VISIONAAAAA/Dataset_images/06 Mama/58.jpg\n",
            "/content/drive/MyDrive/VISIONAAAAA/Dataset_images/06 Mama/59.jpg\n",
            "/content/drive/MyDrive/VISIONAAAAA/Dataset_images/06 Mama/60.jpg\n",
            "/content/drive/MyDrive/VISIONAAAAA/Dataset_images/06 Mama/61.jpg\n",
            "/content/drive/MyDrive/VISIONAAAAA/Dataset_images/06 Mama/62.jpg\n",
            "/content/drive/MyDrive/VISIONAAAAA/Dataset_images/06 Mama/63.jpg\n",
            "/content/drive/MyDrive/VISIONAAAAA/Dataset_images/06 Mama/64.jpg\n",
            "/content/drive/MyDrive/VISIONAAAAA/Dataset_images/06 Mama/65.jpg\n",
            "/content/drive/MyDrive/VISIONAAAAA/Dataset_images/06 Mama/66.jpg\n",
            "/content/drive/MyDrive/VISIONAAAAA/Dataset_images/06 Mama/67.jpg\n",
            "/content/drive/MyDrive/VISIONAAAAA/Dataset_images/06 Mama/68.jpg\n",
            "/content/drive/MyDrive/VISIONAAAAA/Dataset_images/06 Mama/69.jpg\n",
            "/content/drive/MyDrive/VISIONAAAAA/Dataset_images/06 Mama/70.jpg\n",
            "/content/drive/MyDrive/VISIONAAAAA/Dataset_images/06 Mama/71.jpg\n",
            "/content/drive/MyDrive/VISIONAAAAA/Dataset_images/06 Mama/72.jpg\n",
            "/content/drive/MyDrive/VISIONAAAAA/Dataset_images/06 Mama/73.jpg\n",
            "/content/drive/MyDrive/VISIONAAAAA/Dataset_images/06 Mama/74.jpg\n",
            "/content/drive/MyDrive/VISIONAAAAA/Dataset_images/06 Mama/75.jpg\n",
            "/content/drive/MyDrive/VISIONAAAAA/Dataset_images/06 Mama/76.jpg\n",
            "/content/drive/MyDrive/VISIONAAAAA/Dataset_images/06 Mama/77.jpg\n",
            "/content/drive/MyDrive/VISIONAAAAA/Dataset_images/06 Mama/78.jpg\n",
            "/content/drive/MyDrive/VISIONAAAAA/Dataset_images/06 Mama/79.jpg\n",
            "/content/drive/MyDrive/VISIONAAAAA/Dataset_images/06 Mama/80.jpg\n",
            "/content/drive/MyDrive/VISIONAAAAA/Dataset_images/06 Mama/81.jpg\n",
            "/content/drive/MyDrive/VISIONAAAAA/Dataset_images/06 Mama/82.jpg\n",
            "/content/drive/MyDrive/VISIONAAAAA/Dataset_images/06 Mama/83.jpg\n",
            "/content/drive/MyDrive/VISIONAAAAA/Dataset_images/06 Mama/84.jpg\n",
            "/content/drive/MyDrive/VISIONAAAAA/Dataset_images/06 Mama/85.jpg\n",
            "/content/drive/MyDrive/VISIONAAAAA/Dataset_images/06 Mama/86.jpg\n",
            "/content/drive/MyDrive/VISIONAAAAA/Dataset_images/06 Mama/87.jpg\n",
            "/content/drive/MyDrive/VISIONAAAAA/Dataset_images/06 Mama/88.jpg\n",
            "/content/drive/MyDrive/VISIONAAAAA/Dataset_images/06 Mama/89.jpg\n",
            "/content/drive/MyDrive/VISIONAAAAA/Dataset_images/06 Mama/90.jpg\n",
            "/content/drive/MyDrive/VISIONAAAAA/Dataset_images/06 Mama/91.jpg\n",
            "/content/drive/MyDrive/VISIONAAAAA/Dataset_images/06 Mama/92.jpg\n",
            "/content/drive/MyDrive/VISIONAAAAA/Dataset_images/06 Mama/93.jpg\n",
            "/content/drive/MyDrive/VISIONAAAAA/Dataset_images/06 Mama/94.jpg\n",
            "/content/drive/MyDrive/VISIONAAAAA/Dataset_images/06 Mama/95.jpg\n",
            "/content/drive/MyDrive/VISIONAAAAA/Dataset_images/06 Mama/96.jpg\n",
            "/content/drive/MyDrive/VISIONAAAAA/Dataset_images/06 Mama/97.jpg\n",
            "/content/drive/MyDrive/VISIONAAAAA/Dataset_images/06 Mama/98.jpg\n",
            "/content/drive/MyDrive/VISIONAAAAA/Dataset_images/06 Mama/99.jpg\n",
            "/content/drive/MyDrive/VISIONAAAAA/Dataset_images/06 Mama/100.jpg\n",
            "/content/drive/MyDrive/VISIONAAAAA/Dataset_images/06 Mama/101.jpg\n",
            "/content/drive/MyDrive/VISIONAAAAA/Dataset_images/06 Mama/102.jpg\n",
            "/content/drive/MyDrive/VISIONAAAAA/Dataset_images/06 Mama/103.jpg\n",
            "/content/drive/MyDrive/VISIONAAAAA/Dataset_images/06 Mama/104.jpg\n",
            "/content/drive/MyDrive/VISIONAAAAA/Dataset_images/06 Mama/105.jpg\n",
            "/content/drive/MyDrive/VISIONAAAAA/Dataset_images/06 Mama/106.jpg\n",
            "/content/drive/MyDrive/VISIONAAAAA/Dataset_images/06 Mama/107.jpg\n",
            "/content/drive/MyDrive/VISIONAAAAA/Dataset_images/06 Mama/108.jpg\n",
            "/content/drive/MyDrive/VISIONAAAAA/Dataset_images/06 Mama/109.jpg\n",
            "/content/drive/MyDrive/VISIONAAAAA/Dataset_images/06 Mama/110.jpg\n",
            "/content/drive/MyDrive/VISIONAAAAA/Dataset_images/06 Mama/111.jpg\n",
            "/content/drive/MyDrive/VISIONAAAAA/Dataset_images/06 Mama/112.jpg\n",
            "/content/drive/MyDrive/VISIONAAAAA/Dataset_images/06 Mama/113.jpg\n",
            "/content/drive/MyDrive/VISIONAAAAA/Dataset_images/06 Mama/114.jpg\n",
            "/content/drive/MyDrive/VISIONAAAAA/Dataset_images/06 Mama/115.jpg\n",
            "/content/drive/MyDrive/VISIONAAAAA/Dataset_images/06 Mama/116.jpg\n",
            "/content/drive/MyDrive/VISIONAAAAA/Dataset_images/06 Mama/117.jpg\n",
            "/content/drive/MyDrive/VISIONAAAAA/Dataset_images/06 Mama/118.jpg\n",
            "/content/drive/MyDrive/VISIONAAAAA/Dataset_images/06 Mama/119.jpg\n",
            "/content/drive/MyDrive/VISIONAAAAA/Dataset_images/06 Mama/120.jpg\n",
            "/content/drive/MyDrive/VISIONAAAAA/Dataset_images/06 Mama/121.jpg\n",
            "/content/drive/MyDrive/VISIONAAAAA/Dataset_images/06 Mama/122.jpg\n",
            "/content/drive/MyDrive/VISIONAAAAA/Dataset_images/06 Mama/123.jpg\n",
            "/content/drive/MyDrive/VISIONAAAAA/Dataset_images/06 Mama/124.jpg\n",
            "/content/drive/MyDrive/VISIONAAAAA/Dataset_images/06 Mama/125.jpg\n",
            "/content/drive/MyDrive/VISIONAAAAA/Dataset_images/06 Mama/126.jpg\n",
            "/content/drive/MyDrive/VISIONAAAAA/Dataset_images/06 Mama/127.jpg\n",
            "/content/drive/MyDrive/VISIONAAAAA/Dataset_images/06 Mama/128.jpg\n",
            "/content/drive/MyDrive/VISIONAAAAA/Dataset_images/06 Mama/129.jpg\n",
            "/content/drive/MyDrive/VISIONAAAAA/Dataset_images/06 Mama/130.jpg\n",
            "/content/drive/MyDrive/VISIONAAAAA/Dataset_images/06 Mama/131.jpg\n",
            "/content/drive/MyDrive/VISIONAAAAA/Dataset_images/06 Mama/132.jpg\n",
            "/content/drive/MyDrive/VISIONAAAAA/Dataset_images/06 Mama/133.jpg\n",
            "/content/drive/MyDrive/VISIONAAAAA/Dataset_images/06 Mama/134.jpg\n",
            "/content/drive/MyDrive/VISIONAAAAA/Dataset_images/06 Mama/135.jpg\n",
            "/content/drive/MyDrive/VISIONAAAAA/Dataset_images/06 Mama/136.jpg\n",
            "/content/drive/MyDrive/VISIONAAAAA/Dataset_images/06 Mama/137.jpg\n",
            "/content/drive/MyDrive/VISIONAAAAA/Dataset_images/06 Mama/138.jpg\n",
            "/content/drive/MyDrive/VISIONAAAAA/Dataset_images/06 Mama/139.jpg\n",
            "/content/drive/MyDrive/VISIONAAAAA/Dataset_images/06 Mama/140.jpg\n",
            "/content/drive/MyDrive/VISIONAAAAA/Dataset_images/06 Mama/141.jpg\n",
            "/content/drive/MyDrive/VISIONAAAAA/Dataset_images/06 Mama/142.jpg\n",
            "/content/drive/MyDrive/VISIONAAAAA/Dataset_images/06 Mama/143.jpg\n",
            "/content/drive/MyDrive/VISIONAAAAA/Dataset_images/06 Mama/144.jpg\n",
            "/content/drive/MyDrive/VISIONAAAAA/Dataset_images/06 Mama/145.jpg\n",
            "/content/drive/MyDrive/VISIONAAAAA/Dataset_images/06 Mama/146.jpg\n",
            "/content/drive/MyDrive/VISIONAAAAA/Dataset_images/06 Mama/147.jpg\n",
            "/content/drive/MyDrive/VISIONAAAAA/Dataset_images/06 Mama/148.jpg\n",
            "/content/drive/MyDrive/VISIONAAAAA/Dataset_images/06 Mama/149.jpg\n",
            "/content/drive/MyDrive/VISIONAAAAA/Dataset_images/06 Mama/150.jpg\n",
            "/content/drive/MyDrive/VISIONAAAAA/Dataset_images/06 Mama/151.jpg\n",
            "/content/drive/MyDrive/VISIONAAAAA/Dataset_images/06 Mama/152.jpg\n",
            "/content/drive/MyDrive/VISIONAAAAA/Dataset_images/06 Mama/153.jpg\n",
            "/content/drive/MyDrive/VISIONAAAAA/Dataset_images/06 Mama/154.jpg\n",
            "/content/drive/MyDrive/VISIONAAAAA/Dataset_images/06 Mama/155.jpg\n",
            "/content/drive/MyDrive/VISIONAAAAA/Dataset_images/06 Mama/156.jpg\n",
            "/content/drive/MyDrive/VISIONAAAAA/Dataset_images/06 Mama/157.jpg\n",
            "/content/drive/MyDrive/VISIONAAAAA/Dataset_images/06 Mama/158.jpg\n",
            "/content/drive/MyDrive/VISIONAAAAA/Dataset_images/06 Mama/159.jpg\n",
            "/content/drive/MyDrive/VISIONAAAAA/Dataset_images/06 Mama/160.jpg\n"
          ]
        }
      ]
    },
    {
      "cell_type": "markdown",
      "source": [
        "\n",
        "\n",
        "\n",
        " The extracted hand\n",
        " landmarks are then saved as individual images in the specified\n",
        " folder path. The loop iterates over the video files in video_files[5]\n",
        " and for each video, it calls the extraer_puntos_video function to\n",
        " extract hand landmarks and obtain the output image. The image is\n",
        " then saved with a unique filename in the folder path. Finally, the\n",
        " path of each saved image is printed."
      ],
      "metadata": {
        "id": "2O2O8WXB5F3j"
      }
    }
  ]
}